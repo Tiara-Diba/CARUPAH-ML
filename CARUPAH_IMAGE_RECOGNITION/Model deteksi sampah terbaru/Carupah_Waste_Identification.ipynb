{
  "cells": [
    {
      "cell_type": "code",
      "execution_count": 3,
      "metadata": {
        "id": "ROGRO6LlBUgr"
      },
      "outputs": [],
      "source": [
        "import numpy as np\n",
        "import tensorflow as tf\n",
        "# import tensorflow_hub as hub\n",
        "# import tensorflow_datasets as tfds\n",
        "# from tqdm import tqdm\n",
        "import PIL\n",
        "import PIL.Image\n",
        "import matplotlib.pyplot as plt\n",
        "from tensorflow.keras.preprocessing.image import ImageDataGenerator\n",
        "import os"
      ]
    },
    {
      "cell_type": "code",
      "execution_count": 27,
      "metadata": {},
      "outputs": [
        {
          "name": "stdout",
          "output_type": "stream",
          "text": [
            "2.12.0\n"
          ]
        }
      ],
      "source": [
        "print(tf.__version__)"
      ]
    },
    {
      "attachments": {},
      "cell_type": "markdown",
      "metadata": {},
      "source": [
        "# **SETUP**"
      ]
    },
    {
      "cell_type": "code",
      "execution_count": 5,
      "metadata": {},
      "outputs": [],
      "source": [
        "# module_selection = (\"mobilenet_v2\", 224, 1280) #@param [\"(\\\"mobilenet_v2\\\", 224, 1280)\", \"(\\\"inception_v3\\\", 299, 2048)\"] {type:\"raw\", allow-input: true}\n",
        "# handle_base, pixels, FV_SIZE = module_selection\n",
        "# MODULE_HANDLE =\"https://tfhub.dev/google/tf2-preview/{}/feature_vector/4\".format(handle_base)\n",
        "# IMAGE_SIZE = (pixels, pixels)\n",
        "# print(\"Using {} with input size {} and output dimension {}\".format(MODULE_HANDLE, IMAGE_SIZE, FV_SIZE))"
      ]
    },
    {
      "cell_type": "code",
      "execution_count": 6,
      "metadata": {},
      "outputs": [],
      "source": [
        "# Load data\n",
        "import pathlib\n",
        "lokasi = r\"C:\\Users\\jonat\\Downloads\\Bangkit 2023 Capstone\\WasteDataset\"\n",
        "data_dir = pathlib.Path(lokasi).with_suffix('')"
      ]
    },
    {
      "attachments": {},
      "cell_type": "markdown",
      "metadata": {},
      "source": [
        "# **Load Image**"
      ]
    },
    {
      "attachments": {},
      "cell_type": "markdown",
      "metadata": {},
      "source": [
        "**Contoh visualisasi data**"
      ]
    },
    {
      "cell_type": "code",
      "execution_count": 7,
      "metadata": {},
      "outputs": [],
      "source": [
        "# plt.figure(figsize=(10,10))\n",
        "# for gambar, kelas in train_data.take(1):\n",
        "#     for i in range(6):\n",
        "#         ax = plt.subplot(3, 3, i+1)\n",
        "#         plt.imshow(gambar[i].numpy().astype(\"uint8\"))\n",
        "#         plt.title(nama_kelas[kelas[i]])\n",
        "#         plt.axis(\"off\")"
      ]
    },
    {
      "attachments": {},
      "cell_type": "markdown",
      "metadata": {
        "id": "x8OC7iQWBWZI"
      },
      "source": [
        "# **Data Preprocesing**"
      ]
    },
    {
      "attachments": {},
      "cell_type": "markdown",
      "metadata": {},
      "source": [
        "**Parameter**"
      ]
    },
    {
      "cell_type": "code",
      "execution_count": 8,
      "metadata": {},
      "outputs": [],
      "source": [
        "# batch_size = 32\n",
        "img_height = 256\n",
        "img_width = 256"
      ]
    },
    {
      "attachments": {},
      "cell_type": "markdown",
      "metadata": {},
      "source": [
        "**Splitting data train dan test**"
      ]
    },
    {
      "cell_type": "code",
      "execution_count": 9,
      "metadata": {},
      "outputs": [
        {
          "name": "stdout",
          "output_type": "stream",
          "text": [
            "11405\n"
          ]
        }
      ],
      "source": [
        "image_count = len(list(data_dir.glob('*/*.jpg')))\n",
        "print(image_count)"
      ]
    },
    {
      "attachments": {},
      "cell_type": "markdown",
      "metadata": {},
      "source": [
        "**Format Data**"
      ]
    },
    {
      "cell_type": "code",
      "execution_count": 10,
      "metadata": {},
      "outputs": [],
      "source": [
        "# train_data = tf.keras.utils.image_dataset_from_directory(\n",
        "#   data_dir,\n",
        "#   validation_split=0.2,\n",
        "#   subset=\"training\",\n",
        "#   seed=123,\n",
        "#   # image_size=(img_height, img_width),\n",
        "#   # batch_size=batch_size,\n",
        "#   shuffle=True)"
      ]
    },
    {
      "cell_type": "code",
      "execution_count": 11,
      "metadata": {},
      "outputs": [],
      "source": [
        "# val_data = tf.keras.utils.image_dataset_from_directory(\n",
        "#   data_dir,\n",
        "#   validation_split=0.2,\n",
        "#   subset=\"validation\",\n",
        "#   seed=123,\n",
        "#   # image_size=(img_height, img_width),\n",
        "#   # batch_size=batch_size,\n",
        "#   shuffle=True)"
      ]
    },
    {
      "attachments": {},
      "cell_type": "markdown",
      "metadata": {},
      "source": [
        "**Augmentasi**"
      ]
    },
    {
      "cell_type": "code",
      "execution_count": 13,
      "metadata": {},
      "outputs": [],
      "source": [
        "def aug(data,validasi):\n",
        "    train_datagen = ImageDataGenerator(rescale=1.0/255.\n",
        "                                        # rotation_range=40,\n",
        "                                        # width_shift_range=0.2,\n",
        "                                        # height_shift_range=0.2,\n",
        "                                        # shear_range=0.2,\n",
        "                                        # zoom_range=0.2,\n",
        "                                        # horizontal_flip=True,\n",
        "                                        # fill_mode='nearest'\n",
        "                                        )\n",
        "\n",
        "    # Pass in the appropriate arguments to the flow_from_directory method\n",
        "    train_generator = train_datagen.flow_from_directory(directory=data,\n",
        "                                                        batch_size=32,\n",
        "                                                        class_mode='sparse',\n",
        "                                                        target_size=(img_height, img_width))\n",
        "\n",
        "    # Instantiate the ImageDataGenerator class (don't forget to set the rescale argument)\n",
        "    validation_datagen = ImageDataGenerator(rescale = 1./255)\n",
        "\n",
        "    # Pass in the appropriate arguments to the flow_from_directory method\n",
        "    validation_generator = validation_datagen.flow_from_directory(directory=validasi,\n",
        "                                                                batch_size=32,\n",
        "                                                                class_mode='sparse',\n",
        "                                                                target_size=(img_height, img_width))\n",
        "    ### END CODE HERE\n",
        "    return train_generator, validation_generator"
      ]
    },
    {
      "cell_type": "code",
      "execution_count": 14,
      "metadata": {},
      "outputs": [
        {
          "name": "stdout",
          "output_type": "stream",
          "text": [
            "Found 9121 images belonging to 6 classes.\n"
          ]
        },
        {
          "name": "stdout",
          "output_type": "stream",
          "text": [
            "Found 2284 images belonging to 6 classes.\n"
          ]
        }
      ],
      "source": [
        "train_generator, validation_generator = aug(r'C:\\Users\\jonat\\Downloads\\Bangkit 2023 Capstone\\classification_data_3\\train', r'C:\\Users\\jonat\\Downloads\\Bangkit 2023 Capstone\\classification_data_3\\val')"
      ]
    },
    {
      "attachments": {},
      "cell_type": "markdown",
      "metadata": {},
      "source": [
        "**Info Batch**"
      ]
    },
    {
      "cell_type": "code",
      "execution_count": 15,
      "metadata": {},
      "outputs": [
        {
          "name": "stdout",
          "output_type": "stream",
          "text": [
            "(32, 256, 256, 3)\n",
            "(32,)\n"
          ]
        }
      ],
      "source": [
        "# banyaknya batch dan ukuran data\n",
        "for batch_gambar, batch_kelas in validation_generator:\n",
        "    print(batch_gambar.shape)\n",
        "    print(batch_kelas.shape)\n",
        "    break"
      ]
    },
    {
      "cell_type": "code",
      "execution_count": 33,
      "metadata": {},
      "outputs": [
        {
          "name": "stdout",
          "output_type": "stream",
          "text": [
            "6\n",
            "{'AluCan': 0, 'Cardboard': 1, 'Detergent': 2, 'Glass': 3, 'HDPEM': 4, 'PET': 5}\n"
          ]
        }
      ],
      "source": [
        "nama_kelas = validation_generator.class_indices\n",
        "banyak_kelas = len(nama_kelas)\n",
        "print(banyak_kelas)\n",
        "print(nama_kelas)"
      ]
    },
    {
      "attachments": {},
      "cell_type": "markdown",
      "metadata": {},
      "source": [
        "# **Buat Model**"
      ]
    },
    {
      "attachments": {},
      "cell_type": "markdown",
      "metadata": {},
      "source": [
        "**Optimizer**"
      ]
    },
    {
      "cell_type": "code",
      "execution_count": 16,
      "metadata": {
        "cellView": "code",
        "id": "eb9eeb74",
        "tags": []
      },
      "outputs": [],
      "source": [
        "def create_model():\n",
        "\n",
        "  model = tf.keras.models.Sequential([\n",
        "    # Layer Normalisasi\n",
        "    # tf.keras.layers.Rescaling(1/255.),\n",
        "    # Convo Pertama\n",
        "    tf.keras.layers.Conv2D(16, (3,3), activation='relu', input_shape=(256, 256, 3)),\n",
        "    tf.keras.layers.MaxPooling2D(2, 2),\n",
        "    # tf.keras.layers.Dropout(0.5),\n",
        "    \n",
        "    # Convo Kedua\n",
        "    tf.keras.layers.Conv2D(32, (3,3), activation='relu'),\n",
        "    tf.keras.layers.MaxPooling2D(2,2),\n",
        "    # tf.keras.layers.Dropout(0.2),\n",
        "\n",
        "    # Convo layer ketiga\n",
        "    tf.keras.layers.Conv2D(64, (3,3), activation='relu'), \n",
        "    tf.keras.layers.MaxPooling2D(2,2),\n",
        "\n",
        "    # Flatten\n",
        "    tf.keras.layers.Flatten(),\n",
        "    tf.keras.layers.Dense(512, activation='relu'),\n",
        "    # extractor,\n",
        "    tf.keras.layers.Dense(6, activation='softmax')\n",
        "])\n",
        "\n",
        "  model.compile(optimizer = tf.keras.optimizers.RMSprop(learning_rate=0.001),\n",
        "                loss = 'sparse_categorical_crossentropy',\n",
        "                metrics=['accuracy'])\n",
        "\n",
        "  return model "
      ]
    },
    {
      "cell_type": "code",
      "execution_count": 19,
      "metadata": {
        "colab": {
          "base_uri": "https://localhost:8080/",
          "height": 236
        },
        "id": "qcKp7gAiByBd",
        "outputId": "34ef2093-c647-4736-b31e-651f47d6408b"
      },
      "outputs": [
        {
          "name": "stdout",
          "output_type": "stream",
          "text": [
            "Epoch 1/15\n",
            "100/100 [==============================] - 128s 1s/step - loss: 1.7185 - accuracy: 0.3847 - val_loss: 2.1623 - val_accuracy: 0.3300\n",
            "Epoch 2/15\n",
            "100/100 [==============================] - 122s 1s/step - loss: 1.2242 - accuracy: 0.5112 - val_loss: 1.3445 - val_accuracy: 0.4219\n",
            "Epoch 3/15\n",
            "100/100 [==============================] - 120s 1s/step - loss: 1.0560 - accuracy: 0.5834 - val_loss: 1.0082 - val_accuracy: 0.5975\n",
            "Epoch 4/15\n",
            "100/100 [==============================] - 118s 1s/step - loss: 0.9605 - accuracy: 0.6273 - val_loss: 0.9899 - val_accuracy: 0.6212\n",
            "Epoch 5/15\n",
            "100/100 [==============================] - 117s 1s/step - loss: 0.8564 - accuracy: 0.6854 - val_loss: 1.0444 - val_accuracy: 0.6100\n",
            "Epoch 6/15\n",
            "100/100 [==============================] - 116s 1s/step - loss: 0.7343 - accuracy: 0.7259 - val_loss: 0.8577 - val_accuracy: 0.6875\n",
            "Epoch 7/15\n",
            "100/100 [==============================] - 115s 1s/step - loss: 0.6712 - accuracy: 0.7554 - val_loss: 0.7957 - val_accuracy: 0.7163\n",
            "Epoch 8/15\n",
            "100/100 [==============================] - 115s 1s/step - loss: 0.6194 - accuracy: 0.7812 - val_loss: 0.7387 - val_accuracy: 0.7494\n",
            "Epoch 9/15\n",
            "100/100 [==============================] - 115s 1s/step - loss: 0.5220 - accuracy: 0.8213 - val_loss: 0.9767 - val_accuracy: 0.6800\n",
            "Epoch 10/15\n",
            "100/100 [==============================] - 115s 1s/step - loss: 0.4444 - accuracy: 0.8522 - val_loss: 0.8052 - val_accuracy: 0.7462\n",
            "Epoch 11/15\n",
            "100/100 [==============================] - 118s 1s/step - loss: 0.3725 - accuracy: 0.8672 - val_loss: 0.8143 - val_accuracy: 0.7569\n",
            "Epoch 12/15\n",
            "100/100 [==============================] - 119s 1s/step - loss: 0.3263 - accuracy: 0.8891 - val_loss: 0.8306 - val_accuracy: 0.7669\n",
            "Epoch 13/15\n",
            "100/100 [==============================] - 119s 1s/step - loss: 0.2954 - accuracy: 0.9050 - val_loss: 0.8208 - val_accuracy: 0.7756\n",
            "Epoch 14/15\n",
            "100/100 [==============================] - 117s 1s/step - loss: 0.2249 - accuracy: 0.9287 - val_loss: 0.9706 - val_accuracy: 0.7481\n",
            "Epoch 15/15\n",
            "100/100 [==============================] - 117s 1s/step - loss: 0.2434 - accuracy: 0.9252 - val_loss: 0.7028 - val_accuracy: 0.8050\n"
          ]
        }
      ],
      "source": [
        "# Save model\n",
        "model = create_model()\n",
        "\n",
        "# Train model\n",
        "history = model.fit(train_generator,\n",
        "                    validation_data=validation_generator,\n",
        "                    epochs=15,\n",
        "                    steps_per_epoch=100,\n",
        "                    validation_steps=50)"
      ]
    },
    {
      "cell_type": "code",
      "execution_count": 20,
      "metadata": {
        "colab": {
          "base_uri": "https://localhost:8080/",
          "height": 887
        },
        "id": "07b2b989",
        "outputId": "3f379376-dbb4-4d80-9b9c-d5ca627be788",
        "tags": []
      },
      "outputs": [
        {
          "data": {
            "image/png": "[encoded data removed]",
            "text/plain": [
              "<Figure size 640x480 with 1 Axes>"
            ]
          },
          "metadata": {},
          "output_type": "display_data"
        },
        {
          "data": {
            "image/png": "[encoded data removed]",
            "text/plain": [
              "<Figure size 640x480 with 1 Axes>"
            ]
          },
          "metadata": {},
          "output_type": "display_data"
        }
      ],
      "source": [
        "acc = history.history['accuracy']\n",
        "val_acc = history.history['val_accuracy']\n",
        "loss = history.history['loss']\n",
        "val_loss = history.history['val_loss']\n",
        "\n",
        "epochs = range(len(acc))\n",
        "\n",
        "plt.plot(epochs, acc, 'r', label='Training accuracy')\n",
        "plt.plot(epochs, val_acc, 'b', label='Validation accuracy')\n",
        "plt.title('Training and validation accuracy')\n",
        "plt.legend()\n",
        "plt.figure()\n",
        "\n",
        "plt.plot(epochs, loss, 'r', label='Training Loss')\n",
        "plt.plot(epochs, val_loss, 'b', label='Validation Loss')\n",
        "plt.title('Training and validation loss')\n",
        "plt.legend()\n",
        "\n",
        "plt.show()"
      ]
    },
    {
      "attachments": {},
      "cell_type": "markdown",
      "metadata": {},
      "source": [
        "# **Save Model**"
      ]
    },
    {
      "attachments": {},
      "cell_type": "markdown",
      "metadata": {},
      "source": [
        "**TF Lite**"
      ]
    },
    {
      "cell_type": "code",
      "execution_count": 21,
      "metadata": {},
      "outputs": [
        {
          "name": "stderr",
          "output_type": "stream",
          "text": [
            "WARNING:absl:Found untraced functions such as _jit_compiled_convolution_op, _jit_compiled_convolution_op, _jit_compiled_convolution_op, _update_step_xla while saving (showing 4 of 4). These functions will not be directly callable after loading.\n"
          ]
        },
        {
          "name": "stdout",
          "output_type": "stream",
          "text": [
            "INFO:tensorflow:Assets written to: ./model_1_1\\assets\n"
          ]
        },
        {
          "name": "stderr",
          "output_type": "stream",
          "text": [
            "INFO:tensorflow:Assets written to: ./model_1_1\\assets\n"
          ]
        }
      ],
      "source": [
        "export_dir = './model_1_1'\n",
        "tf.saved_model.save(model, export_dir)"
      ]
    },
    {
      "cell_type": "code",
      "execution_count": 22,
      "metadata": {},
      "outputs": [],
      "source": [
        "mode = \"Speed\"\n",
        "\n",
        "if mode == 'Storage':\n",
        "    optimization = tf.lite.Optimize.OPTIMIZE_FOR_SIZE\n",
        "elif mode == 'Speed':\n",
        "    optimization = tf.lite.Optimize.OPTIMIZE_FOR_LATENCY\n",
        "else:\n",
        "    optimization = tf.lite.Optimize.DEFAULT"
      ]
    },
    {
      "cell_type": "code",
      "execution_count": 23,
      "metadata": {},
      "outputs": [],
      "source": [
        "converter = tf.lite.TFLiteConverter.from_saved_model(export_dir)\n",
        "converter.optimizations = [tf.lite.Optimize.DEFAULT]\n",
        "tflite_model = converter.convert()"
      ]
    },
    {
      "cell_type": "code",
      "execution_count": 24,
      "metadata": {},
      "outputs": [
        {
          "data": {
            "text/plain": [
              "29527064"
            ]
          },
          "execution_count": 24,
          "metadata": {},
          "output_type": "execute_result"
        }
      ],
      "source": [
        "tflite_model_file = pathlib.Path('carupah_model_2.tflite')\n",
        "tflite_model_file.write_bytes(tflite_model)"
      ]
    },
    {
      "attachments": {},
      "cell_type": "markdown",
      "metadata": {},
      "source": [
        "**JS**"
      ]
    },
    {
      "cell_type": "code",
      "execution_count": 25,
      "metadata": {},
      "outputs": [],
      "source": [
        "import time\n",
        "\n",
        "saved_model_path = \"carupah_model_2.h5\".format(int(time.time()))\n",
        "\n",
        "model.save(saved_model_path)"
      ]
    },
    {
      "attachments": {},
      "cell_type": "markdown",
      "metadata": {},
      "source": [
        "**JS Converter**"
      ]
    },
    {
      "cell_type": "code",
      "execution_count": 31,
      "metadata": {},
      "outputs": [],
      "source": [
        "!tensorflowjs_converter --input_format=keras {saved_model_path} ./"
      ]
    },
    {
      "attachments": {},
      "cell_type": "markdown",
      "metadata": {},
      "source": [
        "**Saved Python Object**"
      ]
    },
    {
      "cell_type": "code",
      "execution_count": null,
      "metadata": {},
      "outputs": [],
      "source": [
        "import pickle\n",
        "pickle.dump(nama_kelas, open('data_classes.pkl','wb'))"
      ]
    }
  ],
  "metadata": {
    "colab": {
      "provenance": []
    },
    "kernelspec": {
      "display_name": "Python 3",
      "name": "python3"
    },
    "language_info": {
      "codemirror_mode": {
        "name": "ipython",
        "version": 3
      },
      "file_extension": ".py",
      "mimetype": "text/x-python",
      "name": "python",
      "nbconvert_exporter": "python",
      "pygments_lexer": "ipython3",
      "version": "3.11.3"
    }
  },
  "nbformat": 4,
  "nbformat_minor": 0
}
