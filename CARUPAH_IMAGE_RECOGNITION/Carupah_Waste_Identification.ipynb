{
  "cells": [
    {
      "cell_type": "code",
      "execution_count": 1,
      "metadata": {
        "id": "ROGRO6LlBUgr"
      },
      "outputs": [
        {
          "name": "stderr",
          "output_type": "stream",
          "text": [
            "c:\\Users\\jonat\\AppData\\Local\\Programs\\Python\\Python311\\Lib\\site-packages\\tqdm\\auto.py:21: TqdmWarning: IProgress not found. Please update jupyter and ipywidgets. See https://ipywidgets.readthedocs.io/en/stable/user_install.html\n",
            "  from .autonotebook import tqdm as notebook_tqdm\n"
          ]
        }
      ],
      "source": [
        "import numpy as np\n",
        "import tensorflow as tf\n",
        "import tensorflow_hub as hub\n",
        "import tensorflow_datasets as tfds\n",
        "from tqdm import tqdm\n",
        "import PIL\n",
        "import PIL.Image\n",
        "import matplotlib.pyplot as plt\n",
        "from tensorflow.keras.preprocessing.image import ImageDataGenerator\n",
        "import os"
      ]
    },
    {
      "cell_type": "code",
      "execution_count": 2,
      "metadata": {},
      "outputs": [
        {
          "name": "stdout",
          "output_type": "stream",
          "text": [
            "2.12.0\n"
          ]
        }
      ],
      "source": [
        "print(tf.__version__)"
      ]
    },
    {
      "attachments": {},
      "cell_type": "markdown",
      "metadata": {},
      "source": [
        "# **SETUP**"
      ]
    },
    {
      "cell_type": "code",
      "execution_count": 3,
      "metadata": {},
      "outputs": [],
      "source": [
        "# module_selection = (\"mobilenet_v2\", 224, 1280) #@param [\"(\\\"mobilenet_v2\\\", 224, 1280)\", \"(\\\"inception_v3\\\", 299, 2048)\"] {type:\"raw\", allow-input: true}\n",
        "# handle_base, pixels, FV_SIZE = module_selection\n",
        "# MODULE_HANDLE =\"https://tfhub.dev/google/tf2-preview/{}/feature_vector/4\".format(handle_base)\n",
        "# IMAGE_SIZE = (pixels, pixels)\n",
        "# print(\"Using {} with input size {} and output dimension {}\".format(MODULE_HANDLE, IMAGE_SIZE, FV_SIZE))"
      ]
    },
    {
      "cell_type": "code",
      "execution_count": 4,
      "metadata": {},
      "outputs": [],
      "source": [
        "# Load data\n",
        "import pathlib\n",
        "lokasi = r\"C:\\Users\\jonat\\Downloads\\Bangkit 2023 Capstone\\WasteDataset\"\n",
        "data_dir = pathlib.Path(lokasi).with_suffix('')"
      ]
    },
    {
      "attachments": {},
      "cell_type": "markdown",
      "metadata": {},
      "source": [
        "# **Load Image**"
      ]
    },
    {
      "attachments": {},
      "cell_type": "markdown",
      "metadata": {},
      "source": [
        "**Contoh visualisasi data**"
      ]
    },
    {
      "cell_type": "code",
      "execution_count": 5,
      "metadata": {},
      "outputs": [],
      "source": [
        "# plt.figure(figsize=(10,10))\n",
        "# for gambar, kelas in train_data.take(1):\n",
        "#     for i in range(6):\n",
        "#         ax = plt.subplot(3, 3, i+1)\n",
        "#         plt.imshow(gambar[i].numpy().astype(\"uint8\"))\n",
        "#         plt.title(nama_kelas[kelas[i]])\n",
        "#         plt.axis(\"off\")"
      ]
    },
    {
      "attachments": {},
      "cell_type": "markdown",
      "metadata": {
        "id": "x8OC7iQWBWZI"
      },
      "source": [
        "# **Data Preprocesing**"
      ]
    },
    {
      "attachments": {},
      "cell_type": "markdown",
      "metadata": {},
      "source": [
        "**Parameter**"
      ]
    },
    {
      "cell_type": "code",
      "execution_count": 6,
      "metadata": {},
      "outputs": [],
      "source": [
        "# batch_size = 32\n",
        "img_height = 256\n",
        "img_width = 256"
      ]
    },
    {
      "attachments": {},
      "cell_type": "markdown",
      "metadata": {},
      "source": [
        "**Splitting data train dan test**"
      ]
    },
    {
      "cell_type": "code",
      "execution_count": 7,
      "metadata": {},
      "outputs": [
        {
          "name": "stdout",
          "output_type": "stream",
          "text": [
            "11405\n"
          ]
        }
      ],
      "source": [
        "image_count = len(list(data_dir.glob('*/*.jpg')))\n",
        "print(image_count)"
      ]
    },
    {
      "attachments": {},
      "cell_type": "markdown",
      "metadata": {},
      "source": [
        "**Format Data**"
      ]
    },
    {
      "cell_type": "code",
      "execution_count": 8,
      "metadata": {},
      "outputs": [],
      "source": [
        "# train_data = tf.keras.utils.image_dataset_from_directory(\n",
        "#   data_dir,\n",
        "#   validation_split=0.2,\n",
        "#   subset=\"training\",\n",
        "#   seed=123,\n",
        "#   # image_size=(img_height, img_width),\n",
        "#   # batch_size=batch_size,\n",
        "#   shuffle=True)"
      ]
    },
    {
      "cell_type": "code",
      "execution_count": 9,
      "metadata": {},
      "outputs": [],
      "source": [
        "# val_data = tf.keras.utils.image_dataset_from_directory(\n",
        "#   data_dir,\n",
        "#   validation_split=0.2,\n",
        "#   subset=\"validation\",\n",
        "#   seed=123,\n",
        "#   # image_size=(img_height, img_width),\n",
        "#   # batch_size=batch_size,\n",
        "#   shuffle=True)"
      ]
    },
    {
      "cell_type": "code",
      "execution_count": 10,
      "metadata": {},
      "outputs": [],
      "source": [
        "# nama_kelas = train_data.class_names\n",
        "# banyak_kelas = len(nama_kelas)\n",
        "# print(banyak_kelas)\n",
        "# print(nama_kelas)"
      ]
    },
    {
      "attachments": {},
      "cell_type": "markdown",
      "metadata": {},
      "source": [
        "**Augmentasi**"
      ]
    },
    {
      "cell_type": "code",
      "execution_count": 11,
      "metadata": {},
      "outputs": [],
      "source": [
        "def aug(data,validasi):\n",
        "    train_datagen = ImageDataGenerator(rescale=1.0/255.\n",
        "                                        # rotation_range=40,\n",
        "                                        # width_shift_range=0.2,\n",
        "                                        # height_shift_range=0.2,\n",
        "                                        # shear_range=0.2,\n",
        "                                        # zoom_range=0.2,\n",
        "                                        # horizontal_flip=True,\n",
        "                                        # fill_mode='nearest'\n",
        "                                        )\n",
        "\n",
        "    # Pass in the appropriate arguments to the flow_from_directory method\n",
        "    train_generator = train_datagen.flow_from_directory(directory=data,\n",
        "                                                        batch_size=32,\n",
        "                                                        class_mode='sparse',\n",
        "                                                        target_size=(img_height, img_width))\n",
        "\n",
        "    # Instantiate the ImageDataGenerator class (don't forget to set the rescale argument)\n",
        "    validation_datagen = ImageDataGenerator(rescale = 1./255)\n",
        "\n",
        "    # Pass in the appropriate arguments to the flow_from_directory method\n",
        "    validation_generator = validation_datagen.flow_from_directory(directory=validasi,\n",
        "                                                                batch_size=32,\n",
        "                                                                class_mode='sparse',\n",
        "                                                                target_size=(img_height, img_width))\n",
        "    ### END CODE HERE\n",
        "    return train_generator, validation_generator"
      ]
    },
    {
      "cell_type": "code",
      "execution_count": 12,
      "metadata": {},
      "outputs": [
        {
          "name": "stdout",
          "output_type": "stream",
          "text": [
            "Found 9121 images belonging to 6 classes.\n",
            "Found 2284 images belonging to 6 classes.\n"
          ]
        }
      ],
      "source": [
        "train_generator, validation_generator = aug(r'C:\\Users\\jonat\\Downloads\\Bangkit 2023 Capstone\\classification_data_3\\train', r'C:\\Users\\jonat\\Downloads\\Bangkit 2023 Capstone\\classification_data_3\\val')"
      ]
    },
    {
      "attachments": {},
      "cell_type": "markdown",
      "metadata": {},
      "source": [
        "**Info Batch**"
      ]
    },
    {
      "cell_type": "code",
      "execution_count": 13,
      "metadata": {},
      "outputs": [
        {
          "name": "stdout",
          "output_type": "stream",
          "text": [
            "(32, 256, 256, 3)\n",
            "(32,)\n"
          ]
        }
      ],
      "source": [
        "# banyaknya batch dan ukuran data\n",
        "for batch_gambar, batch_kelas in validation_generator:\n",
        "    print(batch_gambar.shape)\n",
        "    print(batch_kelas.shape)\n",
        "    break"
      ]
    },
    {
      "attachments": {},
      "cell_type": "markdown",
      "metadata": {},
      "source": [
        "# **Buat Model**"
      ]
    },
    {
      "attachments": {},
      "cell_type": "markdown",
      "metadata": {},
      "source": [
        "**Optimizer**"
      ]
    },
    {
      "cell_type": "code",
      "execution_count": 59,
      "metadata": {
        "cellView": "code",
        "id": "eb9eeb74",
        "tags": []
      },
      "outputs": [],
      "source": [
        "def create_model():\n",
        "\n",
        "  model = tf.keras.models.Sequential([\n",
        "    # Layer Normalisasi\n",
        "    # tf.keras.layers.Rescaling(1/255.),\n",
        "    # Convo Pertama\n",
        "    tf.keras.layers.Conv2D(16, (3,3), activation='relu', input_shape=(256, 256, 3)),\n",
        "    tf.keras.layers.MaxPooling2D(2, 2),\n",
        "    # tf.keras.layers.Dropout(0.5),\n",
        "    \n",
        "    # Convo Kedua\n",
        "    tf.keras.layers.Conv2D(32, (3,3), activation='relu'),\n",
        "    tf.keras.layers.MaxPooling2D(2,2),\n",
        "    # tf.keras.layers.Dropout(0.2),\n",
        "\n",
        "    # Convo layer ketiga\n",
        "    tf.keras.layers.Conv2D(64, (3,3), activation='relu'), \n",
        "    tf.keras.layers.MaxPooling2D(2,2),\n",
        "\n",
        "    # Flatten\n",
        "    tf.keras.layers.Flatten(),\n",
        "    tf.keras.layers.Dense(512, activation='relu'),\n",
        "    # extractor,\n",
        "    tf.keras.layers.Dense(6, activation='softmax')\n",
        "])\n",
        "\n",
        "  model.compile(optimizer = tf.keras.optimizers.RMSprop(learning_rate=0.001),\n",
        "                loss = 'sparse_categorical_crossentropy',\n",
        "                metrics=['accuracy'])\n",
        "\n",
        "  return model "
      ]
    },
    {
      "cell_type": "code",
      "execution_count": 60,
      "metadata": {
        "colab": {
          "base_uri": "https://localhost:8080/",
          "height": 236
        },
        "id": "qcKp7gAiByBd",
        "outputId": "34ef2093-c647-4736-b31e-651f47d6408b"
      },
      "outputs": [
        {
          "name": "stdout",
          "output_type": "stream",
          "text": [
            "Epoch 1/15\n",
            "100/100 [==============================] - 89s 887ms/step - loss: 1.9057 - accuracy: 0.3657 - val_loss: 1.3775 - val_accuracy: 0.4387\n",
            "Epoch 2/15\n",
            "100/100 [==============================] - 87s 872ms/step - loss: 1.2703 - accuracy: 0.4850 - val_loss: 1.1259 - val_accuracy: 0.5444\n",
            "Epoch 3/15\n",
            "100/100 [==============================] - 87s 871ms/step - loss: 1.1029 - accuracy: 0.5689 - val_loss: 0.9911 - val_accuracy: 0.6031\n",
            "Epoch 4/15\n",
            "100/100 [==============================] - 87s 869ms/step - loss: 1.0089 - accuracy: 0.6050 - val_loss: 1.0293 - val_accuracy: 0.6012\n",
            "Epoch 5/15\n",
            "100/100 [==============================] - 89s 889ms/step - loss: 0.8831 - accuracy: 0.6572 - val_loss: 0.8976 - val_accuracy: 0.6569\n",
            "Epoch 6/15\n",
            "100/100 [==============================] - 88s 880ms/step - loss: 0.7876 - accuracy: 0.7075 - val_loss: 0.8775 - val_accuracy: 0.6644\n",
            "Epoch 7/15\n",
            "100/100 [==============================] - 106s 1s/step - loss: 0.6748 - accuracy: 0.7534 - val_loss: 0.8263 - val_accuracy: 0.7181\n",
            "Epoch 8/15\n",
            "100/100 [==============================] - 88s 878ms/step - loss: 0.6230 - accuracy: 0.7892 - val_loss: 0.8168 - val_accuracy: 0.6944\n",
            "Epoch 9/15\n",
            "100/100 [==============================] - 87s 869ms/step - loss: 0.5253 - accuracy: 0.8062 - val_loss: 0.6944 - val_accuracy: 0.7631\n",
            "Epoch 10/15\n",
            "100/100 [==============================] - 86s 860ms/step - loss: 0.4442 - accuracy: 0.8485 - val_loss: 0.7302 - val_accuracy: 0.7525\n",
            "Epoch 11/15\n",
            "100/100 [==============================] - 87s 872ms/step - loss: 0.3793 - accuracy: 0.8744 - val_loss: 0.6948 - val_accuracy: 0.7825\n",
            "Epoch 12/15\n",
            "100/100 [==============================] - 89s 889ms/step - loss: 0.3439 - accuracy: 0.8847 - val_loss: 0.7025 - val_accuracy: 0.7756\n",
            "Epoch 13/15\n",
            "100/100 [==============================] - 87s 866ms/step - loss: 0.2785 - accuracy: 0.9091 - val_loss: 0.7679 - val_accuracy: 0.7619\n",
            "Epoch 14/15\n",
            "100/100 [==============================] - 91s 906ms/step - loss: 0.2188 - accuracy: 0.9322 - val_loss: 0.6731 - val_accuracy: 0.7962\n",
            "Epoch 15/15\n",
            "100/100 [==============================] - 88s 877ms/step - loss: 0.1792 - accuracy: 0.9431 - val_loss: 0.7244 - val_accuracy: 0.8069\n"
          ]
        }
      ],
      "source": [
        "# Save model\n",
        "model = create_model()\n",
        "\n",
        "# Train model\n",
        "history = model.fit(train_generator,\n",
        "                    epochs=15,\n",
        "                    steps_per_epoch=100,\n",
        "                    validation_data=validation_generator,\n",
        "                    validation_steps=50)"
      ]
    },
    {
      "cell_type": "code",
      "execution_count": 61,
      "metadata": {
        "colab": {
          "base_uri": "https://localhost:8080/",
          "height": 887
        },
        "id": "07b2b989",
        "outputId": "3f379376-dbb4-4d80-9b9c-d5ca627be788",
        "tags": []
      },
      "outputs": [
        {
          "data": {
            "image/png": "[encoded data removed]",
            "text/plain": [
              "<Figure size 640x480 with 1 Axes>"
            ]
          },
          "metadata": {},
          "output_type": "display_data"
        },
        {
          "data": {
            "image/png": "[encoded data removed]",
            "text/plain": [
              "<Figure size 640x480 with 1 Axes>"
            ]
          },
          "metadata": {},
          "output_type": "display_data"
        }
      ],
      "source": [
        "acc = history.history['accuracy']\n",
        "val_acc = history.history['val_accuracy']\n",
        "loss = history.history['loss']\n",
        "val_loss = history.history['val_loss']\n",
        "\n",
        "epochs = range(len(acc))\n",
        "\n",
        "plt.plot(epochs, acc, 'r', label='Training accuracy')\n",
        "plt.plot(epochs, val_acc, 'b', label='Validation accuracy')\n",
        "plt.title('Training and validation accuracy')\n",
        "plt.legend()\n",
        "plt.figure()\n",
        "\n",
        "plt.plot(epochs, loss, 'r', label='Training Loss')\n",
        "plt.plot(epochs, val_loss, 'b', label='Validation Loss')\n",
        "plt.title('Training and validation loss')\n",
        "plt.legend()\n",
        "\n",
        "plt.show()"
      ]
    },
    {
      "attachments": {},
      "cell_type": "markdown",
      "metadata": {},
      "source": [
        "# **Save Model**"
      ]
    },
    {
      "attachments": {},
      "cell_type": "markdown",
      "metadata": {},
      "source": [
        "**TF Lite**"
      ]
    },
    {
      "cell_type": "code",
      "execution_count": 62,
      "metadata": {},
      "outputs": [
        {
          "name": "stderr",
          "output_type": "stream",
          "text": [
            "WARNING:absl:Found untraced functions such as _jit_compiled_convolution_op, _jit_compiled_convolution_op, _jit_compiled_convolution_op, _update_step_xla while saving (showing 4 of 4). These functions will not be directly callable after loading.\n"
          ]
        },
        {
          "name": "stdout",
          "output_type": "stream",
          "text": [
            "INFO:tensorflow:Assets written to: carupah_recognition_model/model_1\\assets\n"
          ]
        },
        {
          "name": "stderr",
          "output_type": "stream",
          "text": [
            "INFO:tensorflow:Assets written to: carupah_recognition_model/model_1\\assets\n"
          ]
        }
      ],
      "source": [
        "export_dir = 'carupah_recognition_model/model_1'\n",
        "tf.saved_model.save(model, export_dir)"
      ]
    },
    {
      "cell_type": "code",
      "execution_count": 64,
      "metadata": {},
      "outputs": [],
      "source": [
        "mode = \"Speed\"\n",
        "\n",
        "if mode == 'Storage':\n",
        "    optimization = tf.lite.Optimize.OPTIMIZE_FOR_SIZE\n",
        "elif mode == 'Speed':\n",
        "    optimization = tf.lite.Optimize.OPTIMIZE_FOR_LATENCY\n",
        "else:\n",
        "    optimization = tf.lite.Optimize.DEFAULT"
      ]
    },
    {
      "cell_type": "code",
      "execution_count": 65,
      "metadata": {},
      "outputs": [],
      "source": [
        "converter = tf.lite.TFLiteConverter.from_saved_model(export_dir)\n",
        "converter.optimizations = [tf.lite.Optimize.DEFAULT]\n",
        "tflite_model = converter.convert()"
      ]
    },
    {
      "cell_type": "code",
      "execution_count": 66,
      "metadata": {},
      "outputs": [
        {
          "data": {
            "text/plain": [
              "29527128"
            ]
          },
          "execution_count": 66,
          "metadata": {},
          "output_type": "execute_result"
        }
      ],
      "source": [
        "tflite_model_file = pathlib.Path('carupah_recognition_model/carupah_model.tflite')\n",
        "tflite_model_file.write_bytes(tflite_model)"
      ]
    },
    {
      "attachments": {},
      "cell_type": "markdown",
      "metadata": {},
      "source": [
        "**JS**"
      ]
    },
    {
      "cell_type": "code",
      "execution_count": 67,
      "metadata": {},
      "outputs": [],
      "source": [
        "import time\n",
        "\n",
        "saved_model_path = \"carupah_recognition_model/carupah_model.h5\".format(int(time.time()))\n",
        "\n",
        "model.save(saved_model_path)"
      ]
    },
    {
      "attachments": {},
      "cell_type": "markdown",
      "metadata": {},
      "source": [
        "**JS Converter**"
      ]
    },
    {
      "cell_type": "code",
      "execution_count": 70,
      "metadata": {},
      "outputs": [
        {
          "name": "stderr",
          "output_type": "stream",
          "text": [
            "Traceback (most recent call last):\n",
            "  File \"<frozen runpy>\", line 198, in _run_module_as_main\n",
            "  File \"<frozen runpy>\", line 88, in _run_code\n",
            "  File \"C:\\Users\\jonat\\AppData\\Local\\Programs\\Python\\Python311\\Scripts\\tensorflowjs_converter.exe\\__main__.py\", line 4, in <module>\n",
            "  File \"C:\\Users\\jonat\\AppData\\Local\\Programs\\Python\\Python311\\Lib\\site-packages\\tensorflowjs\\__init__.py\", line 21, in <module>\n",
            "    from tensorflowjs import converters\n",
            "  File \"C:\\Users\\jonat\\AppData\\Local\\Programs\\Python\\Python311\\Lib\\site-packages\\tensorflowjs\\converters\\__init__.py\", line 21, in <module>\n",
            "    from tensorflowjs.converters.converter import convert\n",
            "  File \"C:\\Users\\jonat\\AppData\\Local\\Programs\\Python\\Python311\\Lib\\site-packages\\tensorflowjs\\converters\\converter.py\", line 37, in <module>\n",
            "    from tensorflowjs.converters import tf_saved_model_conversion_v2\n",
            "  File \"C:\\Users\\jonat\\AppData\\Local\\Programs\\Python\\Python311\\Lib\\site-packages\\tensorflowjs\\converters\\tf_saved_model_conversion_v2.py\", line 42, in <module>\n",
            "    import tensorflow_hub as hub\n",
            "  File \"C:\\Users\\jonat\\AppData\\Local\\Programs\\Python\\Python311\\Lib\\site-packages\\tensorflow_hub\\__init__.py\", line 90, in <module>\n",
            "    from tensorflow_hub.feature_column import image_embedding_column\n",
            "  File \"C:\\Users\\jonat\\AppData\\Local\\Programs\\Python\\Python311\\Lib\\site-packages\\tensorflow_hub\\feature_column.py\", line 20, in <module>\n",
            "    from tensorflow_hub import image_util\n",
            "  File \"C:\\Users\\jonat\\AppData\\Local\\Programs\\Python\\Python311\\Lib\\site-packages\\tensorflow_hub\\image_util.py\", line 17, in <module>\n",
            "    from tensorflow_hub import image_module_info_pb2\n",
            "  File \"C:\\Users\\jonat\\AppData\\Local\\Programs\\Python\\Python311\\Lib\\site-packages\\tensorflow_hub\\image_module_info_pb2.py\", line 36, in <module>\n",
            "    _descriptor.FieldDescriptor(\n",
            "  File \"C:\\Users\\jonat\\AppData\\Local\\Programs\\Python\\Python311\\Lib\\site-packages\\google\\protobuf\\descriptor.py\", line 561, in __new__\n",
            "    _message.Message._CheckCalledFromGeneratedFile()\n",
            "TypeError: Descriptors cannot not be created directly.\n",
            "If this call came from a _pb2.py file, your generated code is out of date and must be regenerated with protoc >= 3.19.0.\n",
            "If you cannot immediately regenerate your protos, some other possible workarounds are:\n",
            " 1. Downgrade the protobuf package to 3.20.x or lower.\n",
            " 2. Set PROTOCOL_BUFFERS_PYTHON_IMPLEMENTATION=python (but this will use pure-Python parsing and will be much slower).\n",
            "\n",
            "More information: https://developers.google.com/protocol-buffers/docs/news/2022-05-06#python-updates\n"
          ]
        }
      ],
      "source": [
        "!tensorflowjs_converter --input_format=keras {saved_model_path} ./"
      ]
    }
  ],
  "metadata": {
    "colab": {
      "provenance": []
    },
    "kernelspec": {
      "display_name": "Python 3",
      "name": "python3"
    },
    "language_info": {
      "codemirror_mode": {
        "name": "ipython",
        "version": 3
      },
      "file_extension": ".py",
      "mimetype": "text/x-python",
      "name": "python",
      "nbconvert_exporter": "python",
      "pygments_lexer": "ipython3",
      "version": "3.11.3"
    }
  },
  "nbformat": 4,
  "nbformat_minor": 0
}
