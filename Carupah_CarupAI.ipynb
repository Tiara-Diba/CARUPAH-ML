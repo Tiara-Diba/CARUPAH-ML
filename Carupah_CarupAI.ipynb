{
  "nbformat": 4,
  "nbformat_minor": 0,
  "metadata": {
    "colab": {
      "provenance": []
    },
    "kernelspec": {
      "name": "python3",
      "display_name": "Python 3"
    },
    "language_info": {
      "name": "python"
    }
  },
  "cells": [
    {
      "cell_type": "markdown",
      "source": [
        "**Carupah - CarupAI - Natural Language Processing** "
      ],
      "metadata": {
        "id": "UMgnA6x2P_dE"
      }
    },
    {
      "cell_type": "code",
      "source": [
        "#Import Libraries and Packages Needed\n",
        "import tensorflow as tf\n",
        "import numpy as np\n",
        "import nltk\n",
        "import json\n",
        "import pickle\n",
        "import random\n",
        "import requests\n",
        "import matplotlib.pyplot as plt\n",
        "\n",
        "#from keras.optimizers import Adam\n",
        "from keras.optimizers import SGD\n",
        "from keras.losses import categorical_crossentropy\n",
        "from keras.models import Sequential, load_model\n",
        "from keras.layers import Dense, Dropout, Activation\n",
        "from nltk.stem import WordNetLemmatizer\n",
        "from keras.callbacks import EarlyStopping\n",
        "\n",
        "nltk.download('punkt') #Tokenizer\n",
        "nltk.download('wordnet') #Lemmatizer"
      ],
      "metadata": {
        "colab": {
          "base_uri": "https://localhost:8080/"
        },
        "id": "gHV8Q7JeQRPU",
        "outputId": "0153c570-2348-4eea-8646-d3f7c8be5e42"
      },
      "execution_count": 183,
      "outputs": [
        {
          "output_type": "stream",
          "name": "stderr",
          "text": [
            "[nltk_data] Downloading package punkt to /root/nltk_data...\n",
            "[nltk_data]   Package punkt is already up-to-date!\n",
            "[nltk_data] Downloading package wordnet to /root/nltk_data...\n",
            "[nltk_data]   Package wordnet is already up-to-date!\n"
          ]
        },
        {
          "output_type": "execute_result",
          "data": {
            "text/plain": [
              "True"
            ]
          },
          "metadata": {},
          "execution_count": 183
        }
      ]
    },
    {
      "cell_type": "markdown",
      "source": [
        "**Get Dataset from Gdrive**"
      ],
      "metadata": {
        "id": "o4v0rUBEuxK3"
      }
    },
    {
      "cell_type": "code",
      "source": [
        "#Where file JSON is Stored\n",
        "url = 'https://drive.google.com/uc?id=1-MClkBk3glO-MBTa3xQUD9QqVGIQqveo'\n",
        "response = requests.get(url)\n",
        "chatbot_json = response.content"
      ],
      "metadata": {
        "id": "GPruDmJeWmu0"
      },
      "execution_count": 184,
      "outputs": []
    },
    {
      "cell_type": "code",
      "source": [
        "chatbot_dataset = json.loads(chatbot_json) #Read file"
      ],
      "metadata": {
        "id": "WLyXUMKpWvbE"
      },
      "execution_count": 185,
      "outputs": []
    },
    {
      "cell_type": "code",
      "source": [
        "print(json.dumps(chatbot_dataset, indent=5)) #See data"
      ],
      "metadata": {
        "colab": {
          "base_uri": "https://localhost:8080/"
        },
        "id": "KuEJMlfMW642",
        "outputId": "01212882-5a91-4123-e9c1-1edb96545d67"
      },
      "execution_count": 186,
      "outputs": [
        {
          "output_type": "stream",
          "name": "stdout",
          "text": [
            "{\n",
            "     \"intents\": [\n",
            "          {\n",
            "               \"tag\": \"greeting\",\n",
            "               \"patterns\": [\n",
            "                    \"Hi\",\n",
            "                    \"Hello\",\n",
            "                    \"Hallo\",\n",
            "                    \"Hey\",\n",
            "                    \"Mau tanya\",\n",
            "                    \"Hai, Welcome\",\n",
            "                    \"Ingin bertanya\"\n",
            "               ],\n",
            "               \"responses\": [\n",
            "                    \"Hello, Kamu mau bertanya?\",\n",
            "                    \"Hai, Selamat datang. Ada yang mau kamu tanyakan?\",\n",
            "                    \"Hi, kamu punya pertanyaan apa?\",\n",
            "                    \"Ada yang bisa CarupAI bantu?\"\n",
            "               ],\n",
            "               \"context\": [\n",
            "                    \"\"\n",
            "               ]\n",
            "          },\n",
            "          {\n",
            "               \"tag\": \"goodbye\",\n",
            "               \"patterns\": [\n",
            "                    \"Bye\",\n",
            "                    \"Sampai jumpa lagi\",\n",
            "                    \"Okay, bye\",\n",
            "                    \"Senang berbicara dengan CarupAI, bye\"\n",
            "               ],\n",
            "               \"responses\": [\n",
            "                    \"Sampai jumpa!.Jangan lupa kelola sampah kamu ya :)\",\n",
            "                    \"Okay bye. Jangan lupa kelola sampah kamu ya :)\",\n",
            "                    \"Bye!.Jangan lupa kelola sampah kamu ya :)\"\n",
            "               ],\n",
            "               \"context\": [\n",
            "                    \"\"\n",
            "               ]\n",
            "          },\n",
            "          {\n",
            "               \"tag\": \"thanks\",\n",
            "               \"patterns\": [\n",
            "                    \"Terima kasih\",\n",
            "                    \"Thank you\",\n",
            "                    \"Thanks\",\n",
            "                    \"Sangat membantu\",\n",
            "                    \"Terimakasih telah membantuku\"\n",
            "               ],\n",
            "               \"responses\": [\n",
            "                    \"Senang dapat membantu kamu\",\n",
            "                    \"Ya, tentu saja\",\n",
            "                    \"Sama-sama\"\n",
            "               ],\n",
            "               \"context\": [\n",
            "                    \"\"\n",
            "               ]\n",
            "          },\n",
            "          {\n",
            "               \"tag\": \"noanswer\",\n",
            "               \"patterns\": [],\n",
            "               \"responses\": [\n",
            "                    \"Maaf, saat ini CarupAI belum bisa memberi informasi tentang itu\",\n",
            "                    \"Tolong beri aku lebih banyak info\"\n",
            "               ],\n",
            "               \"context\": [\n",
            "                    \"\"\n",
            "               ]\n",
            "          },\n",
            "          {\n",
            "               \"tag\": \"options\",\n",
            "               \"patterns\": [\n",
            "                    \"Apa yang dapat kamu lakukan?\",\n",
            "                    \"Apa itu carupai?\",\n",
            "                    \"apa itu carupah?\",\n",
            "                    \"Siapa carupai itu?\",\n",
            "                    \"Siapa kamu?\",\n",
            "                    \"Bantuan apa yang dapat kamu berikan?\"\n",
            "               ],\n",
            "               \"responses\": [\n",
            "                    \"Hallo, Perkenalkan aku CarupAI chatbot aplikasi Carupah yang akan membantu kamu menjawab pertanyaan seputar sampah.\",\n",
            "                    \"Hallo, aku CarupAI chatbot aplikasi Carupah yang siap membantu pertanyaan kamu tentang sampah\",\n",
            "                    \"Hai, CarupAI adalah chatbot aplikasi Carupah yang bisa kamu gunakan untuk bertanya menganai sampah.\"\n",
            "               ],\n",
            "               \"context\": [\n",
            "                    \"\"\n",
            "               ]\n",
            "          },\n",
            "          {\n",
            "               \"tag\": \"sampah\",\n",
            "               \"patterns\": [\n",
            "                    \"Apa itu sampah?\",\n",
            "                    \"Pengertian sampah\",\n",
            "                    \"Sampah adalah\",\n",
            "                    \"Sampah itu apa sih?\",\n",
            "                    \"Pengertian sampah dong?\"\n",
            "               ],\n",
            "               \"responses\": [\n",
            "                    \"Sampah adalah segala jenis material atau zat yang dihasilkan oleh manusia atau alam yang dianggap tidak berguna, tidak diinginkan, atau tidak diperlukan lagi. Sampah bisa berupa sisa-sisa makanan, kertas, plastik, logam, kaca, kain, limbah organik, dan bahan-bahan lainnya. Sampah juga dapat mencakup material yang dapat merusak lingkungan seperti baterai, bahan kimia berbahaya, atau limbah medis.\"\n",
            "               ],\n",
            "               \"context\": [\n",
            "                    \"\"\n",
            "               ]\n",
            "          },\n",
            "          {\n",
            "               \"tag\": \"kategori_sampah\",\n",
            "               \"patterns\": [\n",
            "                    \"Apa saja ketegori sampah?\",\n",
            "                    \"Kategori sampah ada apa aja?\",\n",
            "                    \"Kategori sampah dong\",\n",
            "                    \"Sebutkan kategori sampah\",\n",
            "                    \"Sebut dan jelaskan kategori sampah!\",\n",
            "                    \"Jelasin kategori sampah dong\"\n",
            "               ],\n",
            "               \"responses\": [\n",
            "                    \"Sampah dapat dibedakan menjadi beberapa kategori, antara lain: \\n1.Sampah organik: Sampah yang terdiri dari bahan-bahan yang mudah membusuk, seperti sisa makanan, daun, ranting, dan kotoran hewan. Sampah organik dapat diuraikan secara alami oleh proses penguraian atau kompos, \\n2.Sampah anorganik: Sampah yang terdiri dari bahan-bahan yang sulit terurai secara alami, seperti plastik, kaca, logam, dan kertas. Sampah anorganik membutuhkan pengolahan khusus untuk mengurangi dampaknya terhadap lingkungan. \\n3. Sampah berbahaya: Sampah yang mengandung bahan kimia berbahaya atau zat-zat beracun, seperti baterai, pestisida, obat-obatan, limbah medis, atau bahan kimia industri. Sampah berbahaya memerlukan penanganan khusus untuk mencegah pencemaran lingkungan dan kesehatan manusia.\"\n",
            "               ],\n",
            "               \"context\": [\n",
            "                    \"\"\n",
            "               ]\n",
            "          },\n",
            "          {\n",
            "               \"tag\": \"pengelolaan_sampah\",\n",
            "               \"patterns\": [\n",
            "                    \"Apa itu pengelolaan sampah?\",\n",
            "                    \"Apa saja yang termasuk pengelolaan sampah?\",\n",
            "                    \"Pengelolaan sampah\",\n",
            "                    \"reduce, reuse, recycle, disposal\",\n",
            "                    \"Daur ulang sampah\"\n",
            "               ],\n",
            "               \"responses\": [\n",
            "                    \"Pengelolaan sampah merupakan hal yang penting untuk menjaga kebersihan dan kelestarian lingkungan. Pengelolaan sampah meliputi tindakan seperti pengurangan sampah (reduce), penggunaan kembali sampah (reuse), daur ulang sampah (recycle), dan pengolahan akhir sampah (disposal). Tujuan utama pengelolaan sampah adalah untuk mengurangi dampak negatif sampah terhadap lingkungan dan memanfaatkan sumber daya secara efisien.\",\n",
            "                    \"Pengelolaan sampah adalah serangkaian kegiatan yang dilakukan untuk mengurangi, memproses, dan membuang sampah secara efisien dan ramah lingkungan. Tujuan dari pengelolaan sampah adalah untuk mengurangi dampak negatif sampah terhadap lingkungan dan kesehatan manusia. \\nPengurangan sampah (Reduce): Langkah pertama dalam pengelolaan sampah adalah mengurangi jumlah sampah yang dihasilkan. Ini dapat dilakukan dengan cara menghindari penggunaan bahan-bahan sekali pakai, membeli produk dengan kemasan minimal, menggunakan kembali barang-barang, dan mengadopsi praktik gaya hidup berkelanjutan.\\nPenggunaan kembali sampah (Reuse): Sampah yang masih dapat digunakan atau diperbaiki dapat dimanfaatkan kembali. Misalnya, botol plastik dapat diisi ulang, kertas bekas dapat digunakan sebagai kertas sisa, atau pakaian bekas dapat disumbangkan atau diubah menjadi barang-barang lain.\\n Daur ulang sampah (Recycle): Sampah yang dapat didaur ulang seperti plastik, kertas, logam, atau kaca dapat diproses menjadi bahan baku baru. Proses daur ulang melibatkan pemilahan, pembersihan, dan pengolahan sampah menjadi produk baru yang dapat digunakan.\\nPengolahan sampah (Waste treatment): Sampah yang tidak dapat diurukan atau didaur ulang secara efisien memerlukan pengolahan khusus.\\nPembuangan akhir sampah (Disposal): Sampah yang tidak dapat diolah dengan metode lain biasanya dibuang ke tempat pembuangan akhir. Tempat pembuangan sampah umumnya menggunakan tumpukan sampah terkendali (sanitary landfill) yang dirancang untuk mencegah pencemaran tanah dan air tanah.\"\n",
            "               ],\n",
            "               \"context\": [\n",
            "                    \"\"\n",
            "               ]\n",
            "          },\n",
            "          {\n",
            "               \"tag\": \"aluminium\",\n",
            "               \"patterns\": [\n",
            "                    \"Apa itu aluminium?\",\n",
            "                    \"Apa itu sampah aluminium?\",\n",
            "                    \"Pengertian aluminium\",\n",
            "                    \"Penjelasan aluminium\",\n",
            "                    \"Aluminium\"\n",
            "               ],\n",
            "               \"responses\": [\n",
            "                    \"Aluminium adalah salah satu jenis material yang banyak ditemui dan didapat disekitar kita seperti kaleng omponen mobil, pesawat, kereta api, perabot rumah tangga. Sampah aluminium merujuk pada limbah atau material sisa yang terbuat dari aluminium atau mengandung aluminium. Aluminium adalah logam ringan yang banyak digunakan dalam berbagai aplikasi, seperti kemasan, konstruksi, industri otomotif, elektronik, dan banyak lagi.\"\n",
            "               ],\n",
            "               \"context\": [\n",
            "                    \"\"\n",
            "               ]\n",
            "          },\n",
            "          {\n",
            "               \"tag\": \"keunggulan_aluminium\",\n",
            "               \"patterns\": [\n",
            "                    \"Apa saja keunggulan aluminium?\",\n",
            "                    \"Apa keunggulan aluminium?\",\n",
            "                    \"keunggulan aluminium\",\n",
            "                    \"Penjelasan keunggulan aluminium\"\n",
            "               ],\n",
            "               \"responses\": [\n",
            "                    \"Beberapa keunggulan yang ditawarkan dari aluminium, yakni:\\n-Produk yang terbuat dari aluminium biasanya tahan cuaca, tahan korosi, dan kebal terhadap efek berbahaya sinar UV sehingga lebih tahan lama saat digunakan.\\n-Bobot aluminium yang ringan membuatnya lebih murah dan lebih mudah untuk dipindahkan sesuai kebutuhan.\\n-Produk yang terbuat dari aluminium biasanya tidak memerlukan perawatan khusus.\\n-Aluminium dapat didaur ulang untuk beragam produk kebutuhan industri.\\n-Aluminium tidak mudah terbakar sehingga sangat tahan terhadap panas.\\n-Aluminium merupakan pelapis bahan logam lain yang cukup kuat dan awet.\"\n",
            "               ],\n",
            "               \"context\": [\n",
            "                    \"\"\n",
            "               ]\n",
            "          },\n",
            "          {\n",
            "               \"tag\": \"pengelolaan_aluminium\",\n",
            "               \"patterns\": [\n",
            "                    \"Cara pengelolaan aluminium?\",\n",
            "                    \"Pengelolaan aluminium?\",\n",
            "                    \"Bagamana cara pengelolaan aluminium\",\n",
            "                    \"Jelaskan pengelolaan aluminium\",\n",
            "                    \"Bagaimana daur ulang aluminium?\",\n",
            "                    \"Daur ulang aluminium\"\n",
            "               ],\n",
            "               \"responses\": [\n",
            "                    \"Berikut adalah langkah-langkah umum dalam pengelolaan sampah aluminium:\\n1. Pengumpulan: Sampah aluminium harus dikumpulkan secara terpisah dari sampah lainnya. Ini bisa dilakukan melalui sistem pengumpulan yang disediakan oleh pemerintah atau melalui program daur ulang yang ada di komunitas Anda.\\n2. Pemilahan: Setelah dikumpulkan, sampah aluminium harus dipilah dari material lain, seperti plastik atau kertas. Ini bisa dilakukan dengan tangan atau menggunakan mesin pemilah otomatis.\\n3. Pengolahan: Setelah dipilah, sampah aluminium harus diproses untuk menghilangkan kontaminasi dan mempersiapkannya untuk proses daur ulang. Ini melibatkan penghapusan label, cat, atau bagian non-aluminium lainnya yang terdapat pada sampah aluminium.\\n4. Daur ulang: Sampah aluminium yang sudah diproses kemudian dapat diolah menjadi bahan baku aluminium yang dapat digunakan kembali. Proses daur ulang aluminium melibatkan peleburan dan pemurnian aluminium bekas untuk menghasilkan logam aluminium murni yang dapat digunakan dalam berbagai aplikasi.\"\n",
            "               ],\n",
            "               \"context\": [\n",
            "                    \"\"\n",
            "               ]\n",
            "          },\n",
            "          {\n",
            "               \"tag\": \"produk_daur_ulang_aluminium\",\n",
            "               \"patterns\": [\n",
            "                    \"Produk hasil pengelolaan aluminium?\",\n",
            "                    \"Hasil daur ulang aluminium?\",\n",
            "                    \"Produk hasil daur ulang aluminium\",\n",
            "                    \"Sebutkan produk hasil daur ulang aluminium\",\n",
            "                    \"Hasil pengelolaan aluminium\"\n",
            "               ],\n",
            "               \"responses\": [\n",
            "                    \"Setelah aluminium didaur ulang, bahan ini dapat digunakan untuk membuat berbagai produk baru. Beberapa contoh penggunaan kembali aluminium daur ulang meliputi:\\n- Pembuatan kaleng minuman baru: Aluminium daur ulang dapat digunakan untuk membuat kaleng minuman baru yang dapat digunakan lagi.\\n- Pembuatan produk aluminium lainnya: Aluminium daur ulang dapat digunakan dalam pembuatan berbagai produk, seperti bingkai foto, perabotan, aksesori kendaraan, atau material konstruksi.\\nProses daur ulang aluminium memiliki manfaat lingkungan yang signifikan karena mengurangi kebutuhan akan penambangan aluminium primer, menghemat energi, dan mengurangi emisi gas rumah kaca yang dihasilkan dalam proses pembuatan aluminium baru.\",\n",
            "                    \"Daur ulang kaleng minuman: Kaleng minuman aluminium adalah salah satu produk yang paling umum didaur ulang. Aluminium bekas dari kaleng minuman dapat diproses dan digunakan untuk membuat kaleng minuman baru.\",\n",
            "                    \"Pembuatan peralatan dapur: Aluminium daur ulang dapat digunakan untuk membuat berbagai peralatan dapur, seperti panci, wajan, atau alat pelekatan makanan.\",\n",
            "                    \"Pembuatan frame foto atau bingkai: Aluminium daur ulang dapat digunakan dalam pembuatan frame foto atau bingkai gambar.\",\n",
            "                    \"Produk otomotif: Aluminium daur ulang dapat digunakan dalam pembuatan berbagai komponen otomotif, seperti bodi mobil, velg, atau bagian mesin.\",\n",
            "                    \"Material konstruksi: Aluminium daur ulang juga digunakan dalam industri konstruksi untuk membuat bahan bangunan seperti pintu, jendela, atap, atau panel dinding.\",\n",
            "                    \"Aksesori dan perhiasan: Aluminium daur ulang dapat digunakan untuk membuat berbagai aksesori dan perhiasan, seperti gelang, kalung, atau cincin.\"\n",
            "               ],\n",
            "               \"context\": [\n",
            "                    \"\"\n",
            "               ]\n",
            "          },\n",
            "          {\n",
            "               \"tag\": \"kaca\",\n",
            "               \"patterns\": [\n",
            "                    \"Apa itu kaca?\",\n",
            "                    \"Apa itu sampah kaca\",\n",
            "                    \"Pengertian kaca\",\n",
            "                    \"Penjelasan kaca\",\n",
            "                    \"kaca\"\n",
            "               ],\n",
            "               \"responses\": [\n",
            "                    \"Kaca adalah bahan padat transparan yang terbuat dari peleburan silika (pasir), soda, kapur, dan bahan tambahan lainnya. Kaca memiliki sifat yang unik, seperti transparansi optik, kekerasan, tahan terhadap reaksi kimia, dan kemampuan menghantarkan panas dan listrik. Sampah kaca adalah limbah yang terbuat dari bahan kaca, seperti botol minuman, pecahan kaca, kaca jendela, atau produk kaca lainnya yang tidak lagi digunakan.\"\n",
            "               ],\n",
            "               \"context\": [\n",
            "                    \"\"\n",
            "               ]\n",
            "          },\n",
            "          {\n",
            "               \"tag\": \"cara_buang_kaca\",\n",
            "               \"patterns\": [\n",
            "                    \"Bagaimana cara membuang kaca?\",\n",
            "                    \"Cara membuang sampah kaca?\",\n",
            "                    \"Buang sampah kaca\",\n",
            "                    \"Cara buang sampah kaca\",\n",
            "                    \"Buang kaca supaya tidak terluka\"\n",
            "               ],\n",
            "               \"responses\": [\n",
            "                    \"Berikut beberapa cara yang bisa Anda lakukan:\\n1. Siapkan kertas bekas dan kain tebal. Untuk ukurannya bisa disesuaikan dengan sampah kaca yang dibuang. Bila ingin membungkusnya dengan kain, Anda bisa menggunakan pakaian bekas yang sudah tidak laik pakai dan robek, Moms.\\n2. Taruh sampah kaca tersebut di atas kertas bekas dan bungkus. Kemudian dilanjutkan dengan membungkusnya dengan kain bekas.\\n3. Ambil palu dan pecahkan sampah kaca tersebut menjadi ukuran kecil. Pastikan Anda melakukannya dengan hati-hati, dan sebisa mungkin jauhkan dari anak.\\n4. Setelah itu, ambil sampah kaca yang sudah terbungkus kain dan masukan ke dalam kotak kardus. Bila ada bagian kardus yang terbuka, Anda bisa merekatkannya dengan selotip.\\n5. Tuliskan peringatan di selembar kertas putih dan usahakan menggunakan spidol berwarna merah, misalnya 'Bahaya! Ada Pecahan Kaca'.\\n6. Terakhir, saat ingin membuangnya di tempat sampah, taruh kotak isi kaca tersebut paling atas.\"\n",
            "               ],\n",
            "               \"context\": [\n",
            "                    \"\"\n",
            "               ]\n",
            "          },\n",
            "          {\n",
            "               \"tag\": \"pengelolaan_kaca\",\n",
            "               \"patterns\": [\n",
            "                    \"Cara pengelolaan kaca?\",\n",
            "                    \"Pengelolaan kaca?\",\n",
            "                    \"Bagamana cara pengelolaan kaca\",\n",
            "                    \"Jelaskan pengelolaan kaca\",\n",
            "                    \"Bagaimana daur ulang kaca?\",\n",
            "                    \"Daur ulang kaca\"\n",
            "               ],\n",
            "               \"responses\": [\n",
            "                    \"Berikut adalah langkah-langkah umum dalam pengelolaan sampah kaca:\\n1. Pengumpulan: Sampah kaca harus dikumpulkan secara terpisah dari sampah lainnya. Ini bisa dilakukan melalui sistem pengumpulan yang disediakan oleh pemerintah atau melalui program daur ulang yang ada di komunitas Anda. Kaca yang dikumpulkan harus bersih dari kontaminasi seperti plastik atau logam.\\n2. Pemilahan: Setelah dikumpulkan, sampah kaca harus dipilah berdasarkan jenisnya. Misalnya, botol kaca hijau harus dipisahkan dari botol kaca cokelat atau kaca jendela. Pemisahan ini penting karena jenis kaca yang berbeda memiliki komposisi kimia yang berbeda dan membutuhkan proses daur ulang yang berbeda pula.\\n3. Pengolahan: Setelah dipilah, sampah kaca harus diolah untuk menghilangkan kontaminasi dan mempersiapkannya untuk proses daur ulang. Ini melibatkan penghapusan tutup botol, label, dan benda-benda non-kaca lainnya. Selain itu, kaca juga dapat dihancurkan menjadi pecahan kaca yang lebih kecil untuk memudahkan proses daur ulang.\\n4. Daur ulang: Sampah kaca yang sudah diproses kemudian dapat diolah menjadi bahan baku kaca yang dapat digunakan kembali. Proses daur ulang kaca melibatkan peleburan kaca bekas untuk membentuk bahan kaca cair yang kemudian dapat dicetak atau dibentuk menjadi produk baru.\"\n",
            "               ],\n",
            "               \"context\": [\n",
            "                    \"\"\n",
            "               ]\n",
            "          },\n",
            "          {\n",
            "               \"tag\": \"produk_daur_ulang_kaca\",\n",
            "               \"patterns\": [\n",
            "                    \"Produk hasil pengelolaan kaca?\",\n",
            "                    \"Hasil daur ulang kaca?\",\n",
            "                    \"Produk hasil daur ulang kaca\",\n",
            "                    \"Sebutkan produk hasil daur ulang kaca\",\n",
            "                    \"Hasil pengelolaan kaca\"\n",
            "               ],\n",
            "               \"responses\": [\n",
            "                    \"Pembuatan botol kaca baru: Kaca daur ulang dapat digunakan untuk membuat botol minuman atau wadah kaca lainnya.\",\n",
            "                    \"Pembuatan produk kaca lainnya: Kaca daur ulang dapat digunakan dalam pembuatan berbagai produk, seperti kaca jendela, perabotan kaca, piring kaca, hiasan, atau bahan bangunan.\",\n",
            "                    \"Botol dan wadah kaca: Kaca daur ulang dapat dijadikan bahan untuk membuat botol dan wadah kaca baru. Botol kaca daur ulang dapat digunakan untuk minuman, minyak, saus, atau produk kesehatan dan kecantikan.\",\n",
            "                    \"Piring, gelas, dan mangkuk: Kaca daur ulang dapat diolah menjadi piring, gelas, dan mangkuk yang digunakan di rumah atau restoran. Ini membantu mengurangi penggunaan kaca baru dan mengurangi limbah kaca.\",\n",
            "                    \"Hiasan rumah: Potongan kaca daur ulang dapat digunakan untuk membuat hiasan rumah seperti vas bunga, lampu gantung, atau panel dinding. Kaca daur ulang sering kali memiliki tampilan unik dan artistik yang menambah estetika dalam dekorasi rumah.\",\n",
            "                    \"Perhiasan dan aksesori: Kaca daur ulang dapat diubah menjadi perhiasan seperti kalung, gelang, atau anting-anting. Potongan-potongan kaca yang diolah dengan kreativitas dapat menciptakan aksesori yang menarik dan unik.\",\n",
            "                    \"Bahan bangunan: Kaca daur ulang dapat digunakan sebagai bahan untuk bangunan. Misalnya, kaca daur ulang dapat digunakan untuk membuat jendela, pintu, dinding kaca, atau panel partisi.\",\n",
            "                    \"Pasir kaca daur ulang: Kaca daur ulang dapat dihancurkan menjadi serpihan-serpihan kecil yang digunakan sebagai pasir kaca daur ulang. Pasir kaca ini dapat digunakan dalam proyek konstruksi, hiasan taman, atau media penyerapan dalam filter air.\",\n",
            "                    \"Produk kerajinan tangan: Kaca daur ulang dapat dijadikan bahan untuk berbagai kerajinan tangan seperti mosaik, lukisan kaca, ornamen, atau hiasan dinding.\"\n",
            "               ],\n",
            "               \"context\": [\n",
            "                    \"\"\n",
            "               ]\n",
            "          },\n",
            "          {\n",
            "               \"tag\": \"plastik\",\n",
            "               \"patterns\": [\n",
            "                    \"Apa itu plastik?\",\n",
            "                    \"Apa itu sampah plastik\",\n",
            "                    \"Pengertian plastik\",\n",
            "                    \"Penjelasan plastik\",\n",
            "                    \"plastik\"\n",
            "               ],\n",
            "               \"responses\": [\n",
            "                    \"Plastik adalah bahan polimer sintetis yang terbuat dari campuran bahan kimia yang dikenal sebagai monomer. Plastik memiliki sifat fleksibel, tahan lama, ringan, dan dapat dibentuk menjadi berbagai bentuk dan ukuran. Plastik umumnya digunakan dalam berbagai aplikasi, seperti kemasan, peralatan rumah tangga, peralatan medis, industri otomotif, konstruksi, elektronik, dan banyak lagi.\\n Sampah plastik merujuk pada material plastik yang sudah tidak diperlukan, rusak, atau tidak digunakan lagi, dan kemudian dibuang. Sampah plastik terdiri dari berbagai jenis plastik, seperti polietilen (PE), polipropilen (PP), polivinil klorida (PVC), polistirena (PS), polietilen tereftalat (PET), dan banyak lagi. Sampah plastik juga dapat berupa berbagai bentuk, seperti botol plastik, kemasan makanan, kantong plastik, wadah plastik, bungkus plastik, dan produk-produk plastik lainnya.\"\n",
            "               ],\n",
            "               \"context\": [\n",
            "                    \"\"\n",
            "               ]\n",
            "          },\n",
            "          {\n",
            "               \"tag\": \"penanganan_sampah_plastik\",\n",
            "               \"patterns\": [\n",
            "                    \"Bagaimana penanganan sampah plastik?\",\n",
            "                    \"Penanganan sampah plastik\",\n",
            "                    \"Cara penanganan sampah plastik\",\n",
            "                    \"Penanganan sampah plastik\",\n",
            "                    \"Memanfaatkan sampah plastik\",\n",
            "                    \"Bagaimana cara memanfaatkan sampah plastik\",\n",
            "                    \"Menggunakan sampah plastik\"\n",
            "               ],\n",
            "               \"responses\": [\n",
            "                    \"Perlu diketahui bahwa sampah plastik sangat sulit untuk hancur. Dibutuhkan puluhan bahkan ratusan tahun agar terurai. Oleh karena itu, diperlukan solusi alternatif agar keberadaan sampah plastik dapat ditangani dengan baik. Alternatif penanganannya antara lain dengan 6 R, sebagai berikut:\\n1. Reuse (Memanfaatkan ulang) adalah menggunakan kembali barang bekas tanpa pengolahan dahulu untuk tujuan yang sama atau berbeda dari tujuan bahan awal. Contohnya: memakai sampah plastik sebagai bahan baku kerajinan, ban bekas dikemas menjadi tempat duduk, dan sebagainya.\\n2. Recycle (Mengolah kembali) adalah memanfaatkan barang bekas dengan mengolah materinya untuk digunakan lebih lanjut. Contoh: sampah organik diolah menjadi kompos.\\n3. Reduce (Mengurangi) adalah merupakan semua bentuk kegiatan atau perilaku yang dapat mengurangi produksi sampah. Contoh: pergi belanja membawa keranjang/tas belanja dari rumah.\\n4. Replace (Mengganti) adalah menggantikan dengan bahan yang bias dipakai ulang sebagai upaya mengubah kebiasaan yang dapat mempercepat produksi sampah. Contoh: membungkus kue menggunakan daun pisang.\\n5. Refill (Mengisi kembali) adalah mengisi kembali wadah-wadah produk kemasan yang habis dipakai. Contoh: memanfaatkan botol parfum untuk diisi kembali dengan parfum isi ulang.\\n6. Repair (Memperbaiki) adalah melakukan pemeliharaan atau perawatan agar tidak menambah produksi sampah. Contoh: sandal yang talinya putus, diperbaiki kembali dengan tali yang baru, tanpa perlu beli sandal baru selama masih layak.\"\n",
            "               ],\n",
            "               \"context\": [\n",
            "                    \"\"\n",
            "               ]\n",
            "          },\n",
            "          {\n",
            "               \"tag\": \"jenis_sampah_plastik\",\n",
            "               \"patterns\": [\n",
            "                    \"Sebutkan jenis sampah plastik?\",\n",
            "                    \"Apa itu jenis sampah plastik\",\n",
            "                    \"Apa saja jenis sampah plastik\",\n",
            "                    \"Penjelasan jenis sampah plastik\",\n",
            "                    \"jenis sampah plastik\"\n",
            "               ],\n",
            "               \"responses\": [\n",
            "                    \" Sampah plastik terbagi dalam beberapa jenis.\\n1. PET (Polyethylene Terephthalate) merupakan sampah jenis ini terdapat pada botol minuman kemasan.\\n2. HDPE (High Densy Polyethylene) atau Polietilena berdensitas tinggi yang dapat ditemui pada botol detergen.\\n3. PVC (Polivinil Klorid) yang biasanya terdapat pada pipa dan mebel.\\n4. LDPE (Low Density Polyethylene) atau Polietilena berdensitas rendah yang biasanya digunakan sebagai pembungkus makanan.\\n5. PP (Polipropilena) yang umumnya terdapat pada tutup botol minuman, sedotan, dan mainan.\\n6. PS (Polistirena) yang lazim ditemui pada kotak makanan, pembungkus daging, cangkir, dan peralatan dapur.\\n7. Other (O) Other merupakan jenis plastik yang tidak termasuk ke dalam klasifikasi enam kode sebelumnya.\"\n",
            "               ],\n",
            "               \"context\": [\n",
            "                    \"\"\n",
            "               ]\n",
            "          },\n",
            "          {\n",
            "               \"tag\": \"pengelolaan_sampah_plastik\",\n",
            "               \"patterns\": [\n",
            "                    \"Cara pengelolaan sampah plastik?\",\n",
            "                    \"Pengelolaan sampah plastik?\",\n",
            "                    \"Bagamana cara pengelolaan sampah plastik\",\n",
            "                    \"Jelaskan pengelolaan sampah plastik\",\n",
            "                    \"Bagaimana daur ulang sampah plastik?\",\n",
            "                    \"Daur ulang sampah plastik\"\n",
            "               ],\n",
            "               \"responses\": [\n",
            "                    \"Berikut beberapa langkah dalam melakukan proses daur ulang plastik.\\n1. Collection (Pengumpulan), Langkah awal dalam proses daur ulang plastik ini sepenuhnya tergantung pada bisnis, restoran, dan masyarakat untuk membuang sampah plastik di tempat yang tepat, penting untuk memisahkan sampah biasa dan sampah plastik.\\n2. Sorting (Penyortiran), Plastik diurutkan berdasarkan beberapa cara yang umum. Contohnya seperti jenis plastik (bahan pembuatannya), warna plastik, atau bahkan cara pembuatannya.Setiap jenis plastik yang tidak sama harus mendapat perlakuan berbeda. \\n3. Washing (Pencucian), Plastik yang akan didaur ulang pun demikian sebelum menuju tahap lebih lanjut.Tujuan dari langkah dalam cara daur ulang plastik ini adalah menghilangkan kotoran dan segala sesuatu yang tidak terbuat dari bahan plastik.\\n4. Resizing (Perubahan Ukuran), Menghancurkan atau membuat butiran sampah plastik menjadi partikel yang lebih kecil. Langkah ini akan meningkatkan luas permukaan plastik, sehingga membuatnya lebih mudah untuk diproses, dibentuk kembali, dan diangkut jika diperlukan.\\n5. Identifikasi dan pemisahan plastik, Identifikasi dan pemisahan plastik maksudnya adalah saat partikel plastik kecil diuji untuk menentukan kualitas dan kelasnya. Langkah dalam proses daur ulang plastik ini dilakukan dengan cara menjatuhkan partikel ke terowongan angin kecil.\\n6. Compounding (Panggabungan), Compounding merupakan tahap ketika partikel kecil dihancurkan dan dilebur menjadi pelet plastik. Selanjutnya, pelet ini dapat digunakan untuk produksi plastik lainnya.\"\n",
            "               ],\n",
            "               \"context\": [\n",
            "                    \"\"\n",
            "               ]\n",
            "          },\n",
            "          {\n",
            "               \"tag\": \"produk_daur_ulang_plastik\",\n",
            "               \"patterns\": [\n",
            "                    \"Produk hasil pengelolaan plastik?\",\n",
            "                    \"Hasil daur ulang plastik?\",\n",
            "                    \"Produk hasil daur ulang plastik\",\n",
            "                    \"Sebutkan produk hasil daur ulang plastik\",\n",
            "                    \"Hasil pengelolaan sampah plastik\"\n",
            "               ],\n",
            "               \"responses\": [\n",
            "                    \"Botol dan wadah plastik: Botol plastik yang didaur ulang dapat digunakan kembali sebagai wadah untuk minuman, produk pembersih, atau produk perawatan pribadi. Mereka juga dapat digunakan sebagai wadah penyimpanan untuk makanan atau barang-barang kecil.\",\n",
            "                    \"Kantong belanja: Plastik daur ulang dapat diubah menjadi kantong belanja yang ramah lingkungan. Kantong belanja ini dapat digunakan kembali untuk mengurangi penggunaan kantong plastik sekali pakai.\",\n",
            "                    \"Meja atau bangku: Daur ulang plastik dapat menghasilkan meja atau bangku yang tahan lama dan ringan. Plastik daur ulang ini sering digunakan dalam proyek konstruksi dan desain arsitektur.\",\n",
            "                    \"Karpet atau alas lantai: Plastik daur ulang dapat diolah menjadi karpet atau alas lantai yang terbuat dari serat plastik. Ini membantu mengurangi penggunaan bahan baku alami seperti karet atau serat alami\",\n",
            "                    \"Produk taman dan kebun: Plastik daur ulang dapat digunakan untuk membuat pot tanaman, hiasan taman, atau panel pagar. Ini memberikan alternatif yang ramah lingkungan dan tahan lama untuk produk-produk taman dan kebun.\",\n",
            "                    \"Produk kertas plastik: Plastik daur ulang dapat diubah menjadi lembaran kertas plastik yang dapat digunakan sebagai bahan untuk membuat kantong, kemasan, atau bungkus.\",\n",
            "                    \"Produk tekstil: Plastik daur ulang dapat diubah menjadi serat plastik yang kemudian digunakan untuk membuat kain dan produk tekstil lainnya seperti baju, tas, atau alas kaki.\",\n",
            "                    \"Bahan konstruksi: Plastik daur ulang dapat diubah menjadi bahan konstruksi seperti panel dinding, papan kayu plastik, atau atap yang digunakan dalam proyek bangunan.\"\n",
            "               ],\n",
            "               \"context\": [\n",
            "                    \"\"\n",
            "               ]\n",
            "          },\n",
            "          {\n",
            "               \"tag\": \"hdpe\",\n",
            "               \"patterns\": [\n",
            "                    \"Apa itu HDPE?\",\n",
            "                    \"Apa itu sampah HDPE\",\n",
            "                    \"Pengertian HDPE\",\n",
            "                    \"Penjelasan HDPE\",\n",
            "                    \"HDPE\"\n",
            "               ],\n",
            "               \"responses\": [\n",
            "                    \"HDPE adalah kependekan dari High-Density Polyethylene, yang merupakan jenis plastik polietilen dengan densitas tinggi. HDPE adalah salah satu jenis plastik yang umum digunakan karena memiliki sifat yang tahan terhadap bahan kimia, kekuatan, ketahanan terhadap suhu tinggi dan rendah, serta daya tahan yang baik terhadap benturan.\\nSampah HDPE merujuk pada limbah atau material sisa yang terbuat dari HDPE atau mengandung HDPE. Sampah HDPE dapat berupa berbagai jenis produk dan kemasan yang terbuat dari HDPE, seperti botol plastik, jerry can, jerigen, wadah makanan, pipa, dan produk plastik lainnya yang menggunakan HDPE sebagai bahan utamanya.\"\n",
            "               ],\n",
            "               \"context\": [\n",
            "                    \"\"\n",
            "               ]\n",
            "          },\n",
            "          {\n",
            "               \"tag\": \"penanganan_sampah_hdpe\",\n",
            "               \"patterns\": [\n",
            "                    \"Bagaimana penanganan sampah hdpe?\",\n",
            "                    \"Penanganan sampah hdpe\",\n",
            "                    \"Cara penanganan sampah hdpe\",\n",
            "                    \"Penanganan sampah hdpe\",\n",
            "                    \"Memanfaatkan sampah hdpe\",\n",
            "                    \"Bagaimana cara memanfaatkan sampah hdpe\",\n",
            "                    \"Menggunakan sampah hdpe\"\n",
            "               ],\n",
            "               \"responses\": [\n",
            "                    \"Berikut adalah beberapa cara untuk memanfaatkan sampah HDPE:\\n1. Daur ulang: Salah satu cara paling umum untuk memanfaatkan sampah HDPE adalah dengan mendaur ulangnya. HDPE dapat didaur ulang menjadi bahan baku plastik baru yang dapat digunakan dalam berbagai produk, termasuk botol, wadah, pipa, dan lain sebagainya.\\n2. Pembuatan wadah dan benda tahan air: Sampah HDPE dapat digunakan untuk membuat berbagai wadah dan benda tahan air, seperti ember, jerrycan, kotak penyimpanan, dan bak mandi. HDPE memiliki sifat tahan air dan kekuatan yang baik, menjadikannya pilihan yang baik untuk aplikasi semacam ini.\\n3. Bahan tali atau tali plastik: HDPE dapat diolah menjadi serat atau tali plastik yang kuat dan tahan terhadap cuaca. Tali plastik semacam ini dapat digunakan dalam berbagai keperluan, seperti tali pengikat, jaring, atau benang untuk membuat kerajinan tangan.\\n4. Bahan penghalang: HDPE juga dapat digunakan sebagai bahan penghalang dalam konstruksi atau pertanian. Contohnya adalah film plastik HDPE yang digunakan sebagai lapisan pembungkus atau penutup tanah untuk menghambat pertumbuhan gulma atau melindungi tanaman.\\n5. Papan plastik atau panel: HDPE dapat diolah menjadi papan plastik atau panel yang kuat dan tahan lama. Papan HDPE dapat digunakan dalam berbagai aplikasi, seperti konstruksi bangunan, perabotan luar ruangan, papan jalan, atau lantai.\\n6. Kerajinan tangan dan karya seni: Sampah HDPE juga dapat dimanfaatkan dalam kerajinan tangan dan karya seni. HDPE dapat dipotong, dipanaskan, dan diubah menjadi berbagai bentuk dan pola yang unik. Contohnya adalah membuat aksesoris, perhiasan, atau dekorasi dengan teknik pengolahan panas atau cetakan.\"\n",
            "               ],\n",
            "               \"context\": [\n",
            "                    \"\"\n",
            "               ]\n",
            "          },\n",
            "          {\n",
            "               \"tag\": \"produk_daur_ulang_hdpe\",\n",
            "               \"patterns\": [\n",
            "                    \"Produk hasil pengelolaan hdpe?\",\n",
            "                    \"Hasil daur ulang hdpe?\",\n",
            "                    \"Produk hasil daur ulang hdpe\",\n",
            "                    \"Sebutkan produk hasil daur ulang hdpe\",\n",
            "                    \"Hasil pengelolaan sampah hdpe\"\n",
            "               ],\n",
            "               \"responses\": [\n",
            "                    \"Botol dan Wadah HDPE: Sampah HDPE seperti botol minuman atau wadah HDPE dapat didaur ulang menjadi botol dan wadah HDPE baru. Daur ulang HDPE dapat digunakan dalam berbagai industri, termasuk makanan dan minuman, produk perawatan pribadi, dan banyak lagi.\",\n",
            "                    \"Pipa HDPE: HDPE daur ulang dapat digunakan untuk membuat pipa HDPE yang kuat dan tahan lama. Pipa HDPE digunakan dalam berbagai aplikasi seperti sistem saluran air, pipa irigasi, pipa gas, dan pipa pembuangan.\",\n",
            "                    \"Lantai dan Papan HDPE: Sampah HDPE dapat diolah menjadi lantai atau papan HDPE yang digunakan dalam industri konstruksi. Lantai atau papan HDPE dapat digunakan untuk aplikasi seperti dek luar ruangan, tangga, dan tempat parkir.\",\n",
            "                    \"Bahan Pelapis atau Liner: HDPE daur ulang dapat digunakan sebagai bahan pelapis atau liner untuk melindungi permukaan atau melindungi tanah dari kontaminasi. Contohnya adalah liner tanah di landfill, pelapis kolam, atau pelapis taman bermain.\",\n",
            "                    \"Produk Kebun dan Pertanian: HDPE daur ulang dapat digunakan dalam pembuatan produk kebun dan pertanian seperti pot tanaman, tangki penyimpanan air, atau saluran irigasi. HDPE tahan terhadap kondisi luar yang keras dan memiliki ketahanan terhadap bahan kimia yang umum digunakan di sektor pertanian.\",\n",
            "                    \"Produk Kemasan: HDPE daur ulang juga digunakan dalam industri kemasan. Misalnya, HDPE daur ulang dapat digunakan untuk membuat kantong belanja, kantong plastik, bungkus makanan, dan produk kemasan lainnya.\",\n",
            "                    \"Produk Outdoor: HDPE daur ulang sering digunakan untuk membuat produk outdoor seperti kursi, meja, atau tempat duduk taman. HDPE memiliki ketahanan terhadap cuaca dan sinar UV, membuatnya cocok untuk digunakan di luar ruangan.\"\n",
            "               ],\n",
            "               \"context\": [\n",
            "                    \"\"\n",
            "               ]\n",
            "          },\n",
            "          {\n",
            "               \"tag\": \"kardus\",\n",
            "               \"patterns\": [\n",
            "                    \"Apa itu kardus?\",\n",
            "                    \"Apa itu sampah kardus\",\n",
            "                    \"Pengertian kardus\",\n",
            "                    \"Penjelasan kardus\",\n",
            "                    \"kardus\"\n",
            "               ],\n",
            "               \"responses\": [\n",
            "                    \"Kardus adalah bahan kemasan yang terbuat dari kertas tebal yang diperkuat dengan lapisan karton atau lembaran tebal lainnya. Kardus sering digunakan untuk membuat kotak atau wadah yang kuat dan tahan lama untuk mengemas dan melindungi barang-barang selama transportasi dan penyimpanan.\\nSampah kardus merujuk pada limbah atau material sisa yang terbuat dari kardus atau mengandung kardus. Sampah kardus biasanya terdiri dari kotak kardus bekas, wadah kardus, kemasan kardus, dan produk-produk lain yang terbuat dari kardus dan tidak lagi diperlukan atau rusak.\"\n",
            "               ],\n",
            "               \"context\": [\n",
            "                    \"\"\n",
            "               ]\n",
            "          },\n",
            "          {\n",
            "               \"tag\": \"produk_daur_ulang_kardus\",\n",
            "               \"patterns\": [\n",
            "                    \"Produk hasil pengelolaan kardus?\",\n",
            "                    \"Hasil daur ulang kardus?\",\n",
            "                    \"Produk hasil daur ulang kardus\",\n",
            "                    \"Sebutkan produk hasil daur ulang kardus\",\n",
            "                    \"Hasil pengelolaan sampah kardus\"\n",
            "               ],\n",
            "               \"responses\": [\n",
            "                    \"Kardus pengemasan: Kardus daur ulang dapat digunakan kembali sebagai bahan pengemas untuk mengemas barang-barang. Ini termasuk pengemasan produk e-commerce, pengemasan perpindahan, atau pengiriman paket.\",\n",
            "                    \"Kotak penyimpanan: Potongan kardus daur ulang dapat digunakan untuk membuat kotak penyimpanan yang berfungsi sebagai wadah untuk menyimpan barang-barang rumah tangga atau kantor.\",\n",
            "                    \"Organizer atau pemisah laci: Potongan kardus dapat dipotong dan dirakit menjadi organizer atau pemisah laci yang dapat digunakan untuk menjaga rapi dan mengatur barang-barang di dalam laci atau kotak penyimpanan.\",\n",
            "                    \"Papan tulis atau memo board: Kardus yang dilapisi dengan lembaran plastik atau kertas dapat digunakan sebagai papan tulis sederhana atau memo board. Anda dapat menulis atau menempelkan catatan atau pesan pada permukaan tersebut.\",\n",
            "                    \"Alat peraga atau model: Kardus daur ulang dapat digunakan untuk membuat alat peraga atau model seperti rumah, kendaraan, atau bangunan mini untuk tujuan pendidikan, presentasi, atau hobi.\",\n",
            "                    \"Perabotan sementara: Dengan kreativitas, potongan kardus dapat dijadikan perabotan sementara seperti meja sederhana, kursi, atau rak buku. Meskipun sifatnya sementara, ini dapat berguna untuk keperluan sementara atau situasi darurat.\",\n",
            "                    \"Kerajinan tangan: Kardus daur ulang dapat diubah menjadi berbagai kerajinan tangan seperti topi, hiasan dinding, kerajinan origami, atau proyek seni dan kerajinan lainnya.\"\n",
            "               ],\n",
            "               \"context\": [\n",
            "                    \"\"\n",
            "               ]\n",
            "          },\n",
            "          {\n",
            "               \"tag\": \"detergen\",\n",
            "               \"patterns\": [\n",
            "                    \"Apa itu detergen?\",\n",
            "                    \"Apa itu sampah detergen\",\n",
            "                    \"Pengertian detergen\",\n",
            "                    \"Penjelasan detergen\",\n",
            "                    \"detergen\"\n",
            "               ],\n",
            "               \"responses\": [\n",
            "                    \"Detergen adalah zat kimia yang digunakan untuk membersihkan atau mencuci. Biasanya, detergen digunakan untuk mencuci pakaian, peralatan rumah tangga, peralatan makan, dan permukaan lain yang memerlukan penghilangan kotoran atau noda.\\nDetergen terdiri dari campuran bahan kimia yang dirancang untuk menghilangkan noda, lemak, minyak, dan kotoran lainnya. Bahan-bahan utama dalam detergen meliputi surfaktan (seperti alkilbenzena sulfonat), penghancur noda, penghilang kotoran, enzim, pengharum, dan bahan pengisi lainnya.\\nSampah detergen merujuk pada limbah atau sisa-sisa dari produk detergen yang tidak lagi diperlukan setelah digunakan. Sampah detergen dapat berupa botol atau kemasan detergen yang kosong atau sisa detergen yang tidak terpakai. Sampah detergen juga bisa terjadi dalam bentuk pembuangan limbah cair detergen ke saluran pembuangan atau lingkungan.\"\n",
            "               ],\n",
            "               \"context\": [\n",
            "                    \"\"\n",
            "               ]\n",
            "          },\n",
            "          {\n",
            "               \"tag\": \"pengelolaan_detergen\",\n",
            "               \"patterns\": [\n",
            "                    \"Cara pengelolaan detergen?\",\n",
            "                    \"Pengelolaan detergen?\",\n",
            "                    \"Bagamana cara pengelolaan detergen\",\n",
            "                    \"Jelaskan pengelolaan detergen\",\n",
            "                    \"Bagaimana daur ulang detergen?\",\n",
            "                    \"Daur ulang detergen\"\n",
            "               ],\n",
            "               \"responses\": [\n",
            "                    \"Pengelolaan yang tepat melibatkan tindakan seperti:\\n1. Pemisahan: Pisahkan botol atau kemasan detergen yang sudah habis dari sampah lainnya. Ini memudahkan proses daur ulang dan pengelolaan yang lebih baik.\\n2. Pembersihan: Pastikan botol atau kemasan detergen yang sudah habis benar-benar kosong. Jika ada sisa detergen di dalamnya, bilas botol atau kemasan dengan air bersih untuk menghilangkan residu detergen yang tersisa.\\n3. Daur ulang: Jika memungkinkan, masukkan botol atau kemasan detergen yang sudah bersih ke dalam tempat daur ulang yang disediakan di daerah Anda. Botol detergen yang terbuat dari plastik dapat didaur ulang menjadi bahan baku baru untuk pembuatan produk plastik lainnya.\\n4. Pembuangan yang benar: Jika tidak ada fasilitas daur ulang yang tersedia, pastikan untuk membuang botol atau kemasan detergen dengan benar sesuai dengan pedoman pengelolaan sampah yang berlaku di daerah Anda. Mungkin ada program pengumpulan khusus atau pusat daur ulang di sekitar Anda yang menerima botol detergen.\"\n",
            "               ],\n",
            "               \"context\": [\n",
            "                    \"\"\n",
            "               ]\n",
            "          },\n",
            "          {\n",
            "               \"tag\": \"pentingnya_mengelola_limbah detergen\",\n",
            "               \"patterns\": [\n",
            "                    \"Pentingnya mengelola limbah detergen?\",\n",
            "                    \"Kenapa pengelolaan limbah detergen itu penting?\",\n",
            "                    \"Penjelasan pengelolaan limbah detergen\",\n",
            "                    \"mengelola limbah detergen\"\n",
            "               ],\n",
            "               \"responses\": [\n",
            "                    \"Beberapa fakta di bawah ini sangat mempengaruhi alasan pentingnya mengatasi limbah air detergen. Diantaranya:\\n1. Eutrofikasi, Timbulnya eutrofikasi ini disebabkan oleh kandungan senyawa phosphate pada detergen.\\n2. Menurunkan Kualitas Air, Air yang memiliki kualitas rendah, tentunya tidak bisa gunakan, apalagi jika untuk dikonsumsi.\\n3. Mengandung Bahan Jahat, Senyawa turunan minyak bumi atau disebut juga dengan surfaktan ini memiliki fungsi dalam menurunkan tegangan pada permukaan air. Artinya, permukaan tersebut menjadi lebih basah.  Sehingga dapat berinteraksi dengan lemak atau minyak. Kandungan senyawa turunan minyak  yang ada pada detergen sangat berbahaya untuk lingkungan sekitar. Tak hanya itu, senyawa surfaktan yang ada pada detergen, terdeteksi adanya kandungan yang sulit untuk diuraikan.\\n4. Pencemaran Lingkungan, Adanya pencemaran lingkungan ini, tentunya berbahaya untuk lingkungan itu sendiri, penyebab biota mati atau bahkan sumber segala penyakit. Limbah air detergen ini merupakan sumber timbul adanya penyakit, sebab kandungan senyawa pada detergen tersebut. Penyakit yang ditimbulkan dari detergen ini biasanya berupa iritasi pada kulit, mata, atau parahnya, dapat menimbulkan penyakit kanker.  \"\n",
            "               ],\n",
            "               \"context\": [\n",
            "                    \"\"\n",
            "               ]\n",
            "          },\n",
            "          {\n",
            "               \"tag\": \"mengatasi_limbah_air_detergen\",\n",
            "               \"patterns\": [\n",
            "                    \"Cara mengatasi limbah air detergen?\",\n",
            "                    \"Bagaimana cara mengatasi limbah air detergen?\",\n",
            "                    \"Penjelasan mengatasi limbah air detergen\",\n",
            "                    \"mengatasi limbah air detergen\"\n",
            "               ],\n",
            "               \"responses\": [\n",
            "                    \"Adapun cara yang bisa dilakukan dalam mengatasi limbah cairan rumahan, Termasuk detergen ini yaitu dengan cara di bawah ini. Diantaranya:\\n1. Menggunakan Air Pembersih yang Ramah Lingkungan, Dalam memilih detergen yang ramah lingkungan ini ,biasanya terlihat pada kandungan busanya. Dimana, detergen dengan jenis seperti ini memiliki kandungan busa yang lebih sedikit, daripada jenis detergen lainnya.Sehingga, air bekas detergen ini bisa gunakan kembali.\\n2. Mengurangi Buangan Air Limbah, Anda pun bisa melakukan penghematan dengan cara  menggunakan kembali air rendaman pakaian yang memiliki daya bersih yang cukup. Seperti menggunakan kembali untuk mencuci sandal, lap, dan lainnya.\\n3. Membuat Sistem Pengolahan Air Limbah, Anda bisa melakukan proses filter ini dengan menggunakan kiambang atau kangkung. Dengan kedua cara tersebut, diharapkan  dapat mengurangi ataupun mengatasi bau yang tidak sedap pada air limbah.\"\n",
            "               ],\n",
            "               \"context\": [\n",
            "                    \"\"\n",
            "               ]\n",
            "          },\n",
            "          {\n",
            "               \"tag\": \"sampah_organik\",\n",
            "               \"patterns\": [\n",
            "                    \"Apa itu sampah organik?\",\n",
            "                    \"Jelaskan sampah organik\",\n",
            "                    \"Pengertian sampah organik\",\n",
            "                    \"Penjelasan sampah organik\",\n",
            "                    \"sampah organik\"\n",
            "               ],\n",
            "               \"responses\": [\n",
            "                    \"Sampah Organik: Sampah organik terdiri dari bahan-bahan yang berasal dari sumber-sumber hayati atau organisme hidup. Ini termasuk sisa makanan, ampas sayuran dan buah-buahan, daun kering, ranting, rumput, sisa-sisa tanaman, kertas, dan sebagainya. Sampah organik dapat terdekomposisi secara alami oleh mikroorganisme melalui proses pembusukan atau kompos.\\nPengelolaan sampah organik meliputi kompos, yaitu proses penguraian sampah organik oleh mikroorganisme menjadi bahan kompos yang berguna sebagai pupuk organik untuk tanaman. Sampah organik juga dapat diolah melalui metode pengomposan atau pengolahan anaerobik menjadi energi dalam bentuk biogas.\"\n",
            "               ],\n",
            "               \"context\": [\n",
            "                    \"\"\n",
            "               ]\n",
            "          },\n",
            "          {\n",
            "               \"tag\": \"sampah_anorganik\",\n",
            "               \"patterns\": [\n",
            "                    \"Apa itu sampah anorganik?\",\n",
            "                    \"Jelaskan sampah anorganik\",\n",
            "                    \"Pengertian sampah anorganik\",\n",
            "                    \"Penjelasan sampah anorganik\",\n",
            "                    \"sampah anorganik\"\n",
            "               ],\n",
            "               \"responses\": [\n",
            "                    \"Sampah Anorganik: Sampah anorganik terdiri dari bahan-bahan yang tidak berasal dari organisme hidup dan tidak mudah terurai alami. Ini termasuk kertas yang dilapisi plastik, kemasan plastik, botol plastik, kaleng, kaca, logam, kayu yang diberi lapisan atau bahan kimia, karet, styrofoam, dan lain sebagainya.\\nPengelolaan sampah anorganik melibatkan proses seperti pengumpulan, pemilahan, dan daur ulang. Sampah anorganik sering kali dapat didaur ulang menjadi bahan baku baru untuk mengurangi kebutuhan akan produksi bahan baru dan mengurangi dampak lingkungan dari sampah yang berakhir di tempat pembuangan akhir.\"\n",
            "               ],\n",
            "               \"context\": [\n",
            "                    \"\"\n",
            "               ]\n",
            "          },\n",
            "          {\n",
            "               \"tag\": \"kategori_sampah_organik\",\n",
            "               \"patterns\": [\n",
            "                    \"Apa saja ketegori sampah organik?\",\n",
            "                    \"Kategori sampah organik ada apa aja?\",\n",
            "                    \"Kategori sampah organik dong\",\n",
            "                    \"Sebutkan kategori sampah organik\",\n",
            "                    \"Sebut dan jelaskan kategori sampah organik!\",\n",
            "                    \"Jelasin kategori sampah organik dong\"\n",
            "               ],\n",
            "               \"responses\": [\n",
            "                    \"Sampah organik juga bisa dibedakan menjadi lebih detail ke dalam lima jenis berdasarkan sumber atau jenis sampahnya. Kelima kategori itu adalah:\\n1. Sisa Makanan, Sampah sisa makanan, seperti namanya, mencakup segala jenis sampah yang dihasilkan dari proses mengelola makanan, mulai dari sisa-sisa bahan makanan seperti kulit telur, bonggol sayuran, kulit buah, tulang ikan dan ayam, serta material lain yang tidak dikonsumsi.\\n Selain itu, sisa makanan juga mencakup makanan matang yang tidak habis atau tidak terkonsumsi, seperti misalnya buah-buahan dan sayuran yang tidak laku atau terlanjur busuk sehingga sudah tidak layak konsumsi dan harus dibuang. Biasanya dikenal juga dengan istilah food waste/food loss.\\n2. Sampah Kebun, Sampah kebun mencakup segala jenis material yang umumnya berasal dari taman atau pekarangan seperti daun-daun kering, ranting, serta rumput dan daun yang dipangkas. \\n3. Sampah Agrikultur/Pertanian, Sampah pertanian berasal dari proses pemrosesan tanaman seperti batang jagung, sekam padi, dan dedaunan. Biasanya dikelola dengan cara dikompos.\\n4. Sampah Sisa Hewan Ternak, Sampah dari hewan ternak seperti kotoran sapi dan kambing juga dikategorikan sebagai sampah organik. Kotoran hewan ini biasanya digunakan sebagai pupuk atau diolah menjadi biogas untuk dipakai sebagai bahan bakar.\\n5. Sampah dari Bagian Tubuh, Bagian tubuh yang dimaksud antara lain rambut dan kuku manusia, serta bulu atau kulit dari hewan. Bahkan, rambut dan kuku kita bisa juga dimasukkan ke dalam komposter. \"\n",
            "               ],\n",
            "               \"context\": [\n",
            "                    \"\"\n",
            "               ]\n",
            "          },\n",
            "          {\n",
            "               \"tag\": \"jenis_sampah_organik\",\n",
            "               \"patterns\": [\n",
            "                    \"Apa saja jenis-jenis sampah organik?\",\n",
            "                    \"Jenis sampah organik ada apa aja?\",\n",
            "                    \"Jenis sampah organik dong\",\n",
            "                    \"Sebutkan jenis-jenis sampah organik\",\n",
            "                    \"Sebut dan jelaskan jenis sampah organik!\",\n",
            "                    \"Jelasin jenis sampah organik dong\"\n",
            "               ],\n",
            "               \"responses\": [\n",
            "                    \"Terdapat dua jenis dari sampah organik, yakni sampah organik kering dan sampah organik basah.\\n1. Sampah Organik Kering, Sampah organik kering termasuk sampah organik yang kadar airnya sedikit dan cenderung lebih lama terurainya dibandingkan sampah organik basah. Contohnya, dedaunan kering, ranting pohon, dan kayu.\\n2. Sampah Organik Basah, Sampah organik adalah sampah yang memiliki kandungan air yang cukup tinggi. Inilah yang menyebabkan sampah organik menjadi cepat membusuk dan menimbulkan bau tidak sedap. Contoh sampah organik basah, antara lain buah-buahan, sayur-sayuran, kotoran hewan, dan sisa makanan. \"\n",
            "               ],\n",
            "               \"context\": [\n",
            "                    \"\"\n",
            "               ]\n",
            "          },\n",
            "          {\n",
            "               \"tag\": \"contoh_sampah_organik\",\n",
            "               \"patterns\": [\n",
            "                    \"Apa saja contoh sampah organik?\",\n",
            "                    \"Contoh sampah organik ada apa aja?\",\n",
            "                    \"Contoh sampah organik dong\",\n",
            "                    \"Sebutkan contoh sampah organik\",\n",
            "                    \"Sebut dan jelaskan contoh sampah organik!\",\n",
            "                    \"Jelasin contoh sampah organik dong\"\n",
            "               ],\n",
            "               \"responses\": [\n",
            "                    \"Berikut beberapa contoh sampah organik, di antaranya yaitu:\\n1. Sisa Buah dan Sayur, contohnya, kulit pisang, kulit semangka, apel membusuk, jeruk busuk, tomat busuk, dll.\\n2. Sisa-sisa Makanan, sampah rumah tangga, seperti ampas kopi atau teh, cangkang telur, tepung bekas, kulit atau biji buah, sayuran layu, dll.\\n3. Kotoran Hewan, kotoran hewan adalah salah satu sampah organik yang mempunyai manfaat yang cukup baik. Misalnya, kotoran sapi yang bisa dimanfaatkan menjadi biogas alam.\\n4. Dedaunan, daun juga bisa dimanfaatkan sebagai karya seni serta pupuk kompos yang dapat diperjualbelikan.\\n5. Kayu, sampah kayu bisa dimanfaatkan sebagai karya seni maupun sumber energi terbarukan karena kayu mengandung selulosa.\"\n",
            "               ],\n",
            "               \"context\": [\n",
            "                    \"\"\n",
            "               ]\n",
            "          },\n",
            "          {\n",
            "               \"tag\": \"manfaat_sampah_organik\",\n",
            "               \"patterns\": [\n",
            "                    \"Apa saja manfaat sampah organik?\",\n",
            "                    \"Manfaat sampah organik ada apa aja?\",\n",
            "                    \"Manfaat sampah organik dong\",\n",
            "                    \"Sebutkan manfaat sampah organik\",\n",
            "                    \"Sebut dan jelaskan manfaat sampah organik!\",\n",
            "                    \"Jelasin manfaat sampah organik dong\"\n",
            "               ],\n",
            "               \"responses\": [\n",
            "                    \"Berikut beberapa manfaat sampah organik:\\n1. Sampah Organik Untuk Kompos (Pupuk Organik)\\nSampah organik semacam buah-buahan atau sayuran busuk dijadikan sebagai suatu hal yang berguna, diantaranya yakni pupuk kompos.\\n2. Tambahan Pakan Ternak\\nSampah organik juga dapat dijadikan sebagai tambahan pakan untuk ternak. Bukan Cuma dimanfaatkan sebagai tambahan pakan bagi kambing, sapi, maupun ayam, sampah organik juga bisa diolah menjadi pelet untuk makanan ikan.\\n3. Biogas dan Listrik\\nSampah organik seperti kotoran hewan, kotoran manusia, limbah tempe, ataupun limbah tahu bisa dimanfaatkan sebagai bahan utama biogas sekaligus sumber listrik.\"\n",
            "               ],\n",
            "               \"context\": [\n",
            "                    \"\"\n",
            "               ]\n",
            "          },\n",
            "          {\n",
            "               \"tag\": \"dampak_sampah_organik\",\n",
            "               \"patterns\": [\n",
            "                    \"Apa saja dampak sampah organik?\",\n",
            "                    \"Dampak sampah organik ada apa aja?\",\n",
            "                    \"Dampak sampah organik dong\",\n",
            "                    \"Sebutkan dampak sampah organik\",\n",
            "                    \"Sebut dan jelaskan dampak sampah organik!\",\n",
            "                    \"Jelasin dampak sampah organik dong\"\n",
            "               ],\n",
            "               \"responses\": [\n",
            "                    \"Dampak sampah organik bagi lingkungan adalah sebagai berikut.\\n- Tercemarnya sumber air, Sampah organik yang dibuang ke sungai, danau, waduk, dan sumber air lainnya dapat mencemari air. Rembesan sampah organik basah ke dalam tanah juga dapat mencemari air tanah.\\n- Binatang terancam mati, Matinya beberapa binatang merupakan dampak lanjutan dari tercemarnya sumber air. Ikan dan binatang lain yang menggantungkan hidup dengan sumber air akan terancam mati karena air telah tercemar.\\n- Rawan tanah longsor, Sampah organik bersifat lunak sehingga tumpukan sampah organik di TPA membuat tanah menjadi tidak stabil dan bisa terjadi longsor sewaktu-waktu.\\n- Munculnya lingkungan kumuh, Tumpukan sampah dapat menimbulkan lingkungan kumuh dengan pemandangan tidak sedap dan dikeliling lalat. Sampah yang berceceran dapat mengurangi keindahan pemandangan dan menjadikan daerah tersebut tidak layak dijadikan tempat tinggal.\\n-Polisi udara, Penguraian sampah organik terutama sampah organik basah dapat menimbulkan bau tidak sedap yang dapat mencemari udara. Bila sampah dibuang ke air, maka akan menghasilkan asam organik dan gas organik seperti metana. Metana inilah yang menimbulkan bau tidak sedap dan dapat meledak bila terdapat pada konsentrasi yang tinggi.\"\n",
            "               ],\n",
            "               \"context\": [\n",
            "                    \"\"\n",
            "               ]\n",
            "          },\n",
            "          {\n",
            "               \"tag\": \"pengelolaan_sampah_organik\",\n",
            "               \"patterns\": [\n",
            "                    \"Apa itu pengelolaan sampah organik?\",\n",
            "                    \"Apa saja yang termasuk pengelolaan sampah organik?\",\n",
            "                    \"Pengelolaan sampah organik\",\n",
            "                    \"Daur ulang sampah organik\",\n",
            "                    \"Cara membuat kompos\",\n",
            "                    \"cara memisahkan sampah\",\n",
            "                    \"cara pengomposaan\",\n",
            "                    \"Cara daur ulang sampah organik\"\n",
            "               ],\n",
            "               \"responses\": [\n",
            "                    \"Pengelolaan sampah organik dapat dilakukan melalui beberapa langkah agar dapat menjadi sesuatu yang bermanfaat, antara lain:\\n1. Pemisahan Sampah: Pisahkan sampah organik dari sampah non-organik seperti plastik, kertas, atau logam. Pemisahan ini memudahkan proses pengolahan selanjutnya.\\n2. Kompos: Sampah organik seperti sisa makanan atau daun dapat diolah menjadi kompos. Kompos dapat digunakan sebagai pupuk organik untuk memperbaiki kualitas tanah. Langkah-langkah dalam membuat kompos meliputi:\\n- Hancurkan bahan organik agar terurai lebih cepat.\\n- Tempatkan bahan organik yang sudah dihancurkan dalam keranjang kompos atau tempat kompos yang terpisah.\\n- Berikan kelembaban yang cukup dan campurkan dengan bahan tambahan seperti serasah daun atau sekam padi.\\n- Aduk kompos secara berkala untuk mempercepat dekomposisi dan menjaga kelembaban.\\n- Setelah beberapa bulan, kompos akan matang dan siap digunakan sebagai pupuk.\\n3. Pemanfaatan Energi: Sampah organik juga dapat diolah menjadi energi melalui proses pembuatan biogas atau bioenergi. Proses ini melibatkan penguraian sampah organik menggunakan bakteri atau mikroorganisme tertentu yang menghasilkan gas metana. Gas metana ini dapat digunakan sebagai bahan bakar untuk menghasilkan energi listrik atau panas.\\n4. Pengomposan Komunitas: Jika Anda tinggal di area dengan pengelolaan sampah terbatas, Anda dapat mengadopsi metode pengomposan komunitas. Caranya adalah dengan mengumpulkan sampah organik dari masyarakat sekitar dan mengolahnya menjadi kompos secara bersama-sama. Ini bisa dilakukan di taman, area komunal, atau tempat lain yang disediakan untuk pengomposan.\\n5. Pengolahan Anaerobik: Metode pengolahan anaerobik melibatkan penguraian sampah organik dalam lingkungan bebas oksigen. Ini dapat dilakukan dengan menggunakan reaktor anaerobik, seperti bioreaktor atau sistem pembuatan biogas skala kecil. Proses ini menghasilkan biogas yang dapat digunakan sebagai sumber energi.\"\n",
            "               ],\n",
            "               \"context\": [\n",
            "                    \"\"\n",
            "               ]\n",
            "          },\n",
            "          {\n",
            "               \"tag\": \"styrofoam\",\n",
            "               \"patterns\": [\n",
            "                    \"Apa itu sampah styrofoam?\",\n",
            "                    \"Jelaskan sampah styrofoam\",\n",
            "                    \"Pengertian sampah styrofoam\",\n",
            "                    \"Penjelasan sampah styrofoam\",\n",
            "                    \"sampah styrofoam\"\n",
            "               ],\n",
            "               \"responses\": [\n",
            "                    \"Styrofoam adalah merek dagang untuk jenis polistirena yang diekstrusi, yaitu bahan plastik yang ringan, tahan air, dan memiliki isolasi panas yang baik. Secara umum, istilah 'styrofoam' digunakan secara luas untuk merujuk pada produk-produk polistirena berbusa yang digunakan dalam berbagai aplikasi, seperti kemasan pelindung, wadah makanan, kotak pendingin, material insulasi, dan benda-benda lain yang memerlukan sifat ringan dan insulasi termal.\\nSampah styrofoam merujuk pada limbah atau sisa-sisa yang terbuat dari styrofoam atau polistirena berbusa. Ini bisa termasuk bungkus atau kemasan styrofoam yang sudah tidak terpakai lagi, baki makanan styrofoam, kotak pendingin styrofoam, mangkuk atau wadah styrofoam, dan produk-produk lain yang terbuat dari styrofoam dan tidak lagi diperlukan.\"\n",
            "               ],\n",
            "               \"context\": [\n",
            "                    \"\"\n",
            "               ]\n",
            "          },\n",
            "          {\n",
            "               \"tag\": \"efek_styrofoam\",\n",
            "               \"patterns\": [\n",
            "                    \"Apa efek pengunaan syrofoam?\",\n",
            "                    \"Efek styrofoam?\",\n",
            "                    \"Sebutkan efek penggunaan styrofoam\",\n",
            "                    \"Jelaskan efek penggunaan styrofoam\",\n",
            "                    \"Bagaimana efek penggunaan styrofoam?\",\n",
            "                    \"efek penggunaan styrofoam\"\n",
            "               ],\n",
            "               \"responses\": [\n",
            "                    \"Efek Penggunaan Styrofoam bagi Kesehatan dan Lingkungan\\n1.Berikut adalah dampak dari penggunaan styrofoam dari segi kesehatan:\\n2.Bahan yang digunakan dalam styrofoam yaitu polistiren mengandung zat karsinogen yang membahayakan tubuh karena zat tersebut dapat menyebabkan kanker\\n3.Paparan polistiren kepada pengguna styrofoam dapat menyebabkan iritasi pada kulit, mata, saluran pernapasan, dan saluran pencernaan\\n4.Paparan yang lebih kronis akan menyebabkan depresi, sakit kepala, kelelahan, kelemahan, gangguan pendengaran bahkan gangguan fungsi ginjal. Hal ini dapat terjadi kepada para pekerja di pabrik pembuatan styrofoam karena mereka berinteraksi secara intensif dengan styrofoam setiap hari. \\n5.Pembuatan styrofoam membutuhkan zat hidrokarbon yang jika terlepas di udara dan bereaksi dengan nitrogen oksida dan menghasilkan ozon di tanah dapat menyebabkan rusaknya fungsi paru-paru. Sehingga akan terjadi penyakit pernapasan \\n6.Sampah styrofoam yang dibuang dan dibakar juga akan membahayakan. Hal ini dikarenakan proses pembakaran sampah styrofoam dapat menghasilkan campuran racun yang dapat merusak fungsi sistem saraf\\n7.Penggunaan styrofoam sebagai wadah makanan juga dapat membuat makanan terkontaminasi terhadap polistiren. Terutama pada makanan yang bersuhu tinggi, mengandung lemak tinggi, atau terlalu lama pada wadah styrofoam menjadikan makanan berpeluang lebih besar terkontaminasi\\nDengan beberapa poin di atas, wadah styrofoam sangat tidak direkomendasikan untuk digunakan sebagai wadah makanan secara langsung. \"\n",
            "               ],\n",
            "               \"context\": [\n",
            "                    \"\"\n",
            "               ]\n",
            "          },\n",
            "          {\n",
            "               \"tag\": \"pengelolaan_sampah_styrofoam\",\n",
            "               \"patterns\": [\n",
            "                    \"Apa itu pengelolaan sampah styrofoam?\",\n",
            "                    \"Apa saja yang termasuk pengelolaan sampah styrofoam?\",\n",
            "                    \"Pengelolaan sampah styrofoam\",\n",
            "                    \"Daur ulang sampah styrofoam\",\n",
            "                    \"Bagaimana cara pengelolaan styrofoam?\",\n",
            "                    \"Cara daur ulang sampah styrofoam\"\n",
            "               ],\n",
            "               \"responses\": [\n",
            "                    \"Pengelolaan sampah styrofoam melibatkan beberapa pendekatan, antara lain:\\nPengurangan penggunaan: Mengurangi penggunaan styrofoam atau polistirena berbusa dengan menggantinya dengan bahan alternatif yang lebih ramah lingkungan, seperti kertas, karton, atau bahan-bahan daur ulang.\\nDaur ulang: Beberapa daerah atau fasilitas daur ulang mungkin dapat menerima styrofoam untuk didaur ulang menjadi bahan baku baru. Namun, proses daur ulang styrofoam tidak seumum daur ulang bahan lain, dan pengolahan styrofoam menjadi bahan daur ulang dapat menjadi sulit dan mahal.\\nPenggunaan kembali: Jika styrofoam masih dalam kondisi baik, dapat digunakan kembali untuk tujuan yang sama atau diubah menjadi produk lain yang dapat digunakan, seperti kemasan pelindung atau material kreatif dalam proyek DIY.\\nPengelolaan limbah: Jika tidak ada opsi daur ulang atau penggunaan kembali yang tersedia, penting untuk membuang sampah styrofoam dengan benar sesuai dengan peraturan dan pedoman yang berlaku di wilayah Anda.\\nSebagai warga masyarakat, untuk mengurangi efek kesehatan bagi tubuh menggunakan wadah pribadi dapat menjadi alternatif pengganti wadah styrofoam. Selain higienitas yang lebih baik, menggunakan tempat makan sendiri juga turut mengurangi produksi sampah.\\nProdusen juga diharapkan dapat beralih ke kemasan lain yang lebih berkelanjutan dan dapat didaur ulang dengan lebih baik. Contoh kemasan tersebut dapat dikomposkan seperti daun pisang, daun jati, wadah tempurung kelapa. Selain minim sampah, pengemasan tradisional tersebut nampah lebih estetik dan dapat menjadi daya tarik.\"\n",
            "               ],\n",
            "               \"context\": [\n",
            "                    \"\"\n",
            "               ]\n",
            "          },\n",
            "          {\n",
            "               \"tag\": \"dampak_sampah_styrofoam\",\n",
            "               \"patterns\": [\n",
            "                    \"Apa saja dampak sampah styrofoam\",\n",
            "                    \"Dampak sampah styrofoam ada apa aja?\",\n",
            "                    \"Dampak sampah styrofoam dong\",\n",
            "                    \"Sebutkan dampak sampah styrofoam\",\n",
            "                    \"Sebut dan jelaskan dampak sampah styrofoam!\",\n",
            "                    \"Jelasin dampak sampah styrofoam dong\"\n",
            "               ],\n",
            "               \"responses\": [\n",
            "                    \"Selain itu, wadah styrofoam yang tidak terkelola memiliki dampak bagi lingkungan:\\n1.Bahan nya yang terbuat dari busa membuat styrofoam ringan dan mudah terbawa angin. Hal ini sangat memungkinkan sampah styrofoam tercecer di jalan atau bahkan berakhir di laut dan mencemari lingkungan laut. \\n2.Bahan nya yang ringan juga membuat wadah ini mudah hancur sehingga dikhawatirkan termakan hewan baik yang ada di darat maupun yang ada di laut. \\n3.Bahan polistirena yang ada di styrofoam membuat sampah styrofoam sulit untuk terdegradasi. Pun jika terdegradasi, zat kimia yang terkandung di dalamnya akan larut dan dapat merusak sumber air. \\n4.Manufaktur styrofoam menjadi salah satu pencipta limbah berbahaya terbesar karena dalam pembuatannya memberikan kontribusi besar dalam pemanasan global. Hal ini dikarenakan pembuatan styrofoam terdapat senyawa yang merusak ozon.\\n5.Saat proses pembuatan styrofoam, terdapat jutaan karbon dioksida yang terlepas ke atmosfer. Hal ini tentu menjadi pemicu pemanasan global.\\nEfek bahaya bagi kesehatan dan lingkungan menyebabkan styrofoam dilarang penggunaannya di beberapa wilayah di Amerika Serikat seperti New York, Washington DC, New Jersey dan lain sebagainya. \"\n",
            "               ],\n",
            "               \"context\": [\n",
            "                    \"\"\n",
            "               ]\n",
            "          },\n",
            "          {\n",
            "               \"tag\": \"sampah_elektronik\",\n",
            "               \"patterns\": [\n",
            "                    \"Apa itu sampah elektronik?\",\n",
            "                    \"Jelaskan sampah elektronik\",\n",
            "                    \"Pengertian sampah elektronik\",\n",
            "                    \"Penjelasan sampah elektronik\",\n",
            "                    \"sampah elektronik\"\n",
            "               ],\n",
            "               \"responses\": [\n",
            "                    \"Sampah elektronik, yang juga dikenal sebagai e-waste (electronic waste), merujuk pada limbah yang dihasilkan dari barang-barang elektronik yang tidak lagi berfungsi, usang, atau tidak diinginkan. Ini mencakup berbagai perangkat elektronik, seperti komputer, laptop, telepon seluler, televisi, printer, peralatan rumah tangga elektronik, peralatan audio/video, konsol game, perangkat elektronik medis, dan sejenisnya.\\nSampah elektronik terdiri dari komponen-komponen elektronik yang mengandung berbagai bahan beracun dan berbahaya, seperti timbal, merkuri, kadmium, kromium, dan berbagai logam berat lainnya. Selain itu, sampah elektronik juga bisa mengandung bahan berharga yang dapat didaur ulang, seperti emas, perak, dan tembaga.\"\n",
            "               ],\n",
            "               \"context\": [\n",
            "                    \"\"\n",
            "               ]\n",
            "          },\n",
            "          {\n",
            "               \"tag\": \"jenis_sampah_elektronik\",\n",
            "               \"patterns\": [\n",
            "                    \"Apa saja jenis-jenis sampah elektronik?\",\n",
            "                    \"Jenis sampah elektronik ada apa aja?\",\n",
            "                    \"Jenis sampah elektronik dong\",\n",
            "                    \"Sebutkan jenis-jenis sampah elektronik\",\n",
            "                    \"Sebut dan jelaskan jenis sampah elektronik!\",\n",
            "                    \"Jelasin jenis sampah elektronik dong\"\n",
            "               ],\n",
            "               \"responses\": [\n",
            "                    \"Pengkategorian sampah elektronik atau e-waste umumnya dibedakan berdasarkan bentuknya. Situs Hijau Indonesia, Hijauku.com mengkategorikan sampah elektronik menjadi 5 bentuk. Yaitu dalam bentuk telepon seluler, notepads dan tablet, laptop dan PC, Televisi dan Monitor, serta Kabel.\\nSementara menurut EwasteRJ, suatu komunitas yang berfokus pada pengelolaan sampah elektronik, e-waste atau sampah elektronik dapat dibedakan menjadi enam jenis, yakni; peralatan rumah tangga (penanak nasi elektrik, setrika, vacuum cleaner, dll.), peralatan hiburan (kamera, radio, DVD player), peralatan teknologi informasi dan komunikasi (ponsel, komputer, flashdisk), peralatan listrik (baterai, kabel, stopkontak), perlengkapan cahaya (bohlam, lampu LED), dan mainan serta alat olahraga (konsol gim, treadmill).\"\n",
            "               ],\n",
            "               \"context\": [\n",
            "                    \"\"\n",
            "               ]\n",
            "          },\n",
            "          {\n",
            "               \"tag\": \"pengelolaan_sampah_elektronik\",\n",
            "               \"patterns\": [\n",
            "                    \"Apa itu pengelolaan sampah elektronik?\",\n",
            "                    \"Apa saja yang termasuk pengelolaan sampah elektronik?\",\n",
            "                    \"Pengelolaan sampah elektronik\",\n",
            "                    \"Daur ulang sampah elektronik\",\n",
            "                    \"Bagaimana cara pengelolaan elektronik?\",\n",
            "                    \"Cara daur ulang sampah elektronik\"\n",
            "               ],\n",
            "               \"responses\": [\n",
            "                    \"Pengelolaan sampah elektronik menjadi penting karena limbah ini dapat memiliki dampak negatif pada lingkungan dan kesehatan manusia jika tidak dikelola dengan baik. Beberapa pendekatan dalam pengelolaan sampah elektronik meliputi:\\n1. Daur ulang: Komponen elektronik yang masih dapat digunakan atau bahan berharga yang terkandung di dalamnya dapat didaur ulang. Proses daur ulang e-waste melibatkan pemulihan dan pemrosesan bahan berharga, pemulihan energi, dan pemrosesan yang aman untuk limbah yang tidak dapat didaur ulang.\\n2. Pengumpulan dan pemilahan: Penting untuk memiliki sistem pengumpulan dan pemilahan yang efektif untuk memisahkan sampah elektronik dari aliran limbah umum. Hal ini memungkinkan untuk memproses limbah elektronik dengan cara yang lebih efisien dan terkendali.\\n3. Pengolahan yang aman: Sampah elektronik mengandung bahan berbahaya, sehingga perlu diolah dengan cara yang aman untuk mencegah pelepasan zat-zat beracun ke lingkungan. Pengolahan yang aman melibatkan pemrosesan dengan teknologi yang tepat dan pemilihan fasilitas pengelolaan limbah yang sesuai.\\n4. Penjualan atau donasi perangkat yang masih berfungsi: Jika perangkat elektronik masih dalam kondisi baik dan dapat digunakan, opsi yang dapat dipertimbangkan adalah menjualnya atau mendonasikannya kepada orang lain atau lembaga yang membutuhkan. Ini membantu memperpanjang masa pakai perangkat dan mengurangi jumlah sampah elektronik.\\n5. Kesadaran dan edukasi: Penting untuk meningkatkan kesadaran masyarakat tentang pentingnya pengelolaan yang benar terhadap sampah elektronik. Edukasi tentang risiko lingkungan dan kesehatan yang terkait dengan e-waste, serta informasi mengenai opsi pengelolaan yang ada, dapat mendorong orang untuk mengambil tindakan yang tepat dalam mengelola sampah elektronik.\\nPengelolaan yang baik terhadap sampah elektronik memainkan peran penting dalam menjaga lingkungan dan masyarakat dari dampak negatif yang dihasilkan. Melalui praktik-praktik\"\n",
            "               ],\n",
            "               \"context\": [\n",
            "                    \"\"\n",
            "               ]\n",
            "          }\n",
            "     ]\n",
            "}\n"
          ]
        }
      ]
    },
    {
      "cell_type": "markdown",
      "source": [
        "**Tokenization and Lemmatization**"
      ],
      "metadata": {
        "id": "LkmlFnpYu_zA"
      }
    },
    {
      "cell_type": "code",
      "source": [
        "#Variables\n",
        "words=[]\n",
        "classes=[]\n",
        "documents=[]\n",
        "ignore_sign=[\"!\",\"?\"]"
      ],
      "metadata": {
        "id": "x7Y1L9GtUREf"
      },
      "execution_count": 187,
      "outputs": []
    },
    {
      "cell_type": "code",
      "source": [
        "for intent in chatbot_dataset['intents']:\n",
        "  for pattern in intent['patterns']:\n",
        "\n",
        "    #Tokenization\n",
        "    word = nltk.word_tokenize(pattern)\n",
        "    words.extend(word)\n",
        "    documents.append((word, intent['tag'])) #each word to document, related with tag\n",
        "\n",
        "    #add tag to classes \n",
        "    if intent['tag'] not in classes:\n",
        "       classes.append(intent['tag'])"
      ],
      "metadata": {
        "id": "aoPE9gJXYHbI"
      },
      "execution_count": 188,
      "outputs": []
    },
    {
      "cell_type": "code",
      "source": [
        "#Lemmatization\n",
        "lemmatizer = WordNetLemmatizer()\n",
        "words = [lemmatizer.lemmatize(word.lower()) for word in words if word not in ignore_sign]\n",
        "\n",
        "#Delete duplicates and sort\n",
        "words = sorted(list(set(words)))\n",
        "classes = sorted(list(set(classes)))\n",
        "\n",
        "print (len(words), \"lemmatized words\", words) #uniqe words\n",
        "print (len(classes), \"classes\", classes) #tags\n",
        "print (len(documents), \"documents\") "
      ],
      "metadata": {
        "colab": {
          "base_uri": "https://localhost:8080/"
        },
        "id": "5-48TLmXaclM",
        "outputId": "5a27e33c-0e94-45fc-b561-de771d8e2091"
      },
      "execution_count": 189,
      "outputs": [
        {
          "output_type": "stream",
          "name": "stdout",
          "text": [
            "108 lemmatized words [',', 'ada', 'adalah', 'air', 'aja', 'aluminium', 'anorganik', 'apa', 'bagaimana', 'bagamana', 'bantuan', 'berbicara', 'berikan', 'bertanya', 'buang', 'bye', 'cara', 'carupah', 'carupai', 'contoh', 'dampak', 'dan', 'dapat', 'daur', 'dengan', 'detergen', 'disposal', 'dong', 'efek', 'elektronik', 'hai', 'hallo', 'hasil', 'hdpe', 'hello', 'hey', 'hi', 'ingin', 'itu', 'jelasin', 'jelaskan', 'jenis', 'jenis-jenis', 'jumpa', 'kaca', 'kamu', 'kardus', 'kasih', 'kategori', 'kenapa', 'ketegori', 'keunggulan', 'kompos', 'lagi', 'lakukan', 'limbah', 'manfaat', 'mau', 'memanfaatkan', 'membantu', 'membantuku', 'membuang', 'membuat', 'memisahkan', 'mengatasi', 'mengelola', 'menggunakan', 'okay', 'organik', 'penanganan', 'pengelolaan', 'pengertian', 'penggunaan', 'pengomposaan', 'pengunaan', 'penjelasan', 'penting', 'pentingnya', 'plastik', 'produk', 'recycle', 'reduce', 'reuse', 'saja', 'sampah', 'sampai', 'sangat', 'sebut', 'sebutkan', 'senang', 'siapa', 'sih', 'styrofoam', 'supaya', 'syrofoam', 'tanya', 'telah', 'terima', 'terimakasih', 'terluka', 'termasuk', 'thank', 'thanks', 'tidak', 'ulang', 'welcome', 'yang', 'you']\n",
            "44 classes ['aluminium', 'cara_buang_kaca', 'contoh_sampah_organik', 'dampak_sampah_organik', 'dampak_sampah_styrofoam', 'detergen', 'efek_styrofoam', 'goodbye', 'greeting', 'hdpe', 'jenis_sampah_elektronik', 'jenis_sampah_organik', 'jenis_sampah_plastik', 'kaca', 'kardus', 'kategori_sampah', 'kategori_sampah_organik', 'keunggulan_aluminium', 'manfaat_sampah_organik', 'mengatasi_limbah_air_detergen', 'options', 'penanganan_sampah_hdpe', 'penanganan_sampah_plastik', 'pengelolaan_aluminium', 'pengelolaan_detergen', 'pengelolaan_kaca', 'pengelolaan_sampah', 'pengelolaan_sampah_elektronik', 'pengelolaan_sampah_organik', 'pengelolaan_sampah_plastik', 'pengelolaan_sampah_styrofoam', 'pentingnya_mengelola_limbah detergen', 'plastik', 'produk_daur_ulang_aluminium', 'produk_daur_ulang_hdpe', 'produk_daur_ulang_kaca', 'produk_daur_ulang_kardus', 'produk_daur_ulang_plastik', 'sampah', 'sampah_anorganik', 'sampah_elektronik', 'sampah_organik', 'styrofoam', 'thanks']\n",
            "241 documents\n"
          ]
        }
      ]
    },
    {
      "cell_type": "markdown",
      "source": [
        "**Save Variables and Create Training data**"
      ],
      "metadata": {
        "id": "C3nmIMI-vWud"
      }
    },
    {
      "cell_type": "code",
      "source": [
        "#Saved python object to binner file\n",
        "pickle.dump(words, open('data_words.pkl','wb'))\n",
        "pickle.dump(classes, open('data_classes.pkl','wb'))"
      ],
      "metadata": {
        "id": "2gBl-o9ua9ID"
      },
      "execution_count": 190,
      "outputs": []
    },
    {
      "cell_type": "code",
      "source": [
        "#Create Training Data\n",
        "\n",
        "training = [] #save training data\n",
        "output_empty = [0] * len(classes) #store the output labels corresponding to each pattern.\n",
        "\n",
        "# Bag of Words\n",
        "for document in documents:\n",
        "    bag = [] #save bag of words\n",
        "    pattern_words = document[0] #Get words from pattern\n",
        "    pattern_words = [lemmatizer.lemmatize(word.lower()) for word in pattern_words] #lemmatize each word\n",
        "\n",
        "    #If the current word is in the sentence pattern\n",
        "    for word in words:\n",
        "        if word in pattern_words:\n",
        "            bag.append(1) #it adds the number 1 to the bag\n",
        "        else:\n",
        "            bag.append(0) #Otherwise, it adds a 0.\n",
        "\n",
        "    output_row = list(output_empty) #list is initially initialized with all elements=0\n",
        "    output_row[classes.index(document[1])] = 1 #If corresponds to the class index will be set to 1, while the other elements remain 0.\n",
        "    training.append([bag, output_row]) #add to training list as training data\n",
        "\n",
        "random.shuffle(training) #Randomize the order of training data.\n",
        "training = np.array(training, dtype=object) #Convert the training list into a NumPy array.\n",
        "train_x = list(training[:,0]) #contains sentence patterns from the training data.\n",
        "train_y = list(training[:,1]) #contains output labels that match the sentence patterns from the training data."
      ],
      "metadata": {
        "id": "9Lnzze04d_rH"
      },
      "execution_count": 191,
      "outputs": []
    },
    {
      "cell_type": "markdown",
      "source": [
        "**Create Neural Network Model for Natural Language Processing**"
      ],
      "metadata": {
        "id": "KwHfdVrYxQfS"
      }
    },
    {
      "cell_type": "code",
      "source": [
        "# Create model \n",
        "model = Sequential([\n",
        "    Dense(128, input_shape=(len(train_x[0]),), activation='relu'), #First Layer \n",
        "    Dropout(0.5),\n",
        "    Dense(64, activation='relu'), #Second Layer\n",
        "    Dropout(0.5),\n",
        "    Dense(len(train_y[0]), activation='softmax') #Output Layer\n",
        "])\n",
        "\n",
        "sgd = SGD(learning_rate=0.01, \n",
        "          decay=1e-6, \n",
        "          momentum=0.9, \n",
        "          nesterov=True\n",
        "          )\n",
        "\n",
        "model.compile(loss='categorical_crossentropy', \n",
        "              optimizer=sgd, \n",
        "              metrics=['accuracy']\n",
        "              )\n",
        "\n",
        "'''\n",
        "#Compile model\n",
        "model.compile(\n",
        "    loss='categorical_crossentropy', \n",
        "    optimizer=Adam(learning_rate=0.01), \n",
        "    metrics=['accuracy']\n",
        "    )\n",
        "'''\n"
      ],
      "metadata": {
        "colab": {
          "base_uri": "https://localhost:8080/",
          "height": 53
        },
        "id": "2EqxZehykmaV",
        "outputId": "8e643140-5cda-43a3-9d48-f4e00338d281"
      },
      "execution_count": 192,
      "outputs": [
        {
          "output_type": "execute_result",
          "data": {
            "text/plain": [
              "\"\\n#Compile model\\nmodel.compile(\\n    loss='categorical_crossentropy', \\n    optimizer=Adam(learning_rate=0.01), \\n    metrics=['accuracy']\\n    )\\n\""
            ],
            "application/vnd.google.colaboratory.intrinsic+json": {
              "type": "string"
            }
          },
          "metadata": {},
          "execution_count": 192
        }
      ]
    },
    {
      "cell_type": "markdown",
      "source": [
        "**Model Summary**"
      ],
      "metadata": {
        "id": "TNMf7J6qwBTR"
      }
    },
    {
      "cell_type": "code",
      "source": [
        "model.summary()"
      ],
      "metadata": {
        "colab": {
          "base_uri": "https://localhost:8080/"
        },
        "id": "V5yZchd3l1hE",
        "outputId": "e464078e-ba37-473e-980b-1914af2ab4fd"
      },
      "execution_count": 193,
      "outputs": [
        {
          "output_type": "stream",
          "name": "stdout",
          "text": [
            "Model: \"sequential_9\"\n",
            "_________________________________________________________________\n",
            " Layer (type)                Output Shape              Param #   \n",
            "=================================================================\n",
            " dense_27 (Dense)            (None, 128)               13952     \n",
            "                                                                 \n",
            " dropout_18 (Dropout)        (None, 128)               0         \n",
            "                                                                 \n",
            " dense_28 (Dense)            (None, 64)                8256      \n",
            "                                                                 \n",
            " dropout_19 (Dropout)        (None, 64)                0         \n",
            "                                                                 \n",
            " dense_29 (Dense)            (None, 44)                2860      \n",
            "                                                                 \n",
            "=================================================================\n",
            "Total params: 25,068\n",
            "Trainable params: 25,068\n",
            "Non-trainable params: 0\n",
            "_________________________________________________________________\n"
          ]
        }
      ]
    },
    {
      "cell_type": "markdown",
      "source": [
        "**Train Model**"
      ],
      "metadata": {
        "id": "8AXTjzVAwWdz"
      }
    },
    {
      "cell_type": "code",
      "source": [
        "#early_stopping = EarlyStopping(monitor='val_loss', patience=3)"
      ],
      "metadata": {
        "id": "8i8XseZDogc4"
      },
      "execution_count": 170,
      "outputs": []
    },
    {
      "cell_type": "code",
      "source": [
        "#Training\n",
        "history = model.fit(np.array(train_x), \n",
        "                    np.array(train_y), \n",
        "                    epochs=200, \n",
        "                    batch_size=5, \n",
        "                    verbose=1\n",
        "                    #callbacks=[early_stopping]\n",
        "                    )"
      ],
      "metadata": {
        "colab": {
          "base_uri": "https://localhost:8080/"
        },
        "id": "ai2p2Gislzj7",
        "outputId": "ec738cc0-863c-44e9-c8d1-0aa4f8618b40"
      },
      "execution_count": 194,
      "outputs": [
        {
          "output_type": "stream",
          "name": "stdout",
          "text": [
            "Epoch 1/200\n",
            "29/49 [================>.............] - ETA: 0s - loss: 3.7929 - accuracy: 0.0138     "
          ]
        },
        {
          "output_type": "stream",
          "name": "stderr",
          "text": [
            "WARNING:tensorflow:Early stopping conditioned on metric `val_loss` which is not available. Available metrics are: loss,accuracy\n"
          ]
        },
        {
          "output_type": "stream",
          "name": "stdout",
          "text": [
            "\b\b\b\b\b\b\b\b\b\b\b\b\b\b\b\b\b\b\b\b\b\b\b\b\b\b\b\b\b\b\b\b\b\b\b\b\b\b\b\b\b\b\b\b\b\b\b\b\b\b\b\b\b\b\b\b\b\b\b\b\b\b\b\b\b\b\b\b\b\b\b\b\b\b\b\b\b\b\b\b\b\b\r49/49 [==============================] - 1s 2ms/step - loss: 3.8000 - accuracy: 0.0124\n",
            "Epoch 2/200\n",
            "30/49 [=================>............] - ETA: 0s - loss: 3.7617 - accuracy: 0.0200    "
          ]
        },
        {
          "output_type": "stream",
          "name": "stderr",
          "text": [
            "WARNING:tensorflow:Early stopping conditioned on metric `val_loss` which is not available. Available metrics are: loss,accuracy\n"
          ]
        },
        {
          "output_type": "stream",
          "name": "stdout",
          "text": [
            "\b\b\b\b\b\b\b\b\b\b\b\b\b\b\b\b\b\b\b\b\b\b\b\b\b\b\b\b\b\b\b\b\b\b\b\b\b\b\b\b\b\b\b\b\b\b\b\b\b\b\b\b\b\b\b\b\b\b\b\b\b\b\b\b\b\b\b\b\b\b\b\b\b\b\b\b\b\b\b\b\b\b\r49/49 [==============================] - 0s 2ms/step - loss: 3.7380 - accuracy: 0.0456\n",
            "Epoch 3/200\n",
            "30/49 [=================>............] - ETA: 0s - loss: 3.6796 - accuracy: 0.0733"
          ]
        },
        {
          "output_type": "stream",
          "name": "stderr",
          "text": [
            "WARNING:tensorflow:Early stopping conditioned on metric `val_loss` which is not available. Available metrics are: loss,accuracy\n"
          ]
        },
        {
          "output_type": "stream",
          "name": "stdout",
          "text": [
            "\b\b\b\b\b\b\b\b\b\b\b\b\b\b\b\b\b\b\b\b\b\b\b\b\b\b\b\b\b\b\b\b\b\b\b\b\b\b\b\b\b\b\b\b\b\b\b\b\b\b\b\b\b\b\b\b\b\b\b\b\b\b\b\b\b\b\b\b\b\b\b\b\b\b\b\b\b\b\b\b\b\b\r49/49 [==============================] - 0s 2ms/step - loss: 3.6898 - accuracy: 0.0705\n",
            "Epoch 4/200\n",
            "31/49 [=================>............] - ETA: 0s - loss: 3.6095 - accuracy: 0.1032    "
          ]
        },
        {
          "output_type": "stream",
          "name": "stderr",
          "text": [
            "WARNING:tensorflow:Early stopping conditioned on metric `val_loss` which is not available. Available metrics are: loss,accuracy\n"
          ]
        },
        {
          "output_type": "stream",
          "name": "stdout",
          "text": [
            "\b\b\b\b\b\b\b\b\b\b\b\b\b\b\b\b\b\b\b\b\b\b\b\b\b\b\b\b\b\b\b\b\b\b\b\b\b\b\b\b\b\b\b\b\b\b\b\b\b\b\b\b\b\b\b\b\b\b\b\b\b\b\b\b\b\b\b\b\b\b\b\b\b\b\b\b\b\b\b\b\b\b\r49/49 [==============================] - 0s 2ms/step - loss: 3.6051 - accuracy: 0.0871\n",
            "Epoch 5/200\n",
            "30/49 [=================>............] - ETA: 0s - loss: 3.4050 - accuracy: 0.1467"
          ]
        },
        {
          "output_type": "stream",
          "name": "stderr",
          "text": [
            "WARNING:tensorflow:Early stopping conditioned on metric `val_loss` which is not available. Available metrics are: loss,accuracy\n"
          ]
        },
        {
          "output_type": "stream",
          "name": "stdout",
          "text": [
            "\b\b\b\b\b\b\b\b\b\b\b\b\b\b\b\b\b\b\b\b\b\b\b\b\b\b\b\b\b\b\b\b\b\b\b\b\b\b\b\b\b\b\b\b\b\b\b\b\b\b\b\b\b\b\b\b\b\b\b\b\b\b\b\b\b\b\b\b\b\b\b\b\b\b\b\b\b\b\b\b\b\b\r49/49 [==============================] - 0s 2ms/step - loss: 3.4042 - accuracy: 0.1411\n",
            "Epoch 6/200\n",
            "30/49 [=================>............] - ETA: 0s - loss: 3.2579 - accuracy: 0.1867"
          ]
        },
        {
          "output_type": "stream",
          "name": "stderr",
          "text": [
            "WARNING:tensorflow:Early stopping conditioned on metric `val_loss` which is not available. Available metrics are: loss,accuracy\n"
          ]
        },
        {
          "output_type": "stream",
          "name": "stdout",
          "text": [
            "\b\b\b\b\b\b\b\b\b\b\b\b\b\b\b\b\b\b\b\b\b\b\b\b\b\b\b\b\b\b\b\b\b\b\b\b\b\b\b\b\b\b\b\b\b\b\b\b\b\b\b\b\b\b\b\b\b\b\b\b\b\b\b\b\b\b\b\b\b\b\b\b\b\b\b\b\b\b\b\b\b\b\r49/49 [==============================] - 0s 2ms/step - loss: 3.2728 - accuracy: 0.1660\n",
            "Epoch 7/200\n",
            "30/49 [=================>............] - ETA: 0s - loss: 3.0919 - accuracy: 0.1933"
          ]
        },
        {
          "output_type": "stream",
          "name": "stderr",
          "text": [
            "WARNING:tensorflow:Early stopping conditioned on metric `val_loss` which is not available. Available metrics are: loss,accuracy\n"
          ]
        },
        {
          "output_type": "stream",
          "name": "stdout",
          "text": [
            "\b\b\b\b\b\b\b\b\b\b\b\b\b\b\b\b\b\b\b\b\b\b\b\b\b\b\b\b\b\b\b\b\b\b\b\b\b\b\b\b\b\b\b\b\b\b\b\b\b\b\b\b\b\b\b\b\b\b\b\b\b\b\b\b\b\b\b\b\b\b\b\b\b\b\b\b\b\b\b\b\b\b\r49/49 [==============================] - 0s 2ms/step - loss: 3.0277 - accuracy: 0.1826\n",
            "Epoch 8/200\n",
            "28/49 [================>.............] - ETA: 0s - loss: 2.6480 - accuracy: 0.3071"
          ]
        },
        {
          "output_type": "stream",
          "name": "stderr",
          "text": [
            "WARNING:tensorflow:Early stopping conditioned on metric `val_loss` which is not available. Available metrics are: loss,accuracy\n"
          ]
        },
        {
          "output_type": "stream",
          "name": "stdout",
          "text": [
            "\b\b\b\b\b\b\b\b\b\b\b\b\b\b\b\b\b\b\b\b\b\b\b\b\b\b\b\b\b\b\b\b\b\b\b\b\b\b\b\b\b\b\b\b\b\b\b\b\b\b\b\b\b\b\b\b\b\b\b\b\b\b\b\b\b\b\b\b\b\b\b\b\b\b\b\b\b\b\b\b\b\b\r49/49 [==============================] - 0s 2ms/step - loss: 2.7542 - accuracy: 0.2573\n",
            "Epoch 9/200\n",
            "29/49 [================>.............] - ETA: 0s - loss: 2.4926 - accuracy: 0.3241"
          ]
        },
        {
          "output_type": "stream",
          "name": "stderr",
          "text": [
            "WARNING:tensorflow:Early stopping conditioned on metric `val_loss` which is not available. Available metrics are: loss,accuracy\n"
          ]
        },
        {
          "output_type": "stream",
          "name": "stdout",
          "text": [
            "\b\b\b\b\b\b\b\b\b\b\b\b\b\b\b\b\b\b\b\b\b\b\b\b\b\b\b\b\b\b\b\b\b\b\b\b\b\b\b\b\b\b\b\b\b\b\b\b\b\b\b\b\b\b\b\b\b\b\b\b\b\b\b\b\b\b\b\b\b\b\b\b\b\b\b\b\b\b\b\b\b\b\r49/49 [==============================] - 0s 2ms/step - loss: 2.4175 - accuracy: 0.3278\n",
            "Epoch 10/200\n",
            "30/49 [=================>............] - ETA: 0s - loss: 2.1997 - accuracy: 0.3800"
          ]
        },
        {
          "output_type": "stream",
          "name": "stderr",
          "text": [
            "WARNING:tensorflow:Early stopping conditioned on metric `val_loss` which is not available. Available metrics are: loss,accuracy\n"
          ]
        },
        {
          "output_type": "stream",
          "name": "stdout",
          "text": [
            "\b\b\b\b\b\b\b\b\b\b\b\b\b\b\b\b\b\b\b\b\b\b\b\b\b\b\b\b\b\b\b\b\b\b\b\b\b\b\b\b\b\b\b\b\b\b\b\b\b\b\b\b\b\b\b\b\b\b\b\b\b\b\b\b\b\b\b\b\b\b\b\b\b\b\b\b\b\b\b\b\b\b\r49/49 [==============================] - 0s 2ms/step - loss: 2.1884 - accuracy: 0.3734\n",
            "Epoch 11/200\n",
            "31/49 [=================>............] - ETA: 0s - loss: 1.9954 - accuracy: 0.4065"
          ]
        },
        {
          "output_type": "stream",
          "name": "stderr",
          "text": [
            "WARNING:tensorflow:Early stopping conditioned on metric `val_loss` which is not available. Available metrics are: loss,accuracy\n"
          ]
        },
        {
          "output_type": "stream",
          "name": "stdout",
          "text": [
            "\b\b\b\b\b\b\b\b\b\b\b\b\b\b\b\b\b\b\b\b\b\b\b\b\b\b\b\b\b\b\b\b\b\b\b\b\b\b\b\b\b\b\b\b\b\b\b\b\b\b\b\b\b\b\b\b\b\b\b\b\b\b\b\b\b\b\b\b\b\b\b\b\b\b\b\b\b\b\b\b\b\b\r49/49 [==============================] - 0s 2ms/step - loss: 2.0366 - accuracy: 0.4066\n",
            "Epoch 12/200\n",
            "32/49 [==================>...........] - ETA: 0s - loss: 1.8787 - accuracy: 0.4688"
          ]
        },
        {
          "output_type": "stream",
          "name": "stderr",
          "text": [
            "WARNING:tensorflow:Early stopping conditioned on metric `val_loss` which is not available. Available metrics are: loss,accuracy\n"
          ]
        },
        {
          "output_type": "stream",
          "name": "stdout",
          "text": [
            "\b\b\b\b\b\b\b\b\b\b\b\b\b\b\b\b\b\b\b\b\b\b\b\b\b\b\b\b\b\b\b\b\b\b\b\b\b\b\b\b\b\b\b\b\b\b\b\b\b\b\b\b\b\b\b\b\b\b\b\b\b\b\b\b\b\b\b\b\b\b\b\b\b\b\b\b\b\b\b\b\b\b\r49/49 [==============================] - 0s 2ms/step - loss: 1.8773 - accuracy: 0.4440\n",
            "Epoch 13/200\n",
            "29/49 [================>.............] - ETA: 0s - loss: 1.5461 - accuracy: 0.5517"
          ]
        },
        {
          "output_type": "stream",
          "name": "stderr",
          "text": [
            "WARNING:tensorflow:Early stopping conditioned on metric `val_loss` which is not available. Available metrics are: loss,accuracy\n"
          ]
        },
        {
          "output_type": "stream",
          "name": "stdout",
          "text": [
            "\b\b\b\b\b\b\b\b\b\b\b\b\b\b\b\b\b\b\b\b\b\b\b\b\b\b\b\b\b\b\b\b\b\b\b\b\b\b\b\b\b\b\b\b\b\b\b\b\b\b\b\b\b\b\b\b\b\b\b\b\b\b\b\b\b\b\b\b\b\b\b\b\b\b\b\b\b\b\b\b\b\b\r49/49 [==============================] - 0s 2ms/step - loss: 1.6457 - accuracy: 0.5062\n",
            "Epoch 14/200\n",
            "28/49 [================>.............] - ETA: 0s - loss: 1.5421 - accuracy: 0.5429"
          ]
        },
        {
          "output_type": "stream",
          "name": "stderr",
          "text": [
            "WARNING:tensorflow:Early stopping conditioned on metric `val_loss` which is not available. Available metrics are: loss,accuracy\n"
          ]
        },
        {
          "output_type": "stream",
          "name": "stdout",
          "text": [
            "\b\b\b\b\b\b\b\b\b\b\b\b\b\b\b\b\b\b\b\b\b\b\b\b\b\b\b\b\b\b\b\b\b\b\b\b\b\b\b\b\b\b\b\b\b\b\b\b\b\b\b\b\b\b\b\b\b\b\b\b\b\b\b\b\b\b\b\b\b\b\b\b\b\b\b\b\b\b\b\b\b\b\r49/49 [==============================] - 0s 2ms/step - loss: 1.5445 - accuracy: 0.5270\n",
            "Epoch 15/200\n",
            "48/49 [============================>.] - ETA: 0s - loss: 1.3680 - accuracy: 0.5917"
          ]
        },
        {
          "output_type": "stream",
          "name": "stderr",
          "text": [
            "WARNING:tensorflow:Early stopping conditioned on metric `val_loss` which is not available. Available metrics are: loss,accuracy\n"
          ]
        },
        {
          "output_type": "stream",
          "name": "stdout",
          "text": [
            "\b\b\b\b\b\b\b\b\b\b\b\b\b\b\b\b\b\b\b\b\b\b\b\b\b\b\b\b\b\b\b\b\b\b\b\b\b\b\b\b\b\b\b\b\b\b\b\b\b\b\b\b\b\b\b\b\b\b\b\b\b\b\b\b\b\b\b\b\b\b\b\b\b\b\b\b\b\b\b\b\b\b\r49/49 [==============================] - 0s 2ms/step - loss: 1.3626 - accuracy: 0.5934\n",
            "Epoch 16/200\n",
            "26/49 [==============>...............] - ETA: 0s - loss: 1.2714 - accuracy: 0.6000"
          ]
        },
        {
          "output_type": "stream",
          "name": "stderr",
          "text": [
            "WARNING:tensorflow:Early stopping conditioned on metric `val_loss` which is not available. Available metrics are: loss,accuracy\n"
          ]
        },
        {
          "output_type": "stream",
          "name": "stdout",
          "text": [
            "\b\b\b\b\b\b\b\b\b\b\b\b\b\b\b\b\b\b\b\b\b\b\b\b\b\b\b\b\b\b\b\b\b\b\b\b\b\b\b\b\b\b\b\b\b\b\b\b\b\b\b\b\b\b\b\b\b\b\b\b\b\b\b\b\b\b\b\b\b\b\b\b\b\b\b\b\b\b\b\b\b\b\r49/49 [==============================] - 0s 2ms/step - loss: 1.3256 - accuracy: 0.5809\n",
            "Epoch 17/200\n",
            "29/49 [================>.............] - ETA: 0s - loss: 1.2200 - accuracy: 0.6276"
          ]
        },
        {
          "output_type": "stream",
          "name": "stderr",
          "text": [
            "WARNING:tensorflow:Early stopping conditioned on metric `val_loss` which is not available. Available metrics are: loss,accuracy\n"
          ]
        },
        {
          "output_type": "stream",
          "name": "stdout",
          "text": [
            "\b\b\b\b\b\b\b\b\b\b\b\b\b\b\b\b\b\b\b\b\b\b\b\b\b\b\b\b\b\b\b\b\b\b\b\b\b\b\b\b\b\b\b\b\b\b\b\b\b\b\b\b\b\b\b\b\b\b\b\b\b\b\b\b\b\b\b\b\b\b\b\b\b\b\b\b\b\b\b\b\b\b\r49/49 [==============================] - 0s 2ms/step - loss: 1.1361 - accuracy: 0.6390\n",
            "Epoch 18/200\n",
            "30/49 [=================>............] - ETA: 0s - loss: 1.1442 - accuracy: 0.6600"
          ]
        },
        {
          "output_type": "stream",
          "name": "stderr",
          "text": [
            "WARNING:tensorflow:Early stopping conditioned on metric `val_loss` which is not available. Available metrics are: loss,accuracy\n"
          ]
        },
        {
          "output_type": "stream",
          "name": "stdout",
          "text": [
            "\b\b\b\b\b\b\b\b\b\b\b\b\b\b\b\b\b\b\b\b\b\b\b\b\b\b\b\b\b\b\b\b\b\b\b\b\b\b\b\b\b\b\b\b\b\b\b\b\b\b\b\b\b\b\b\b\b\b\b\b\b\b\b\b\b\b\b\b\b\b\b\b\b\b\b\b\b\b\b\b\b\b\r49/49 [==============================] - 0s 2ms/step - loss: 1.0618 - accuracy: 0.6680\n",
            "Epoch 19/200\n",
            "24/49 [=============>................] - ETA: 0s - loss: 1.2397 - accuracy: 0.6500"
          ]
        },
        {
          "output_type": "stream",
          "name": "stderr",
          "text": [
            "WARNING:tensorflow:Early stopping conditioned on metric `val_loss` which is not available. Available metrics are: loss,accuracy\n"
          ]
        },
        {
          "output_type": "stream",
          "name": "stdout",
          "text": [
            "\b\b\b\b\b\b\b\b\b\b\b\b\b\b\b\b\b\b\b\b\b\b\b\b\b\b\b\b\b\b\b\b\b\b\b\b\b\b\b\b\b\b\b\b\b\b\b\b\b\b\b\b\b\b\b\b\b\b\b\b\b\b\b\b\b\b\b\b\b\b\b\b\b\b\b\b\b\b\b\b\b\b\r49/49 [==============================] - 0s 2ms/step - loss: 1.1867 - accuracy: 0.6224\n",
            "Epoch 20/200\n",
            "23/49 [=============>................] - ETA: 0s - loss: 1.0507 - accuracy: 0.6870"
          ]
        },
        {
          "output_type": "stream",
          "name": "stderr",
          "text": [
            "WARNING:tensorflow:Early stopping conditioned on metric `val_loss` which is not available. Available metrics are: loss,accuracy\n"
          ]
        },
        {
          "output_type": "stream",
          "name": "stdout",
          "text": [
            "\b\b\b\b\b\b\b\b\b\b\b\b\b\b\b\b\b\b\b\b\b\b\b\b\b\b\b\b\b\b\b\b\b\b\b\b\b\b\b\b\b\b\b\b\b\b\b\b\b\b\b\b\b\b\b\b\b\b\b\b\b\b\b\b\b\b\b\b\b\b\b\b\b\b\b\b\b\b\b\b\b\b\r49/49 [==============================] - 0s 2ms/step - loss: 1.0526 - accuracy: 0.6763\n",
            "Epoch 21/200\n",
            "25/49 [==============>...............] - ETA: 0s - loss: 0.8981 - accuracy: 0.7120"
          ]
        },
        {
          "output_type": "stream",
          "name": "stderr",
          "text": [
            "WARNING:tensorflow:Early stopping conditioned on metric `val_loss` which is not available. Available metrics are: loss,accuracy\n"
          ]
        },
        {
          "output_type": "stream",
          "name": "stdout",
          "text": [
            "\b\b\b\b\b\b\b\b\b\b\b\b\b\b\b\b\b\b\b\b\b\b\b\b\b\b\b\b\b\b\b\b\b\b\b\b\b\b\b\b\b\b\b\b\b\b\b\b\b\b\b\b\b\b\b\b\b\b\b\b\b\b\b\b\b\b\b\b\b\b\b\b\b\b\b\b\b\b\b\b\b\b\r49/49 [==============================] - 0s 2ms/step - loss: 0.8840 - accuracy: 0.7095\n",
            "Epoch 22/200\n",
            "29/49 [================>.............] - ETA: 0s - loss: 1.0014 - accuracy: 0.6966"
          ]
        },
        {
          "output_type": "stream",
          "name": "stderr",
          "text": [
            "WARNING:tensorflow:Early stopping conditioned on metric `val_loss` which is not available. Available metrics are: loss,accuracy\n"
          ]
        },
        {
          "output_type": "stream",
          "name": "stdout",
          "text": [
            "\b\b\b\b\b\b\b\b\b\b\b\b\b\b\b\b\b\b\b\b\b\b\b\b\b\b\b\b\b\b\b\b\b\b\b\b\b\b\b\b\b\b\b\b\b\b\b\b\b\b\b\b\b\b\b\b\b\b\b\b\b\b\b\b\b\b\b\b\b\b\b\b\b\b\b\b\b\b\b\b\b\b\r49/49 [==============================] - 0s 2ms/step - loss: 0.9960 - accuracy: 0.6971\n",
            "Epoch 23/200\n",
            "29/49 [================>.............] - ETA: 0s - loss: 0.9043 - accuracy: 0.7103"
          ]
        },
        {
          "output_type": "stream",
          "name": "stderr",
          "text": [
            "WARNING:tensorflow:Early stopping conditioned on metric `val_loss` which is not available. Available metrics are: loss,accuracy\n"
          ]
        },
        {
          "output_type": "stream",
          "name": "stdout",
          "text": [
            "\b\b\b\b\b\b\b\b\b\b\b\b\b\b\b\b\b\b\b\b\b\b\b\b\b\b\b\b\b\b\b\b\b\b\b\b\b\b\b\b\b\b\b\b\b\b\b\b\b\b\b\b\b\b\b\b\b\b\b\b\b\b\b\b\b\b\b\b\b\b\b\b\b\b\b\b\b\b\b\b\b\b\r49/49 [==============================] - 0s 2ms/step - loss: 0.9255 - accuracy: 0.7054\n",
            "Epoch 24/200\n",
            "31/49 [=================>............] - ETA: 0s - loss: 0.9175 - accuracy: 0.6839"
          ]
        },
        {
          "output_type": "stream",
          "name": "stderr",
          "text": [
            "WARNING:tensorflow:Early stopping conditioned on metric `val_loss` which is not available. Available metrics are: loss,accuracy\n"
          ]
        },
        {
          "output_type": "stream",
          "name": "stdout",
          "text": [
            "\b\b\b\b\b\b\b\b\b\b\b\b\b\b\b\b\b\b\b\b\b\b\b\b\b\b\b\b\b\b\b\b\b\b\b\b\b\b\b\b\b\b\b\b\b\b\b\b\b\b\b\b\b\b\b\b\b\b\b\b\b\b\b\b\b\b\b\b\b\b\b\b\b\b\b\b\b\b\b\b\b\b\r49/49 [==============================] - 0s 2ms/step - loss: 0.8556 - accuracy: 0.7261\n",
            "Epoch 25/200\n",
            "28/49 [================>.............] - ETA: 0s - loss: 0.8355 - accuracy: 0.7357"
          ]
        },
        {
          "output_type": "stream",
          "name": "stderr",
          "text": [
            "WARNING:tensorflow:Early stopping conditioned on metric `val_loss` which is not available. Available metrics are: loss,accuracy\n"
          ]
        },
        {
          "output_type": "stream",
          "name": "stdout",
          "text": [
            "\b\b\b\b\b\b\b\b\b\b\b\b\b\b\b\b\b\b\b\b\b\b\b\b\b\b\b\b\b\b\b\b\b\b\b\b\b\b\b\b\b\b\b\b\b\b\b\b\b\b\b\b\b\b\b\b\b\b\b\b\b\b\b\b\b\b\b\b\b\b\b\b\b\b\b\b\b\b\b\b\b\b\r49/49 [==============================] - 0s 2ms/step - loss: 0.8230 - accuracy: 0.7178\n",
            "Epoch 26/200\n",
            "30/49 [=================>............] - ETA: 0s - loss: 0.9199 - accuracy: 0.7000"
          ]
        },
        {
          "output_type": "stream",
          "name": "stderr",
          "text": [
            "WARNING:tensorflow:Early stopping conditioned on metric `val_loss` which is not available. Available metrics are: loss,accuracy\n"
          ]
        },
        {
          "output_type": "stream",
          "name": "stdout",
          "text": [
            "\b\b\b\b\b\b\b\b\b\b\b\b\b\b\b\b\b\b\b\b\b\b\b\b\b\b\b\b\b\b\b\b\b\b\b\b\b\b\b\b\b\b\b\b\b\b\b\b\b\b\b\b\b\b\b\b\b\b\b\b\b\b\b\b\b\b\b\b\b\b\b\b\b\b\b\b\b\b\b\b\b\b\r49/49 [==============================] - 0s 2ms/step - loss: 0.8393 - accuracy: 0.7261\n",
            "Epoch 27/200\n",
            "28/49 [================>.............] - ETA: 0s - loss: 0.6916 - accuracy: 0.7357"
          ]
        },
        {
          "output_type": "stream",
          "name": "stderr",
          "text": [
            "WARNING:tensorflow:Early stopping conditioned on metric `val_loss` which is not available. Available metrics are: loss,accuracy\n"
          ]
        },
        {
          "output_type": "stream",
          "name": "stdout",
          "text": [
            "\b\b\b\b\b\b\b\b\b\b\b\b\b\b\b\b\b\b\b\b\b\b\b\b\b\b\b\b\b\b\b\b\b\b\b\b\b\b\b\b\b\b\b\b\b\b\b\b\b\b\b\b\b\b\b\b\b\b\b\b\b\b\b\b\b\b\b\b\b\b\b\b\b\b\b\b\b\b\b\b\b\b\r49/49 [==============================] - 0s 2ms/step - loss: 0.6785 - accuracy: 0.7469\n",
            "Epoch 28/200\n",
            "30/49 [=================>............] - ETA: 0s - loss: 0.6956 - accuracy: 0.7600"
          ]
        },
        {
          "output_type": "stream",
          "name": "stderr",
          "text": [
            "WARNING:tensorflow:Early stopping conditioned on metric `val_loss` which is not available. Available metrics are: loss,accuracy\n"
          ]
        },
        {
          "output_type": "stream",
          "name": "stdout",
          "text": [
            "\b\b\b\b\b\b\b\b\b\b\b\b\b\b\b\b\b\b\b\b\b\b\b\b\b\b\b\b\b\b\b\b\b\b\b\b\b\b\b\b\b\b\b\b\b\b\b\b\b\b\b\b\b\b\b\b\b\b\b\b\b\b\b\b\b\b\b\b\b\b\b\b\b\b\b\b\b\b\b\b\b\b\r49/49 [==============================] - 0s 2ms/step - loss: 0.6629 - accuracy: 0.7718\n",
            "Epoch 29/200\n",
            "31/49 [=================>............] - ETA: 0s - loss: 0.6878 - accuracy: 0.7613"
          ]
        },
        {
          "output_type": "stream",
          "name": "stderr",
          "text": [
            "WARNING:tensorflow:Early stopping conditioned on metric `val_loss` which is not available. Available metrics are: loss,accuracy\n"
          ]
        },
        {
          "output_type": "stream",
          "name": "stdout",
          "text": [
            "\b\b\b\b\b\b\b\b\b\b\b\b\b\b\b\b\b\b\b\b\b\b\b\b\b\b\b\b\b\b\b\b\b\b\b\b\b\b\b\b\b\b\b\b\b\b\b\b\b\b\b\b\b\b\b\b\b\b\b\b\b\b\b\b\b\b\b\b\b\b\b\b\b\b\b\b\b\b\b\b\b\b\r49/49 [==============================] - 0s 2ms/step - loss: 0.6935 - accuracy: 0.7676\n",
            "Epoch 30/200\n",
            "31/49 [=================>............] - ETA: 0s - loss: 0.6693 - accuracy: 0.7613"
          ]
        },
        {
          "output_type": "stream",
          "name": "stderr",
          "text": [
            "WARNING:tensorflow:Early stopping conditioned on metric `val_loss` which is not available. Available metrics are: loss,accuracy\n"
          ]
        },
        {
          "output_type": "stream",
          "name": "stdout",
          "text": [
            "\b\b\b\b\b\b\b\b\b\b\b\b\b\b\b\b\b\b\b\b\b\b\b\b\b\b\b\b\b\b\b\b\b\b\b\b\b\b\b\b\b\b\b\b\b\b\b\b\b\b\b\b\b\b\b\b\b\b\b\b\b\b\b\b\b\b\b\b\b\b\b\b\b\b\b\b\b\b\b\b\b\b\r49/49 [==============================] - 0s 2ms/step - loss: 0.6472 - accuracy: 0.7593\n",
            "Epoch 31/200\n",
            "28/49 [================>.............] - ETA: 0s - loss: 0.6681 - accuracy: 0.7429"
          ]
        },
        {
          "output_type": "stream",
          "name": "stderr",
          "text": [
            "WARNING:tensorflow:Early stopping conditioned on metric `val_loss` which is not available. Available metrics are: loss,accuracy\n"
          ]
        },
        {
          "output_type": "stream",
          "name": "stdout",
          "text": [
            "\b\b\b\b\b\b\b\b\b\b\b\b\b\b\b\b\b\b\b\b\b\b\b\b\b\b\b\b\b\b\b\b\b\b\b\b\b\b\b\b\b\b\b\b\b\b\b\b\b\b\b\b\b\b\b\b\b\b\b\b\b\b\b\b\b\b\b\b\b\b\b\b\b\b\b\b\b\b\b\b\b\b\r49/49 [==============================] - 0s 2ms/step - loss: 0.6315 - accuracy: 0.7759\n",
            "Epoch 32/200\n",
            "27/49 [===============>..............] - ETA: 0s - loss: 0.6156 - accuracy: 0.8000"
          ]
        },
        {
          "output_type": "stream",
          "name": "stderr",
          "text": [
            "WARNING:tensorflow:Early stopping conditioned on metric `val_loss` which is not available. Available metrics are: loss,accuracy\n"
          ]
        },
        {
          "output_type": "stream",
          "name": "stdout",
          "text": [
            "\b\b\b\b\b\b\b\b\b\b\b\b\b\b\b\b\b\b\b\b\b\b\b\b\b\b\b\b\b\b\b\b\b\b\b\b\b\b\b\b\b\b\b\b\b\b\b\b\b\b\b\b\b\b\b\b\b\b\b\b\b\b\b\b\b\b\b\b\b\b\b\b\b\b\b\b\b\b\b\b\b\b\r49/49 [==============================] - 0s 2ms/step - loss: 0.6116 - accuracy: 0.8174\n",
            "Epoch 33/200\n",
            "28/49 [================>.............] - ETA: 0s - loss: 0.6293 - accuracy: 0.7786"
          ]
        },
        {
          "output_type": "stream",
          "name": "stderr",
          "text": [
            "WARNING:tensorflow:Early stopping conditioned on metric `val_loss` which is not available. Available metrics are: loss,accuracy\n"
          ]
        },
        {
          "output_type": "stream",
          "name": "stdout",
          "text": [
            "\b\b\b\b\b\b\b\b\b\b\b\b\b\b\b\b\b\b\b\b\b\b\b\b\b\b\b\b\b\b\b\b\b\b\b\b\b\b\b\b\b\b\b\b\b\b\b\b\b\b\b\b\b\b\b\b\b\b\b\b\b\b\b\b\b\b\b\b\b\b\b\b\b\b\b\b\b\b\b\b\b\b\r49/49 [==============================] - 0s 2ms/step - loss: 0.6430 - accuracy: 0.7635\n",
            "Epoch 34/200\n",
            "26/49 [==============>...............] - ETA: 0s - loss: 0.6253 - accuracy: 0.8231"
          ]
        },
        {
          "output_type": "stream",
          "name": "stderr",
          "text": [
            "WARNING:tensorflow:Early stopping conditioned on metric `val_loss` which is not available. Available metrics are: loss,accuracy\n"
          ]
        },
        {
          "output_type": "stream",
          "name": "stdout",
          "text": [
            "\b\b\b\b\b\b\b\b\b\b\b\b\b\b\b\b\b\b\b\b\b\b\b\b\b\b\b\b\b\b\b\b\b\b\b\b\b\b\b\b\b\b\b\b\b\b\b\b\b\b\b\b\b\b\b\b\b\b\b\b\b\b\b\b\b\b\b\b\b\b\b\b\b\b\b\b\b\b\b\b\b\b\r49/49 [==============================] - 0s 2ms/step - loss: 0.6268 - accuracy: 0.8091\n",
            "Epoch 35/200\n",
            "27/49 [===============>..............] - ETA: 0s - loss: 0.7261 - accuracy: 0.7481"
          ]
        },
        {
          "output_type": "stream",
          "name": "stderr",
          "text": [
            "WARNING:tensorflow:Early stopping conditioned on metric `val_loss` which is not available. Available metrics are: loss,accuracy\n"
          ]
        },
        {
          "output_type": "stream",
          "name": "stdout",
          "text": [
            "\b\b\b\b\b\b\b\b\b\b\b\b\b\b\b\b\b\b\b\b\b\b\b\b\b\b\b\b\b\b\b\b\b\b\b\b\b\b\b\b\b\b\b\b\b\b\b\b\b\b\b\b\b\b\b\b\b\b\b\b\b\b\b\b\b\b\b\b\b\b\b\b\b\b\b\b\b\b\b\b\b\b\r49/49 [==============================] - 0s 2ms/step - loss: 0.6257 - accuracy: 0.8050\n",
            "Epoch 36/200\n",
            "26/49 [==============>...............] - ETA: 0s - loss: 0.8258 - accuracy: 0.7538"
          ]
        },
        {
          "output_type": "stream",
          "name": "stderr",
          "text": [
            "WARNING:tensorflow:Early stopping conditioned on metric `val_loss` which is not available. Available metrics are: loss,accuracy\n"
          ]
        },
        {
          "output_type": "stream",
          "name": "stdout",
          "text": [
            "\b\b\b\b\b\b\b\b\b\b\b\b\b\b\b\b\b\b\b\b\b\b\b\b\b\b\b\b\b\b\b\b\b\b\b\b\b\b\b\b\b\b\b\b\b\b\b\b\b\b\b\b\b\b\b\b\b\b\b\b\b\b\b\b\b\b\b\b\b\b\b\b\b\b\b\b\b\b\b\b\b\b\r49/49 [==============================] - 0s 2ms/step - loss: 0.6902 - accuracy: 0.7801\n",
            "Epoch 37/200\n",
            "23/49 [=============>................] - ETA: 0s - loss: 0.5280 - accuracy: 0.8348"
          ]
        },
        {
          "output_type": "stream",
          "name": "stderr",
          "text": [
            "WARNING:tensorflow:Early stopping conditioned on metric `val_loss` which is not available. Available metrics are: loss,accuracy\n"
          ]
        },
        {
          "output_type": "stream",
          "name": "stdout",
          "text": [
            "\b\b\b\b\b\b\b\b\b\b\b\b\b\b\b\b\b\b\b\b\b\b\b\b\b\b\b\b\b\b\b\b\b\b\b\b\b\b\b\b\b\b\b\b\b\b\b\b\b\b\b\b\b\b\b\b\b\b\b\b\b\b\b\b\b\b\b\b\b\b\b\b\b\b\b\b\b\b\b\b\b\b\r49/49 [==============================] - 0s 2ms/step - loss: 0.5276 - accuracy: 0.8340\n",
            "Epoch 38/200\n",
            "23/49 [=============>................] - ETA: 0s - loss: 0.5372 - accuracy: 0.8087"
          ]
        },
        {
          "output_type": "stream",
          "name": "stderr",
          "text": [
            "WARNING:tensorflow:Early stopping conditioned on metric `val_loss` which is not available. Available metrics are: loss,accuracy\n"
          ]
        },
        {
          "output_type": "stream",
          "name": "stdout",
          "text": [
            "\b\b\b\b\b\b\b\b\b\b\b\b\b\b\b\b\b\b\b\b\b\b\b\b\b\b\b\b\b\b\b\b\b\b\b\b\b\b\b\b\b\b\b\b\b\b\b\b\b\b\b\b\b\b\b\b\b\b\b\b\b\b\b\b\b\b\b\b\b\b\b\b\b\b\b\b\b\b\b\b\b\b\r49/49 [==============================] - 0s 2ms/step - loss: 0.5392 - accuracy: 0.8257\n",
            "Epoch 39/200\n",
            "26/49 [==============>...............] - ETA: 0s - loss: 0.6452 - accuracy: 0.7923"
          ]
        },
        {
          "output_type": "stream",
          "name": "stderr",
          "text": [
            "WARNING:tensorflow:Early stopping conditioned on metric `val_loss` which is not available. Available metrics are: loss,accuracy\n"
          ]
        },
        {
          "output_type": "stream",
          "name": "stdout",
          "text": [
            "\b\b\b\b\b\b\b\b\b\b\b\b\b\b\b\b\b\b\b\b\b\b\b\b\b\b\b\b\b\b\b\b\b\b\b\b\b\b\b\b\b\b\b\b\b\b\b\b\b\b\b\b\b\b\b\b\b\b\b\b\b\b\b\b\b\b\b\b\b\b\b\b\b\b\b\b\b\b\b\b\b\b\r49/49 [==============================] - 0s 2ms/step - loss: 0.6420 - accuracy: 0.7842\n",
            "Epoch 40/200\n",
            "29/49 [================>.............] - ETA: 0s - loss: 0.6535 - accuracy: 0.7448"
          ]
        },
        {
          "output_type": "stream",
          "name": "stderr",
          "text": [
            "WARNING:tensorflow:Early stopping conditioned on metric `val_loss` which is not available. Available metrics are: loss,accuracy\n"
          ]
        },
        {
          "output_type": "stream",
          "name": "stdout",
          "text": [
            "\b\b\b\b\b\b\b\b\b\b\b\b\b\b\b\b\b\b\b\b\b\b\b\b\b\b\b\b\b\b\b\b\b\b\b\b\b\b\b\b\b\b\b\b\b\b\b\b\b\b\b\b\b\b\b\b\b\b\b\b\b\b\b\b\b\b\b\b\b\b\b\b\b\b\b\b\b\b\b\b\b\b\r49/49 [==============================] - 0s 2ms/step - loss: 0.6254 - accuracy: 0.7759\n",
            "Epoch 41/200\n",
            "49/49 [==============================] - ETA: 0s - loss: 0.4839 - accuracy: 0.8423"
          ]
        },
        {
          "output_type": "stream",
          "name": "stderr",
          "text": [
            "WARNING:tensorflow:Early stopping conditioned on metric `val_loss` which is not available. Available metrics are: loss,accuracy\n"
          ]
        },
        {
          "output_type": "stream",
          "name": "stdout",
          "text": [
            "\b\b\b\b\b\b\b\b\b\b\b\b\b\b\b\b\b\b\b\b\b\b\b\b\b\b\b\b\b\b\b\b\b\b\b\b\b\b\b\b\b\b\b\b\b\b\b\b\b\b\b\b\b\b\b\b\b\b\b\b\b\b\b\b\b\b\b\b\b\b\b\b\b\b\b\b\b\b\b\b\b\b\r49/49 [==============================] - 0s 2ms/step - loss: 0.4839 - accuracy: 0.8423\n",
            "Epoch 42/200\n",
            "38/49 [======================>.......] - ETA: 0s - loss: 0.4686 - accuracy: 0.8316"
          ]
        },
        {
          "output_type": "stream",
          "name": "stderr",
          "text": [
            "WARNING:tensorflow:Early stopping conditioned on metric `val_loss` which is not available. Available metrics are: loss,accuracy\n"
          ]
        },
        {
          "output_type": "stream",
          "name": "stdout",
          "text": [
            "\b\b\b\b\b\b\b\b\b\b\b\b\b\b\b\b\b\b\b\b\b\b\b\b\b\b\b\b\b\b\b\b\b\b\b\b\b\b\b\b\b\b\b\b\b\b\b\b\b\b\b\b\b\b\b\b\b\b\b\b\b\b\b\b\b\b\b\b\b\b\b\b\b\b\b\b\b\b\b\b\b\b\r49/49 [==============================] - 0s 3ms/step - loss: 0.4886 - accuracy: 0.8340\n",
            "Epoch 43/200\n",
            "37/49 [=====================>........] - ETA: 0s - loss: 0.2926 - accuracy: 0.9081"
          ]
        },
        {
          "output_type": "stream",
          "name": "stderr",
          "text": [
            "WARNING:tensorflow:Early stopping conditioned on metric `val_loss` which is not available. Available metrics are: loss,accuracy\n"
          ]
        },
        {
          "output_type": "stream",
          "name": "stdout",
          "text": [
            "\b\b\b\b\b\b\b\b\b\b\b\b\b\b\b\b\b\b\b\b\b\b\b\b\b\b\b\b\b\b\b\b\b\b\b\b\b\b\b\b\b\b\b\b\b\b\b\b\b\b\b\b\b\b\b\b\b\b\b\b\b\b\b\b\b\b\b\b\b\b\b\b\b\b\b\b\b\b\b\b\b\b\r49/49 [==============================] - 0s 3ms/step - loss: 0.3109 - accuracy: 0.8963\n",
            "Epoch 44/200\n",
            "39/49 [======================>.......] - ETA: 0s - loss: 0.4429 - accuracy: 0.8667"
          ]
        },
        {
          "output_type": "stream",
          "name": "stderr",
          "text": [
            "WARNING:tensorflow:Early stopping conditioned on metric `val_loss` which is not available. Available metrics are: loss,accuracy\n"
          ]
        },
        {
          "output_type": "stream",
          "name": "stdout",
          "text": [
            "\b\b\b\b\b\b\b\b\b\b\b\b\b\b\b\b\b\b\b\b\b\b\b\b\b\b\b\b\b\b\b\b\b\b\b\b\b\b\b\b\b\b\b\b\b\b\b\b\b\b\b\b\b\b\b\b\b\b\b\b\b\b\b\b\b\b\b\b\b\b\b\b\b\b\b\b\b\b\b\b\b\b\r49/49 [==============================] - 0s 3ms/step - loss: 0.4549 - accuracy: 0.8631\n",
            "Epoch 45/200\n",
            "38/49 [======================>.......] - ETA: 0s - loss: 0.3636 - accuracy: 0.8789"
          ]
        },
        {
          "output_type": "stream",
          "name": "stderr",
          "text": [
            "WARNING:tensorflow:Early stopping conditioned on metric `val_loss` which is not available. Available metrics are: loss,accuracy\n"
          ]
        },
        {
          "output_type": "stream",
          "name": "stdout",
          "text": [
            "\b\b\b\b\b\b\b\b\b\b\b\b\b\b\b\b\b\b\b\b\b\b\b\b\b\b\b\b\b\b\b\b\b\b\b\b\b\b\b\b\b\b\b\b\b\b\b\b\b\b\b\b\b\b\b\b\b\b\b\b\b\b\b\b\b\b\b\b\b\b\b\b\b\b\b\b\b\b\b\b\b\b\r49/49 [==============================] - 0s 3ms/step - loss: 0.3825 - accuracy: 0.8672\n",
            "Epoch 46/200\n",
            "40/49 [=======================>......] - ETA: 0s - loss: 0.5010 - accuracy: 0.8400"
          ]
        },
        {
          "output_type": "stream",
          "name": "stderr",
          "text": [
            "WARNING:tensorflow:Early stopping conditioned on metric `val_loss` which is not available. Available metrics are: loss,accuracy\n"
          ]
        },
        {
          "output_type": "stream",
          "name": "stdout",
          "text": [
            "\b\b\b\b\b\b\b\b\b\b\b\b\b\b\b\b\b\b\b\b\b\b\b\b\b\b\b\b\b\b\b\b\b\b\b\b\b\b\b\b\b\b\b\b\b\b\b\b\b\b\b\b\b\b\b\b\b\b\b\b\b\b\b\b\b\b\b\b\b\b\b\b\b\b\b\b\b\b\b\b\b\b\r49/49 [==============================] - 0s 3ms/step - loss: 0.4838 - accuracy: 0.8548\n",
            "Epoch 47/200\n",
            "43/49 [=========================>....] - ETA: 0s - loss: 0.4306 - accuracy: 0.8558"
          ]
        },
        {
          "output_type": "stream",
          "name": "stderr",
          "text": [
            "WARNING:tensorflow:Early stopping conditioned on metric `val_loss` which is not available. Available metrics are: loss,accuracy\n"
          ]
        },
        {
          "output_type": "stream",
          "name": "stdout",
          "text": [
            "\b\b\b\b\b\b\b\b\b\b\b\b\b\b\b\b\b\b\b\b\b\b\b\b\b\b\b\b\b\b\b\b\b\b\b\b\b\b\b\b\b\b\b\b\b\b\b\b\b\b\b\b\b\b\b\b\b\b\b\b\b\b\b\b\b\b\b\b\b\b\b\b\b\b\b\b\b\b\b\b\b\b\r49/49 [==============================] - 0s 3ms/step - loss: 0.4506 - accuracy: 0.8548\n",
            "Epoch 48/200\n",
            "42/49 [========================>.....] - ETA: 0s - loss: 0.3906 - accuracy: 0.8857"
          ]
        },
        {
          "output_type": "stream",
          "name": "stderr",
          "text": [
            "WARNING:tensorflow:Early stopping conditioned on metric `val_loss` which is not available. Available metrics are: loss,accuracy\n"
          ]
        },
        {
          "output_type": "stream",
          "name": "stdout",
          "text": [
            "\b\b\b\b\b\b\b\b\b\b\b\b\b\b\b\b\b\b\b\b\b\b\b\b\b\b\b\b\b\b\b\b\b\b\b\b\b\b\b\b\b\b\b\b\b\b\b\b\b\b\b\b\b\b\b\b\b\b\b\b\b\b\b\b\b\b\b\b\b\b\b\b\b\b\b\b\b\b\b\b\b\b\r49/49 [==============================] - 0s 3ms/step - loss: 0.3853 - accuracy: 0.8921\n",
            "Epoch 49/200\n",
            "36/49 [=====================>........] - ETA: 0s - loss: 0.4091 - accuracy: 0.8556"
          ]
        },
        {
          "output_type": "stream",
          "name": "stderr",
          "text": [
            "WARNING:tensorflow:Early stopping conditioned on metric `val_loss` which is not available. Available metrics are: loss,accuracy\n"
          ]
        },
        {
          "output_type": "stream",
          "name": "stdout",
          "text": [
            "\b\b\b\b\b\b\b\b\b\b\b\b\b\b\b\b\b\b\b\b\b\b\b\b\b\b\b\b\b\b\b\b\b\b\b\b\b\b\b\b\b\b\b\b\b\b\b\b\b\b\b\b\b\b\b\b\b\b\b\b\b\b\b\b\b\b\b\b\b\b\b\b\b\b\b\b\b\b\b\b\b\b\r49/49 [==============================] - 0s 3ms/step - loss: 0.4530 - accuracy: 0.8382\n",
            "Epoch 50/200\n",
            "41/49 [========================>.....] - ETA: 0s - loss: 0.4572 - accuracy: 0.8634"
          ]
        },
        {
          "output_type": "stream",
          "name": "stderr",
          "text": [
            "WARNING:tensorflow:Early stopping conditioned on metric `val_loss` which is not available. Available metrics are: loss,accuracy\n"
          ]
        },
        {
          "output_type": "stream",
          "name": "stdout",
          "text": [
            "\b\b\b\b\b\b\b\b\b\b\b\b\b\b\b\b\b\b\b\b\b\b\b\b\b\b\b\b\b\b\b\b\b\b\b\b\b\b\b\b\b\b\b\b\b\b\b\b\b\b\b\b\b\b\b\b\b\b\b\b\b\b\b\b\b\b\b\b\b\b\b\b\b\b\b\b\b\b\b\b\b\b\r49/49 [==============================] - 0s 3ms/step - loss: 0.4723 - accuracy: 0.8548\n",
            "Epoch 51/200\n",
            "38/49 [======================>.......] - ETA: 0s - loss: 0.4928 - accuracy: 0.8684"
          ]
        },
        {
          "output_type": "stream",
          "name": "stderr",
          "text": [
            "WARNING:tensorflow:Early stopping conditioned on metric `val_loss` which is not available. Available metrics are: loss,accuracy\n"
          ]
        },
        {
          "output_type": "stream",
          "name": "stdout",
          "text": [
            "\b\b\b\b\b\b\b\b\b\b\b\b\b\b\b\b\b\b\b\b\b\b\b\b\b\b\b\b\b\b\b\b\b\b\b\b\b\b\b\b\b\b\b\b\b\b\b\b\b\b\b\b\b\b\b\b\b\b\b\b\b\b\b\b\b\b\b\b\b\b\b\b\b\b\b\b\b\b\b\b\b\b\r49/49 [==============================] - 0s 3ms/step - loss: 0.4348 - accuracy: 0.8797\n",
            "Epoch 52/200\n",
            "34/49 [===================>..........] - ETA: 0s - loss: 0.3500 - accuracy: 0.9000"
          ]
        },
        {
          "output_type": "stream",
          "name": "stderr",
          "text": [
            "WARNING:tensorflow:Early stopping conditioned on metric `val_loss` which is not available. Available metrics are: loss,accuracy\n"
          ]
        },
        {
          "output_type": "stream",
          "name": "stdout",
          "text": [
            "\b\b\b\b\b\b\b\b\b\b\b\b\b\b\b\b\b\b\b\b\b\b\b\b\b\b\b\b\b\b\b\b\b\b\b\b\b\b\b\b\b\b\b\b\b\b\b\b\b\b\b\b\b\b\b\b\b\b\b\b\b\b\b\b\b\b\b\b\b\b\b\b\b\b\b\b\b\b\b\b\b\b\r49/49 [==============================] - 0s 3ms/step - loss: 0.3653 - accuracy: 0.8963\n",
            "Epoch 53/200\n",
            "38/49 [======================>.......] - ETA: 0s - loss: 0.3958 - accuracy: 0.8474"
          ]
        },
        {
          "output_type": "stream",
          "name": "stderr",
          "text": [
            "WARNING:tensorflow:Early stopping conditioned on metric `val_loss` which is not available. Available metrics are: loss,accuracy\n"
          ]
        },
        {
          "output_type": "stream",
          "name": "stdout",
          "text": [
            "\b\b\b\b\b\b\b\b\b\b\b\b\b\b\b\b\b\b\b\b\b\b\b\b\b\b\b\b\b\b\b\b\b\b\b\b\b\b\b\b\b\b\b\b\b\b\b\b\b\b\b\b\b\b\b\b\b\b\b\b\b\b\b\b\b\b\b\b\b\b\b\b\b\b\b\b\b\b\b\b\b\b\r49/49 [==============================] - 0s 3ms/step - loss: 0.3998 - accuracy: 0.8589\n",
            "Epoch 54/200\n",
            "38/49 [======================>.......] - ETA: 0s - loss: 0.4136 - accuracy: 0.8526"
          ]
        },
        {
          "output_type": "stream",
          "name": "stderr",
          "text": [
            "WARNING:tensorflow:Early stopping conditioned on metric `val_loss` which is not available. Available metrics are: loss,accuracy\n"
          ]
        },
        {
          "output_type": "stream",
          "name": "stdout",
          "text": [
            "\b\b\b\b\b\b\b\b\b\b\b\b\b\b\b\b\b\b\b\b\b\b\b\b\b\b\b\b\b\b\b\b\b\b\b\b\b\b\b\b\b\b\b\b\b\b\b\b\b\b\b\b\b\b\b\b\b\b\b\b\b\b\b\b\b\b\b\b\b\b\b\b\b\b\b\b\b\b\b\b\b\b\r49/49 [==============================] - 0s 3ms/step - loss: 0.3773 - accuracy: 0.8631\n",
            "Epoch 55/200\n",
            "41/49 [========================>.....] - ETA: 0s - loss: 0.5540 - accuracy: 0.8098"
          ]
        },
        {
          "output_type": "stream",
          "name": "stderr",
          "text": [
            "WARNING:tensorflow:Early stopping conditioned on metric `val_loss` which is not available. Available metrics are: loss,accuracy\n"
          ]
        },
        {
          "output_type": "stream",
          "name": "stdout",
          "text": [
            "\b\b\b\b\b\b\b\b\b\b\b\b\b\b\b\b\b\b\b\b\b\b\b\b\b\b\b\b\b\b\b\b\b\b\b\b\b\b\b\b\b\b\b\b\b\b\b\b\b\b\b\b\b\b\b\b\b\b\b\b\b\b\b\b\b\b\b\b\b\b\b\b\b\b\b\b\b\b\b\b\b\b\r49/49 [==============================] - 0s 3ms/step - loss: 0.5078 - accuracy: 0.8216\n",
            "Epoch 56/200\n",
            "41/49 [========================>.....] - ETA: 0s - loss: 0.4632 - accuracy: 0.8341"
          ]
        },
        {
          "output_type": "stream",
          "name": "stderr",
          "text": [
            "WARNING:tensorflow:Early stopping conditioned on metric `val_loss` which is not available. Available metrics are: loss,accuracy\n"
          ]
        },
        {
          "output_type": "stream",
          "name": "stdout",
          "text": [
            "\b\b\b\b\b\b\b\b\b\b\b\b\b\b\b\b\b\b\b\b\b\b\b\b\b\b\b\b\b\b\b\b\b\b\b\b\b\b\b\b\b\b\b\b\b\b\b\b\b\b\b\b\b\b\b\b\b\b\b\b\b\b\b\b\b\b\b\b\b\b\b\b\b\b\b\b\b\b\b\b\b\b\r49/49 [==============================] - 0s 3ms/step - loss: 0.4298 - accuracy: 0.8548\n",
            "Epoch 57/200\n",
            "42/49 [========================>.....] - ETA: 0s - loss: 0.3742 - accuracy: 0.8762"
          ]
        },
        {
          "output_type": "stream",
          "name": "stderr",
          "text": [
            "WARNING:tensorflow:Early stopping conditioned on metric `val_loss` which is not available. Available metrics are: loss,accuracy\n"
          ]
        },
        {
          "output_type": "stream",
          "name": "stdout",
          "text": [
            "\b\b\b\b\b\b\b\b\b\b\b\b\b\b\b\b\b\b\b\b\b\b\b\b\b\b\b\b\b\b\b\b\b\b\b\b\b\b\b\b\b\b\b\b\b\b\b\b\b\b\b\b\b\b\b\b\b\b\b\b\b\b\b\b\b\b\b\b\b\b\b\b\b\b\b\b\b\b\b\b\b\b\r49/49 [==============================] - 0s 3ms/step - loss: 0.3762 - accuracy: 0.8838\n",
            "Epoch 58/200\n",
            "41/49 [========================>.....] - ETA: 0s - loss: 0.3122 - accuracy: 0.8976"
          ]
        },
        {
          "output_type": "stream",
          "name": "stderr",
          "text": [
            "WARNING:tensorflow:Early stopping conditioned on metric `val_loss` which is not available. Available metrics are: loss,accuracy\n"
          ]
        },
        {
          "output_type": "stream",
          "name": "stdout",
          "text": [
            "\b\b\b\b\b\b\b\b\b\b\b\b\b\b\b\b\b\b\b\b\b\b\b\b\b\b\b\b\b\b\b\b\b\b\b\b\b\b\b\b\b\b\b\b\b\b\b\b\b\b\b\b\b\b\b\b\b\b\b\b\b\b\b\b\b\b\b\b\b\b\b\b\b\b\b\b\b\b\b\b\b\b\r49/49 [==============================] - 0s 3ms/step - loss: 0.3342 - accuracy: 0.8838\n",
            "Epoch 59/200\n",
            "35/49 [====================>.........] - ETA: 0s - loss: 0.5096 - accuracy: 0.8400"
          ]
        },
        {
          "output_type": "stream",
          "name": "stderr",
          "text": [
            "WARNING:tensorflow:Early stopping conditioned on metric `val_loss` which is not available. Available metrics are: loss,accuracy\n"
          ]
        },
        {
          "output_type": "stream",
          "name": "stdout",
          "text": [
            "\b\b\b\b\b\b\b\b\b\b\b\b\b\b\b\b\b\b\b\b\b\b\b\b\b\b\b\b\b\b\b\b\b\b\b\b\b\b\b\b\b\b\b\b\b\b\b\b\b\b\b\b\b\b\b\b\b\b\b\b\b\b\b\b\b\b\b\b\b\b\b\b\b\b\b\b\b\b\b\b\b\b\r49/49 [==============================] - 0s 3ms/step - loss: 0.4866 - accuracy: 0.8423\n",
            "Epoch 60/200\n",
            "36/49 [=====================>........] - ETA: 0s - loss: 0.4082 - accuracy: 0.8556"
          ]
        },
        {
          "output_type": "stream",
          "name": "stderr",
          "text": [
            "WARNING:tensorflow:Early stopping conditioned on metric `val_loss` which is not available. Available metrics are: loss,accuracy\n"
          ]
        },
        {
          "output_type": "stream",
          "name": "stdout",
          "text": [
            "\b\b\b\b\b\b\b\b\b\b\b\b\b\b\b\b\b\b\b\b\b\b\b\b\b\b\b\b\b\b\b\b\b\b\b\b\b\b\b\b\b\b\b\b\b\b\b\b\b\b\b\b\b\b\b\b\b\b\b\b\b\b\b\b\b\b\b\b\b\b\b\b\b\b\b\b\b\b\b\b\b\b\r49/49 [==============================] - 0s 3ms/step - loss: 0.4237 - accuracy: 0.8548\n",
            "Epoch 61/200\n",
            "42/49 [========================>.....] - ETA: 0s - loss: 0.4209 - accuracy: 0.8952"
          ]
        },
        {
          "output_type": "stream",
          "name": "stderr",
          "text": [
            "WARNING:tensorflow:Early stopping conditioned on metric `val_loss` which is not available. Available metrics are: loss,accuracy\n"
          ]
        },
        {
          "output_type": "stream",
          "name": "stdout",
          "text": [
            "\b\b\b\b\b\b\b\b\b\b\b\b\b\b\b\b\b\b\b\b\b\b\b\b\b\b\b\b\b\b\b\b\b\b\b\b\b\b\b\b\b\b\b\b\b\b\b\b\b\b\b\b\b\b\b\b\b\b\b\b\b\b\b\b\b\b\b\b\b\b\b\b\b\b\b\b\b\b\b\b\b\b\r49/49 [==============================] - 0s 3ms/step - loss: 0.3797 - accuracy: 0.9087\n",
            "Epoch 62/200\n",
            "38/49 [======================>.......] - ETA: 0s - loss: 0.2786 - accuracy: 0.9263"
          ]
        },
        {
          "output_type": "stream",
          "name": "stderr",
          "text": [
            "WARNING:tensorflow:Early stopping conditioned on metric `val_loss` which is not available. Available metrics are: loss,accuracy\n"
          ]
        },
        {
          "output_type": "stream",
          "name": "stdout",
          "text": [
            "\b\b\b\b\b\b\b\b\b\b\b\b\b\b\b\b\b\b\b\b\b\b\b\b\b\b\b\b\b\b\b\b\b\b\b\b\b\b\b\b\b\b\b\b\b\b\b\b\b\b\b\b\b\b\b\b\b\b\b\b\b\b\b\b\b\b\b\b\b\b\b\b\b\b\b\b\b\b\b\b\b\b\r49/49 [==============================] - 0s 3ms/step - loss: 0.3000 - accuracy: 0.9170\n",
            "Epoch 63/200\n",
            "42/49 [========================>.....] - ETA: 0s - loss: 0.4284 - accuracy: 0.8238"
          ]
        },
        {
          "output_type": "stream",
          "name": "stderr",
          "text": [
            "WARNING:tensorflow:Early stopping conditioned on metric `val_loss` which is not available. Available metrics are: loss,accuracy\n"
          ]
        },
        {
          "output_type": "stream",
          "name": "stdout",
          "text": [
            "\b\b\b\b\b\b\b\b\b\b\b\b\b\b\b\b\b\b\b\b\b\b\b\b\b\b\b\b\b\b\b\b\b\b\b\b\b\b\b\b\b\b\b\b\b\b\b\b\b\b\b\b\b\b\b\b\b\b\b\b\b\b\b\b\b\b\b\b\b\b\b\b\b\b\b\b\b\b\b\b\b\b\r49/49 [==============================] - 0s 3ms/step - loss: 0.4523 - accuracy: 0.8174\n",
            "Epoch 64/200\n",
            "25/49 [==============>...............] - ETA: 0s - loss: 0.2277 - accuracy: 0.9440"
          ]
        },
        {
          "output_type": "stream",
          "name": "stderr",
          "text": [
            "WARNING:tensorflow:Early stopping conditioned on metric `val_loss` which is not available. Available metrics are: loss,accuracy\n"
          ]
        },
        {
          "output_type": "stream",
          "name": "stdout",
          "text": [
            "\b\b\b\b\b\b\b\b\b\b\b\b\b\b\b\b\b\b\b\b\b\b\b\b\b\b\b\b\b\b\b\b\b\b\b\b\b\b\b\b\b\b\b\b\b\b\b\b\b\b\b\b\b\b\b\b\b\b\b\b\b\b\b\b\b\b\b\b\b\b\b\b\b\b\b\b\b\b\b\b\b\b\r49/49 [==============================] - 0s 2ms/step - loss: 0.2776 - accuracy: 0.9129\n",
            "Epoch 65/200\n",
            "28/49 [================>.............] - ETA: 0s - loss: 0.2942 - accuracy: 0.9071"
          ]
        },
        {
          "output_type": "stream",
          "name": "stderr",
          "text": [
            "WARNING:tensorflow:Early stopping conditioned on metric `val_loss` which is not available. Available metrics are: loss,accuracy\n"
          ]
        },
        {
          "output_type": "stream",
          "name": "stdout",
          "text": [
            "\b\b\b\b\b\b\b\b\b\b\b\b\b\b\b\b\b\b\b\b\b\b\b\b\b\b\b\b\b\b\b\b\b\b\b\b\b\b\b\b\b\b\b\b\b\b\b\b\b\b\b\b\b\b\b\b\b\b\b\b\b\b\b\b\b\b\b\b\b\b\b\b\b\b\b\b\b\b\b\b\b\b\r49/49 [==============================] - 0s 2ms/step - loss: 0.3395 - accuracy: 0.8880\n",
            "Epoch 66/200\n",
            "27/49 [===============>..............] - ETA: 0s - loss: 0.3766 - accuracy: 0.8519"
          ]
        },
        {
          "output_type": "stream",
          "name": "stderr",
          "text": [
            "WARNING:tensorflow:Early stopping conditioned on metric `val_loss` which is not available. Available metrics are: loss,accuracy\n"
          ]
        },
        {
          "output_type": "stream",
          "name": "stdout",
          "text": [
            "\b\b\b\b\b\b\b\b\b\b\b\b\b\b\b\b\b\b\b\b\b\b\b\b\b\b\b\b\b\b\b\b\b\b\b\b\b\b\b\b\b\b\b\b\b\b\b\b\b\b\b\b\b\b\b\b\b\b\b\b\b\b\b\b\b\b\b\b\b\b\b\b\b\b\b\b\b\b\b\b\b\b\r49/49 [==============================] - 0s 2ms/step - loss: 0.3945 - accuracy: 0.8506\n",
            "Epoch 67/200\n",
            "30/49 [=================>............] - ETA: 0s - loss: 0.2339 - accuracy: 0.9133"
          ]
        },
        {
          "output_type": "stream",
          "name": "stderr",
          "text": [
            "WARNING:tensorflow:Early stopping conditioned on metric `val_loss` which is not available. Available metrics are: loss,accuracy\n"
          ]
        },
        {
          "output_type": "stream",
          "name": "stdout",
          "text": [
            "\b\b\b\b\b\b\b\b\b\b\b\b\b\b\b\b\b\b\b\b\b\b\b\b\b\b\b\b\b\b\b\b\b\b\b\b\b\b\b\b\b\b\b\b\b\b\b\b\b\b\b\b\b\b\b\b\b\b\b\b\b\b\b\b\b\b\b\b\b\b\b\b\b\b\b\b\b\b\b\b\b\b\r49/49 [==============================] - 0s 2ms/step - loss: 0.2313 - accuracy: 0.9170\n",
            "Epoch 68/200\n",
            "28/49 [================>.............] - ETA: 0s - loss: 0.3566 - accuracy: 0.8786"
          ]
        },
        {
          "output_type": "stream",
          "name": "stderr",
          "text": [
            "WARNING:tensorflow:Early stopping conditioned on metric `val_loss` which is not available. Available metrics are: loss,accuracy\n"
          ]
        },
        {
          "output_type": "stream",
          "name": "stdout",
          "text": [
            "\b\b\b\b\b\b\b\b\b\b\b\b\b\b\b\b\b\b\b\b\b\b\b\b\b\b\b\b\b\b\b\b\b\b\b\b\b\b\b\b\b\b\b\b\b\b\b\b\b\b\b\b\b\b\b\b\b\b\b\b\b\b\b\b\b\b\b\b\b\b\b\b\b\b\b\b\b\b\b\b\b\b\r49/49 [==============================] - 0s 2ms/step - loss: 0.3385 - accuracy: 0.8880\n",
            "Epoch 69/200\n",
            "31/49 [=================>............] - ETA: 0s - loss: 0.3389 - accuracy: 0.9032"
          ]
        },
        {
          "output_type": "stream",
          "name": "stderr",
          "text": [
            "WARNING:tensorflow:Early stopping conditioned on metric `val_loss` which is not available. Available metrics are: loss,accuracy\n"
          ]
        },
        {
          "output_type": "stream",
          "name": "stdout",
          "text": [
            "\b\b\b\b\b\b\b\b\b\b\b\b\b\b\b\b\b\b\b\b\b\b\b\b\b\b\b\b\b\b\b\b\b\b\b\b\b\b\b\b\b\b\b\b\b\b\b\b\b\b\b\b\b\b\b\b\b\b\b\b\b\b\b\b\b\b\b\b\b\b\b\b\b\b\b\b\b\b\b\b\b\b\r49/49 [==============================] - 0s 2ms/step - loss: 0.3459 - accuracy: 0.8921\n",
            "Epoch 70/200\n",
            "29/49 [================>.............] - ETA: 0s - loss: 0.3293 - accuracy: 0.8897"
          ]
        },
        {
          "output_type": "stream",
          "name": "stderr",
          "text": [
            "WARNING:tensorflow:Early stopping conditioned on metric `val_loss` which is not available. Available metrics are: loss,accuracy\n"
          ]
        },
        {
          "output_type": "stream",
          "name": "stdout",
          "text": [
            "\b\b\b\b\b\b\b\b\b\b\b\b\b\b\b\b\b\b\b\b\b\b\b\b\b\b\b\b\b\b\b\b\b\b\b\b\b\b\b\b\b\b\b\b\b\b\b\b\b\b\b\b\b\b\b\b\b\b\b\b\b\b\b\b\b\b\b\b\b\b\b\b\b\b\b\b\b\b\b\b\b\b\r49/49 [==============================] - 0s 2ms/step - loss: 0.3679 - accuracy: 0.8880\n",
            "Epoch 71/200\n",
            "30/49 [=================>............] - ETA: 0s - loss: 0.5360 - accuracy: 0.8267"
          ]
        },
        {
          "output_type": "stream",
          "name": "stderr",
          "text": [
            "WARNING:tensorflow:Early stopping conditioned on metric `val_loss` which is not available. Available metrics are: loss,accuracy\n"
          ]
        },
        {
          "output_type": "stream",
          "name": "stdout",
          "text": [
            "\b\b\b\b\b\b\b\b\b\b\b\b\b\b\b\b\b\b\b\b\b\b\b\b\b\b\b\b\b\b\b\b\b\b\b\b\b\b\b\b\b\b\b\b\b\b\b\b\b\b\b\b\b\b\b\b\b\b\b\b\b\b\b\b\b\b\b\b\b\b\b\b\b\b\b\b\b\b\b\b\b\b\r49/49 [==============================] - 0s 2ms/step - loss: 0.5361 - accuracy: 0.8257\n",
            "Epoch 72/200\n",
            "30/49 [=================>............] - ETA: 0s - loss: 0.3237 - accuracy: 0.8600"
          ]
        },
        {
          "output_type": "stream",
          "name": "stderr",
          "text": [
            "WARNING:tensorflow:Early stopping conditioned on metric `val_loss` which is not available. Available metrics are: loss,accuracy\n"
          ]
        },
        {
          "output_type": "stream",
          "name": "stdout",
          "text": [
            "\b\b\b\b\b\b\b\b\b\b\b\b\b\b\b\b\b\b\b\b\b\b\b\b\b\b\b\b\b\b\b\b\b\b\b\b\b\b\b\b\b\b\b\b\b\b\b\b\b\b\b\b\b\b\b\b\b\b\b\b\b\b\b\b\b\b\b\b\b\b\b\b\b\b\b\b\b\b\b\b\b\b\r49/49 [==============================] - 0s 2ms/step - loss: 0.3532 - accuracy: 0.8672\n",
            "Epoch 73/200\n",
            "30/49 [=================>............] - ETA: 0s - loss: 0.4228 - accuracy: 0.8667"
          ]
        },
        {
          "output_type": "stream",
          "name": "stderr",
          "text": [
            "WARNING:tensorflow:Early stopping conditioned on metric `val_loss` which is not available. Available metrics are: loss,accuracy\n"
          ]
        },
        {
          "output_type": "stream",
          "name": "stdout",
          "text": [
            "\b\b\b\b\b\b\b\b\b\b\b\b\b\b\b\b\b\b\b\b\b\b\b\b\b\b\b\b\b\b\b\b\b\b\b\b\b\b\b\b\b\b\b\b\b\b\b\b\b\b\b\b\b\b\b\b\b\b\b\b\b\b\b\b\b\b\b\b\b\b\b\b\b\b\b\b\b\b\b\b\b\b\r49/49 [==============================] - 0s 2ms/step - loss: 0.4455 - accuracy: 0.8589\n",
            "Epoch 74/200\n",
            "29/49 [================>.............] - ETA: 0s - loss: 0.3657 - accuracy: 0.8897"
          ]
        },
        {
          "output_type": "stream",
          "name": "stderr",
          "text": [
            "WARNING:tensorflow:Early stopping conditioned on metric `val_loss` which is not available. Available metrics are: loss,accuracy\n"
          ]
        },
        {
          "output_type": "stream",
          "name": "stdout",
          "text": [
            "\b\b\b\b\b\b\b\b\b\b\b\b\b\b\b\b\b\b\b\b\b\b\b\b\b\b\b\b\b\b\b\b\b\b\b\b\b\b\b\b\b\b\b\b\b\b\b\b\b\b\b\b\b\b\b\b\b\b\b\b\b\b\b\b\b\b\b\b\b\b\b\b\b\b\b\b\b\b\b\b\b\b\r49/49 [==============================] - 0s 2ms/step - loss: 0.3458 - accuracy: 0.8963\n",
            "Epoch 75/200\n",
            "31/49 [=================>............] - ETA: 0s - loss: 0.2677 - accuracy: 0.8968"
          ]
        },
        {
          "output_type": "stream",
          "name": "stderr",
          "text": [
            "WARNING:tensorflow:Early stopping conditioned on metric `val_loss` which is not available. Available metrics are: loss,accuracy\n"
          ]
        },
        {
          "output_type": "stream",
          "name": "stdout",
          "text": [
            "\b\b\b\b\b\b\b\b\b\b\b\b\b\b\b\b\b\b\b\b\b\b\b\b\b\b\b\b\b\b\b\b\b\b\b\b\b\b\b\b\b\b\b\b\b\b\b\b\b\b\b\b\b\b\b\b\b\b\b\b\b\b\b\b\b\b\b\b\b\b\b\b\b\b\b\b\b\b\b\b\b\b\r49/49 [==============================] - 0s 2ms/step - loss: 0.2531 - accuracy: 0.9046\n",
            "Epoch 76/200\n",
            "31/49 [=================>............] - ETA: 0s - loss: 0.4272 - accuracy: 0.8516"
          ]
        },
        {
          "output_type": "stream",
          "name": "stderr",
          "text": [
            "WARNING:tensorflow:Early stopping conditioned on metric `val_loss` which is not available. Available metrics are: loss,accuracy\n"
          ]
        },
        {
          "output_type": "stream",
          "name": "stdout",
          "text": [
            "\b\b\b\b\b\b\b\b\b\b\b\b\b\b\b\b\b\b\b\b\b\b\b\b\b\b\b\b\b\b\b\b\b\b\b\b\b\b\b\b\b\b\b\b\b\b\b\b\b\b\b\b\b\b\b\b\b\b\b\b\b\b\b\b\b\b\b\b\b\b\b\b\b\b\b\b\b\b\b\b\b\b\r49/49 [==============================] - 0s 2ms/step - loss: 0.4480 - accuracy: 0.8506\n",
            "Epoch 77/200\n",
            "29/49 [================>.............] - ETA: 0s - loss: 0.4057 - accuracy: 0.8897"
          ]
        },
        {
          "output_type": "stream",
          "name": "stderr",
          "text": [
            "WARNING:tensorflow:Early stopping conditioned on metric `val_loss` which is not available. Available metrics are: loss,accuracy\n"
          ]
        },
        {
          "output_type": "stream",
          "name": "stdout",
          "text": [
            "\b\b\b\b\b\b\b\b\b\b\b\b\b\b\b\b\b\b\b\b\b\b\b\b\b\b\b\b\b\b\b\b\b\b\b\b\b\b\b\b\b\b\b\b\b\b\b\b\b\b\b\b\b\b\b\b\b\b\b\b\b\b\b\b\b\b\b\b\b\b\b\b\b\b\b\b\b\b\b\b\b\b\r49/49 [==============================] - 0s 2ms/step - loss: 0.3025 - accuracy: 0.9170\n",
            "Epoch 78/200\n",
            "29/49 [================>.............] - ETA: 0s - loss: 0.2435 - accuracy: 0.9379"
          ]
        },
        {
          "output_type": "stream",
          "name": "stderr",
          "text": [
            "WARNING:tensorflow:Early stopping conditioned on metric `val_loss` which is not available. Available metrics are: loss,accuracy\n"
          ]
        },
        {
          "output_type": "stream",
          "name": "stdout",
          "text": [
            "\b\b\b\b\b\b\b\b\b\b\b\b\b\b\b\b\b\b\b\b\b\b\b\b\b\b\b\b\b\b\b\b\b\b\b\b\b\b\b\b\b\b\b\b\b\b\b\b\b\b\b\b\b\b\b\b\b\b\b\b\b\b\b\b\b\b\b\b\b\b\b\b\b\b\b\b\b\b\b\b\b\b\r49/49 [==============================] - 0s 2ms/step - loss: 0.2706 - accuracy: 0.9129\n",
            "Epoch 79/200\n",
            "27/49 [===============>..............] - ETA: 0s - loss: 0.2788 - accuracy: 0.9259"
          ]
        },
        {
          "output_type": "stream",
          "name": "stderr",
          "text": [
            "WARNING:tensorflow:Early stopping conditioned on metric `val_loss` which is not available. Available metrics are: loss,accuracy\n"
          ]
        },
        {
          "output_type": "stream",
          "name": "stdout",
          "text": [
            "\b\b\b\b\b\b\b\b\b\b\b\b\b\b\b\b\b\b\b\b\b\b\b\b\b\b\b\b\b\b\b\b\b\b\b\b\b\b\b\b\b\b\b\b\b\b\b\b\b\b\b\b\b\b\b\b\b\b\b\b\b\b\b\b\b\b\b\b\b\b\b\b\b\b\b\b\b\b\b\b\b\b\r49/49 [==============================] - 0s 2ms/step - loss: 0.2776 - accuracy: 0.9046\n",
            "Epoch 80/200\n",
            "31/49 [=================>............] - ETA: 0s - loss: 0.2874 - accuracy: 0.8903"
          ]
        },
        {
          "output_type": "stream",
          "name": "stderr",
          "text": [
            "WARNING:tensorflow:Early stopping conditioned on metric `val_loss` which is not available. Available metrics are: loss,accuracy\n"
          ]
        },
        {
          "output_type": "stream",
          "name": "stdout",
          "text": [
            "\b\b\b\b\b\b\b\b\b\b\b\b\b\b\b\b\b\b\b\b\b\b\b\b\b\b\b\b\b\b\b\b\b\b\b\b\b\b\b\b\b\b\b\b\b\b\b\b\b\b\b\b\b\b\b\b\b\b\b\b\b\b\b\b\b\b\b\b\b\b\b\b\b\b\b\b\b\b\b\b\b\b\r49/49 [==============================] - 0s 2ms/step - loss: 0.3459 - accuracy: 0.8797\n",
            "Epoch 81/200\n",
            "28/49 [================>.............] - ETA: 0s - loss: 0.3011 - accuracy: 0.8857"
          ]
        },
        {
          "output_type": "stream",
          "name": "stderr",
          "text": [
            "WARNING:tensorflow:Early stopping conditioned on metric `val_loss` which is not available. Available metrics are: loss,accuracy\n"
          ]
        },
        {
          "output_type": "stream",
          "name": "stdout",
          "text": [
            "\b\b\b\b\b\b\b\b\b\b\b\b\b\b\b\b\b\b\b\b\b\b\b\b\b\b\b\b\b\b\b\b\b\b\b\b\b\b\b\b\b\b\b\b\b\b\b\b\b\b\b\b\b\b\b\b\b\b\b\b\b\b\b\b\b\b\b\b\b\b\b\b\b\b\b\b\b\b\b\b\b\b\r49/49 [==============================] - 0s 2ms/step - loss: 0.3265 - accuracy: 0.8838\n",
            "Epoch 82/200\n",
            "25/49 [==============>...............] - ETA: 0s - loss: 0.3780 - accuracy: 0.8640"
          ]
        },
        {
          "output_type": "stream",
          "name": "stderr",
          "text": [
            "WARNING:tensorflow:Early stopping conditioned on metric `val_loss` which is not available. Available metrics are: loss,accuracy\n"
          ]
        },
        {
          "output_type": "stream",
          "name": "stdout",
          "text": [
            "\b\b\b\b\b\b\b\b\b\b\b\b\b\b\b\b\b\b\b\b\b\b\b\b\b\b\b\b\b\b\b\b\b\b\b\b\b\b\b\b\b\b\b\b\b\b\b\b\b\b\b\b\b\b\b\b\b\b\b\b\b\b\b\b\b\b\b\b\b\b\b\b\b\b\b\b\b\b\b\b\b\b\r49/49 [==============================] - 0s 2ms/step - loss: 0.2888 - accuracy: 0.9004\n",
            "Epoch 83/200\n",
            "28/49 [================>.............] - ETA: 0s - loss: 0.4267 - accuracy: 0.8500"
          ]
        },
        {
          "output_type": "stream",
          "name": "stderr",
          "text": [
            "WARNING:tensorflow:Early stopping conditioned on metric `val_loss` which is not available. Available metrics are: loss,accuracy\n"
          ]
        },
        {
          "output_type": "stream",
          "name": "stdout",
          "text": [
            "\b\b\b\b\b\b\b\b\b\b\b\b\b\b\b\b\b\b\b\b\b\b\b\b\b\b\b\b\b\b\b\b\b\b\b\b\b\b\b\b\b\b\b\b\b\b\b\b\b\b\b\b\b\b\b\b\b\b\b\b\b\b\b\b\b\b\b\b\b\b\b\b\b\b\b\b\b\b\b\b\b\b\r49/49 [==============================] - 0s 2ms/step - loss: 0.3205 - accuracy: 0.8963\n",
            "Epoch 84/200\n",
            "49/49 [==============================] - ETA: 0s - loss: 0.3025 - accuracy: 0.8963"
          ]
        },
        {
          "output_type": "stream",
          "name": "stderr",
          "text": [
            "WARNING:tensorflow:Early stopping conditioned on metric `val_loss` which is not available. Available metrics are: loss,accuracy\n"
          ]
        },
        {
          "output_type": "stream",
          "name": "stdout",
          "text": [
            "\b\b\b\b\b\b\b\b\b\b\b\b\b\b\b\b\b\b\b\b\b\b\b\b\b\b\b\b\b\b\b\b\b\b\b\b\b\b\b\b\b\b\b\b\b\b\b\b\b\b\b\b\b\b\b\b\b\b\b\b\b\b\b\b\b\b\b\b\b\b\b\b\b\b\b\b\b\b\b\b\b\b\r49/49 [==============================] - 0s 2ms/step - loss: 0.3025 - accuracy: 0.8963\n",
            "Epoch 85/200\n",
            "27/49 [===============>..............] - ETA: 0s - loss: 0.3254 - accuracy: 0.9111"
          ]
        },
        {
          "output_type": "stream",
          "name": "stderr",
          "text": [
            "WARNING:tensorflow:Early stopping conditioned on metric `val_loss` which is not available. Available metrics are: loss,accuracy\n"
          ]
        },
        {
          "output_type": "stream",
          "name": "stdout",
          "text": [
            "\b\b\b\b\b\b\b\b\b\b\b\b\b\b\b\b\b\b\b\b\b\b\b\b\b\b\b\b\b\b\b\b\b\b\b\b\b\b\b\b\b\b\b\b\b\b\b\b\b\b\b\b\b\b\b\b\b\b\b\b\b\b\b\b\b\b\b\b\b\b\b\b\b\b\b\b\b\b\b\b\b\b\r49/49 [==============================] - 0s 2ms/step - loss: 0.3909 - accuracy: 0.8797\n",
            "Epoch 86/200\n",
            "26/49 [==============>...............] - ETA: 0s - loss: 0.2552 - accuracy: 0.8923"
          ]
        },
        {
          "output_type": "stream",
          "name": "stderr",
          "text": [
            "WARNING:tensorflow:Early stopping conditioned on metric `val_loss` which is not available. Available metrics are: loss,accuracy\n"
          ]
        },
        {
          "output_type": "stream",
          "name": "stdout",
          "text": [
            "\b\b\b\b\b\b\b\b\b\b\b\b\b\b\b\b\b\b\b\b\b\b\b\b\b\b\b\b\b\b\b\b\b\b\b\b\b\b\b\b\b\b\b\b\b\b\b\b\b\b\b\b\b\b\b\b\b\b\b\b\b\b\b\b\b\b\b\b\b\b\b\b\b\b\b\b\b\b\b\b\b\b\r49/49 [==============================] - 0s 2ms/step - loss: 0.2483 - accuracy: 0.9129\n",
            "Epoch 87/200\n",
            "32/49 [==================>...........] - ETA: 0s - loss: 0.3707 - accuracy: 0.8813"
          ]
        },
        {
          "output_type": "stream",
          "name": "stderr",
          "text": [
            "WARNING:tensorflow:Early stopping conditioned on metric `val_loss` which is not available. Available metrics are: loss,accuracy\n"
          ]
        },
        {
          "output_type": "stream",
          "name": "stdout",
          "text": [
            "\b\b\b\b\b\b\b\b\b\b\b\b\b\b\b\b\b\b\b\b\b\b\b\b\b\b\b\b\b\b\b\b\b\b\b\b\b\b\b\b\b\b\b\b\b\b\b\b\b\b\b\b\b\b\b\b\b\b\b\b\b\b\b\b\b\b\b\b\b\b\b\b\b\b\b\b\b\b\b\b\b\b\r49/49 [==============================] - 0s 2ms/step - loss: 0.3131 - accuracy: 0.9046\n",
            "Epoch 88/200\n",
            "49/49 [==============================] - ETA: 0s - loss: 0.2513 - accuracy: 0.9046"
          ]
        },
        {
          "output_type": "stream",
          "name": "stderr",
          "text": [
            "WARNING:tensorflow:Early stopping conditioned on metric `val_loss` which is not available. Available metrics are: loss,accuracy\n"
          ]
        },
        {
          "output_type": "stream",
          "name": "stdout",
          "text": [
            "\b\b\b\b\b\b\b\b\b\b\b\b\b\b\b\b\b\b\b\b\b\b\b\b\b\b\b\b\b\b\b\b\b\b\b\b\b\b\b\b\b\b\b\b\b\b\b\b\b\b\b\b\b\b\b\b\b\b\b\b\b\b\b\b\b\b\b\b\b\b\b\b\b\b\b\b\b\b\b\b\b\b\r49/49 [==============================] - 0s 2ms/step - loss: 0.2513 - accuracy: 0.9046\n",
            "Epoch 89/200\n",
            "48/49 [============================>.] - ETA: 0s - loss: 0.3198 - accuracy: 0.9208"
          ]
        },
        {
          "output_type": "stream",
          "name": "stderr",
          "text": [
            "WARNING:tensorflow:Early stopping conditioned on metric `val_loss` which is not available. Available metrics are: loss,accuracy\n"
          ]
        },
        {
          "output_type": "stream",
          "name": "stdout",
          "text": [
            "\b\b\b\b\b\b\b\b\b\b\b\b\b\b\b\b\b\b\b\b\b\b\b\b\b\b\b\b\b\b\b\b\b\b\b\b\b\b\b\b\b\b\b\b\b\b\b\b\b\b\b\b\b\b\b\b\b\b\b\b\b\b\b\b\b\b\b\b\b\b\b\b\b\b\b\b\b\b\b\b\b\b\r49/49 [==============================] - 0s 2ms/step - loss: 0.3220 - accuracy: 0.9212\n",
            "Epoch 90/200\n",
            "27/49 [===============>..............] - ETA: 0s - loss: 0.3386 - accuracy: 0.8741"
          ]
        },
        {
          "output_type": "stream",
          "name": "stderr",
          "text": [
            "WARNING:tensorflow:Early stopping conditioned on metric `val_loss` which is not available. Available metrics are: loss,accuracy\n"
          ]
        },
        {
          "output_type": "stream",
          "name": "stdout",
          "text": [
            "\b\b\b\b\b\b\b\b\b\b\b\b\b\b\b\b\b\b\b\b\b\b\b\b\b\b\b\b\b\b\b\b\b\b\b\b\b\b\b\b\b\b\b\b\b\b\b\b\b\b\b\b\b\b\b\b\b\b\b\b\b\b\b\b\b\b\b\b\b\b\b\b\b\b\b\b\b\b\b\b\b\b\r49/49 [==============================] - 0s 2ms/step - loss: 0.3754 - accuracy: 0.8797\n",
            "Epoch 91/200\n",
            "30/49 [=================>............] - ETA: 0s - loss: 0.2582 - accuracy: 0.8933"
          ]
        },
        {
          "output_type": "stream",
          "name": "stderr",
          "text": [
            "WARNING:tensorflow:Early stopping conditioned on metric `val_loss` which is not available. Available metrics are: loss,accuracy\n"
          ]
        },
        {
          "output_type": "stream",
          "name": "stdout",
          "text": [
            "\b\b\b\b\b\b\b\b\b\b\b\b\b\b\b\b\b\b\b\b\b\b\b\b\b\b\b\b\b\b\b\b\b\b\b\b\b\b\b\b\b\b\b\b\b\b\b\b\b\b\b\b\b\b\b\b\b\b\b\b\b\b\b\b\b\b\b\b\b\b\b\b\b\b\b\b\b\b\b\b\b\b\r49/49 [==============================] - 0s 2ms/step - loss: 0.2865 - accuracy: 0.9004\n",
            "Epoch 92/200\n",
            "29/49 [================>.............] - ETA: 0s - loss: 0.2646 - accuracy: 0.9034"
          ]
        },
        {
          "output_type": "stream",
          "name": "stderr",
          "text": [
            "WARNING:tensorflow:Early stopping conditioned on metric `val_loss` which is not available. Available metrics are: loss,accuracy\n"
          ]
        },
        {
          "output_type": "stream",
          "name": "stdout",
          "text": [
            "\b\b\b\b\b\b\b\b\b\b\b\b\b\b\b\b\b\b\b\b\b\b\b\b\b\b\b\b\b\b\b\b\b\b\b\b\b\b\b\b\b\b\b\b\b\b\b\b\b\b\b\b\b\b\b\b\b\b\b\b\b\b\b\b\b\b\b\b\b\b\b\b\b\b\b\b\b\b\b\b\b\b\r49/49 [==============================] - 0s 2ms/step - loss: 0.2676 - accuracy: 0.9129\n",
            "Epoch 93/200\n",
            "26/49 [==============>...............] - ETA: 0s - loss: 0.1917 - accuracy: 0.9538"
          ]
        },
        {
          "output_type": "stream",
          "name": "stderr",
          "text": [
            "WARNING:tensorflow:Early stopping conditioned on metric `val_loss` which is not available. Available metrics are: loss,accuracy\n"
          ]
        },
        {
          "output_type": "stream",
          "name": "stdout",
          "text": [
            "\b\b\b\b\b\b\b\b\b\b\b\b\b\b\b\b\b\b\b\b\b\b\b\b\b\b\b\b\b\b\b\b\b\b\b\b\b\b\b\b\b\b\b\b\b\b\b\b\b\b\b\b\b\b\b\b\b\b\b\b\b\b\b\b\b\b\b\b\b\b\b\b\b\b\b\b\b\b\b\b\b\b\r49/49 [==============================] - 0s 2ms/step - loss: 0.2037 - accuracy: 0.9378\n",
            "Epoch 94/200\n",
            "30/49 [=================>............] - ETA: 0s - loss: 0.2415 - accuracy: 0.9267"
          ]
        },
        {
          "output_type": "stream",
          "name": "stderr",
          "text": [
            "WARNING:tensorflow:Early stopping conditioned on metric `val_loss` which is not available. Available metrics are: loss,accuracy\n"
          ]
        },
        {
          "output_type": "stream",
          "name": "stdout",
          "text": [
            "\b\b\b\b\b\b\b\b\b\b\b\b\b\b\b\b\b\b\b\b\b\b\b\b\b\b\b\b\b\b\b\b\b\b\b\b\b\b\b\b\b\b\b\b\b\b\b\b\b\b\b\b\b\b\b\b\b\b\b\b\b\b\b\b\b\b\b\b\b\b\b\b\b\b\b\b\b\b\b\b\b\b\r49/49 [==============================] - 0s 2ms/step - loss: 0.2906 - accuracy: 0.9129\n",
            "Epoch 95/200\n",
            "30/49 [=================>............] - ETA: 0s - loss: 0.1935 - accuracy: 0.9200"
          ]
        },
        {
          "output_type": "stream",
          "name": "stderr",
          "text": [
            "WARNING:tensorflow:Early stopping conditioned on metric `val_loss` which is not available. Available metrics are: loss,accuracy\n"
          ]
        },
        {
          "output_type": "stream",
          "name": "stdout",
          "text": [
            "\b\b\b\b\b\b\b\b\b\b\b\b\b\b\b\b\b\b\b\b\b\b\b\b\b\b\b\b\b\b\b\b\b\b\b\b\b\b\b\b\b\b\b\b\b\b\b\b\b\b\b\b\b\b\b\b\b\b\b\b\b\b\b\b\b\b\b\b\b\b\b\b\b\b\b\b\b\b\b\b\b\b\r49/49 [==============================] - 0s 2ms/step - loss: 0.2266 - accuracy: 0.9212\n",
            "Epoch 96/200\n",
            "31/49 [=================>............] - ETA: 0s - loss: 0.2881 - accuracy: 0.9032"
          ]
        },
        {
          "output_type": "stream",
          "name": "stderr",
          "text": [
            "WARNING:tensorflow:Early stopping conditioned on metric `val_loss` which is not available. Available metrics are: loss,accuracy\n"
          ]
        },
        {
          "output_type": "stream",
          "name": "stdout",
          "text": [
            "\b\b\b\b\b\b\b\b\b\b\b\b\b\b\b\b\b\b\b\b\b\b\b\b\b\b\b\b\b\b\b\b\b\b\b\b\b\b\b\b\b\b\b\b\b\b\b\b\b\b\b\b\b\b\b\b\b\b\b\b\b\b\b\b\b\b\b\b\b\b\b\b\b\b\b\b\b\b\b\b\b\b\r49/49 [==============================] - 0s 2ms/step - loss: 0.2968 - accuracy: 0.9004\n",
            "Epoch 97/200\n",
            "30/49 [=================>............] - ETA: 0s - loss: 0.2604 - accuracy: 0.9000"
          ]
        },
        {
          "output_type": "stream",
          "name": "stderr",
          "text": [
            "WARNING:tensorflow:Early stopping conditioned on metric `val_loss` which is not available. Available metrics are: loss,accuracy\n"
          ]
        },
        {
          "output_type": "stream",
          "name": "stdout",
          "text": [
            "\b\b\b\b\b\b\b\b\b\b\b\b\b\b\b\b\b\b\b\b\b\b\b\b\b\b\b\b\b\b\b\b\b\b\b\b\b\b\b\b\b\b\b\b\b\b\b\b\b\b\b\b\b\b\b\b\b\b\b\b\b\b\b\b\b\b\b\b\b\b\b\b\b\b\b\b\b\b\b\b\b\b\r49/49 [==============================] - 0s 2ms/step - loss: 0.2642 - accuracy: 0.9046\n",
            "Epoch 98/200\n",
            "27/49 [===============>..............] - ETA: 0s - loss: 0.3777 - accuracy: 0.9111"
          ]
        },
        {
          "output_type": "stream",
          "name": "stderr",
          "text": [
            "WARNING:tensorflow:Early stopping conditioned on metric `val_loss` which is not available. Available metrics are: loss,accuracy\n"
          ]
        },
        {
          "output_type": "stream",
          "name": "stdout",
          "text": [
            "\b\b\b\b\b\b\b\b\b\b\b\b\b\b\b\b\b\b\b\b\b\b\b\b\b\b\b\b\b\b\b\b\b\b\b\b\b\b\b\b\b\b\b\b\b\b\b\b\b\b\b\b\b\b\b\b\b\b\b\b\b\b\b\b\b\b\b\b\b\b\b\b\b\b\b\b\b\b\b\b\b\b\r49/49 [==============================] - 0s 2ms/step - loss: 0.3027 - accuracy: 0.9378\n",
            "Epoch 99/200\n",
            "30/49 [=================>............] - ETA: 0s - loss: 0.3127 - accuracy: 0.8800"
          ]
        },
        {
          "output_type": "stream",
          "name": "stderr",
          "text": [
            "WARNING:tensorflow:Early stopping conditioned on metric `val_loss` which is not available. Available metrics are: loss,accuracy\n"
          ]
        },
        {
          "output_type": "stream",
          "name": "stdout",
          "text": [
            "\b\b\b\b\b\b\b\b\b\b\b\b\b\b\b\b\b\b\b\b\b\b\b\b\b\b\b\b\b\b\b\b\b\b\b\b\b\b\b\b\b\b\b\b\b\b\b\b\b\b\b\b\b\b\b\b\b\b\b\b\b\b\b\b\b\b\b\b\b\b\b\b\b\b\b\b\b\b\b\b\b\b\r49/49 [==============================] - 0s 2ms/step - loss: 0.2601 - accuracy: 0.9004\n",
            "Epoch 100/200\n",
            "31/49 [=================>............] - ETA: 0s - loss: 0.3229 - accuracy: 0.8968"
          ]
        },
        {
          "output_type": "stream",
          "name": "stderr",
          "text": [
            "WARNING:tensorflow:Early stopping conditioned on metric `val_loss` which is not available. Available metrics are: loss,accuracy\n"
          ]
        },
        {
          "output_type": "stream",
          "name": "stdout",
          "text": [
            "\b\b\b\b\b\b\b\b\b\b\b\b\b\b\b\b\b\b\b\b\b\b\b\b\b\b\b\b\b\b\b\b\b\b\b\b\b\b\b\b\b\b\b\b\b\b\b\b\b\b\b\b\b\b\b\b\b\b\b\b\b\b\b\b\b\b\b\b\b\b\b\b\b\b\b\b\b\b\b\b\b\b\r49/49 [==============================] - 0s 2ms/step - loss: 0.2656 - accuracy: 0.9129\n",
            "Epoch 101/200\n",
            "29/49 [================>.............] - ETA: 0s - loss: 0.3424 - accuracy: 0.8828"
          ]
        },
        {
          "output_type": "stream",
          "name": "stderr",
          "text": [
            "WARNING:tensorflow:Early stopping conditioned on metric `val_loss` which is not available. Available metrics are: loss,accuracy\n"
          ]
        },
        {
          "output_type": "stream",
          "name": "stdout",
          "text": [
            "\b\b\b\b\b\b\b\b\b\b\b\b\b\b\b\b\b\b\b\b\b\b\b\b\b\b\b\b\b\b\b\b\b\b\b\b\b\b\b\b\b\b\b\b\b\b\b\b\b\b\b\b\b\b\b\b\b\b\b\b\b\b\b\b\b\b\b\b\b\b\b\b\b\b\b\b\b\b\b\b\b\b\r49/49 [==============================] - 0s 2ms/step - loss: 0.3021 - accuracy: 0.8921\n",
            "Epoch 102/200\n",
            "30/49 [=================>............] - ETA: 0s - loss: 0.3411 - accuracy: 0.9200"
          ]
        },
        {
          "output_type": "stream",
          "name": "stderr",
          "text": [
            "WARNING:tensorflow:Early stopping conditioned on metric `val_loss` which is not available. Available metrics are: loss,accuracy\n"
          ]
        },
        {
          "output_type": "stream",
          "name": "stdout",
          "text": [
            "\b\b\b\b\b\b\b\b\b\b\b\b\b\b\b\b\b\b\b\b\b\b\b\b\b\b\b\b\b\b\b\b\b\b\b\b\b\b\b\b\b\b\b\b\b\b\b\b\b\b\b\b\b\b\b\b\b\b\b\b\b\b\b\b\b\b\b\b\b\b\b\b\b\b\b\b\b\b\b\b\b\b\r49/49 [==============================] - 0s 2ms/step - loss: 0.3076 - accuracy: 0.9212\n",
            "Epoch 103/200\n",
            "29/49 [================>.............] - ETA: 0s - loss: 0.2886 - accuracy: 0.9034"
          ]
        },
        {
          "output_type": "stream",
          "name": "stderr",
          "text": [
            "WARNING:tensorflow:Early stopping conditioned on metric `val_loss` which is not available. Available metrics are: loss,accuracy\n"
          ]
        },
        {
          "output_type": "stream",
          "name": "stdout",
          "text": [
            "\b\b\b\b\b\b\b\b\b\b\b\b\b\b\b\b\b\b\b\b\b\b\b\b\b\b\b\b\b\b\b\b\b\b\b\b\b\b\b\b\b\b\b\b\b\b\b\b\b\b\b\b\b\b\b\b\b\b\b\b\b\b\b\b\b\b\b\b\b\b\b\b\b\b\b\b\b\b\b\b\b\b\r49/49 [==============================] - 0s 2ms/step - loss: 0.3222 - accuracy: 0.8921\n",
            "Epoch 104/200\n",
            "29/49 [================>.............] - ETA: 0s - loss: 0.2332 - accuracy: 0.9103"
          ]
        },
        {
          "output_type": "stream",
          "name": "stderr",
          "text": [
            "WARNING:tensorflow:Early stopping conditioned on metric `val_loss` which is not available. Available metrics are: loss,accuracy\n"
          ]
        },
        {
          "output_type": "stream",
          "name": "stdout",
          "text": [
            "\b\b\b\b\b\b\b\b\b\b\b\b\b\b\b\b\b\b\b\b\b\b\b\b\b\b\b\b\b\b\b\b\b\b\b\b\b\b\b\b\b\b\b\b\b\b\b\b\b\b\b\b\b\b\b\b\b\b\b\b\b\b\b\b\b\b\b\b\b\b\b\b\b\b\b\b\b\b\b\b\b\b\r49/49 [==============================] - 0s 2ms/step - loss: 0.2569 - accuracy: 0.9212\n",
            "Epoch 105/200\n",
            "29/49 [================>.............] - ETA: 0s - loss: 0.2603 - accuracy: 0.9310"
          ]
        },
        {
          "output_type": "stream",
          "name": "stderr",
          "text": [
            "WARNING:tensorflow:Early stopping conditioned on metric `val_loss` which is not available. Available metrics are: loss,accuracy\n"
          ]
        },
        {
          "output_type": "stream",
          "name": "stdout",
          "text": [
            "\b\b\b\b\b\b\b\b\b\b\b\b\b\b\b\b\b\b\b\b\b\b\b\b\b\b\b\b\b\b\b\b\b\b\b\b\b\b\b\b\b\b\b\b\b\b\b\b\b\b\b\b\b\b\b\b\b\b\b\b\b\b\b\b\b\b\b\b\b\b\b\b\b\b\b\b\b\b\b\b\b\b\r49/49 [==============================] - 0s 2ms/step - loss: 0.2077 - accuracy: 0.9461\n",
            "Epoch 106/200\n",
            "27/49 [===============>..............] - ETA: 0s - loss: 0.2118 - accuracy: 0.9259"
          ]
        },
        {
          "output_type": "stream",
          "name": "stderr",
          "text": [
            "WARNING:tensorflow:Early stopping conditioned on metric `val_loss` which is not available. Available metrics are: loss,accuracy\n"
          ]
        },
        {
          "output_type": "stream",
          "name": "stdout",
          "text": [
            "\b\b\b\b\b\b\b\b\b\b\b\b\b\b\b\b\b\b\b\b\b\b\b\b\b\b\b\b\b\b\b\b\b\b\b\b\b\b\b\b\b\b\b\b\b\b\b\b\b\b\b\b\b\b\b\b\b\b\b\b\b\b\b\b\b\b\b\b\b\b\b\b\b\b\b\b\b\b\b\b\b\b\r49/49 [==============================] - 0s 2ms/step - loss: 0.2511 - accuracy: 0.9129\n",
            "Epoch 107/200\n",
            "27/49 [===============>..............] - ETA: 0s - loss: 0.3339 - accuracy: 0.8741"
          ]
        },
        {
          "output_type": "stream",
          "name": "stderr",
          "text": [
            "WARNING:tensorflow:Early stopping conditioned on metric `val_loss` which is not available. Available metrics are: loss,accuracy\n"
          ]
        },
        {
          "output_type": "stream",
          "name": "stdout",
          "text": [
            "\b\b\b\b\b\b\b\b\b\b\b\b\b\b\b\b\b\b\b\b\b\b\b\b\b\b\b\b\b\b\b\b\b\b\b\b\b\b\b\b\b\b\b\b\b\b\b\b\b\b\b\b\b\b\b\b\b\b\b\b\b\b\b\b\b\b\b\b\b\b\b\b\b\b\b\b\b\b\b\b\b\b\r49/49 [==============================] - 0s 2ms/step - loss: 0.2868 - accuracy: 0.8963\n",
            "Epoch 108/200\n",
            "26/49 [==============>...............] - ETA: 0s - loss: 0.2757 - accuracy: 0.9077"
          ]
        },
        {
          "output_type": "stream",
          "name": "stderr",
          "text": [
            "WARNING:tensorflow:Early stopping conditioned on metric `val_loss` which is not available. Available metrics are: loss,accuracy\n"
          ]
        },
        {
          "output_type": "stream",
          "name": "stdout",
          "text": [
            "\b\b\b\b\b\b\b\b\b\b\b\b\b\b\b\b\b\b\b\b\b\b\b\b\b\b\b\b\b\b\b\b\b\b\b\b\b\b\b\b\b\b\b\b\b\b\b\b\b\b\b\b\b\b\b\b\b\b\b\b\b\b\b\b\b\b\b\b\b\b\b\b\b\b\b\b\b\b\b\b\b\b\r49/49 [==============================] - 0s 2ms/step - loss: 0.2503 - accuracy: 0.9129\n",
            "Epoch 109/200\n",
            "28/49 [================>.............] - ETA: 0s - loss: 0.2172 - accuracy: 0.9214"
          ]
        },
        {
          "output_type": "stream",
          "name": "stderr",
          "text": [
            "WARNING:tensorflow:Early stopping conditioned on metric `val_loss` which is not available. Available metrics are: loss,accuracy\n"
          ]
        },
        {
          "output_type": "stream",
          "name": "stdout",
          "text": [
            "\b\b\b\b\b\b\b\b\b\b\b\b\b\b\b\b\b\b\b\b\b\b\b\b\b\b\b\b\b\b\b\b\b\b\b\b\b\b\b\b\b\b\b\b\b\b\b\b\b\b\b\b\b\b\b\b\b\b\b\b\b\b\b\b\b\b\b\b\b\b\b\b\b\b\b\b\b\b\b\b\b\b\r49/49 [==============================] - 0s 2ms/step - loss: 0.2677 - accuracy: 0.9004\n",
            "Epoch 110/200\n",
            "28/49 [================>.............] - ETA: 0s - loss: 0.2952 - accuracy: 0.9071"
          ]
        },
        {
          "output_type": "stream",
          "name": "stderr",
          "text": [
            "WARNING:tensorflow:Early stopping conditioned on metric `val_loss` which is not available. Available metrics are: loss,accuracy\n"
          ]
        },
        {
          "output_type": "stream",
          "name": "stdout",
          "text": [
            "\b\b\b\b\b\b\b\b\b\b\b\b\b\b\b\b\b\b\b\b\b\b\b\b\b\b\b\b\b\b\b\b\b\b\b\b\b\b\b\b\b\b\b\b\b\b\b\b\b\b\b\b\b\b\b\b\b\b\b\b\b\b\b\b\b\b\b\b\b\b\b\b\b\b\b\b\b\b\b\b\b\b\r49/49 [==============================] - 0s 2ms/step - loss: 0.3168 - accuracy: 0.9004\n",
            "Epoch 111/200\n",
            "24/49 [=============>................] - ETA: 0s - loss: 0.3005 - accuracy: 0.8917"
          ]
        },
        {
          "output_type": "stream",
          "name": "stderr",
          "text": [
            "WARNING:tensorflow:Early stopping conditioned on metric `val_loss` which is not available. Available metrics are: loss,accuracy\n"
          ]
        },
        {
          "output_type": "stream",
          "name": "stdout",
          "text": [
            "\b\b\b\b\b\b\b\b\b\b\b\b\b\b\b\b\b\b\b\b\b\b\b\b\b\b\b\b\b\b\b\b\b\b\b\b\b\b\b\b\b\b\b\b\b\b\b\b\b\b\b\b\b\b\b\b\b\b\b\b\b\b\b\b\b\b\b\b\b\b\b\b\b\b\b\b\b\b\b\b\b\b\r49/49 [==============================] - 0s 2ms/step - loss: 0.2792 - accuracy: 0.9087\n",
            "Epoch 112/200\n",
            "28/49 [================>.............] - ETA: 0s - loss: 0.1746 - accuracy: 0.9357"
          ]
        },
        {
          "output_type": "stream",
          "name": "stderr",
          "text": [
            "WARNING:tensorflow:Early stopping conditioned on metric `val_loss` which is not available. Available metrics are: loss,accuracy\n"
          ]
        },
        {
          "output_type": "stream",
          "name": "stdout",
          "text": [
            "\b\b\b\b\b\b\b\b\b\b\b\b\b\b\b\b\b\b\b\b\b\b\b\b\b\b\b\b\b\b\b\b\b\b\b\b\b\b\b\b\b\b\b\b\b\b\b\b\b\b\b\b\b\b\b\b\b\b\b\b\b\b\b\b\b\b\b\b\b\b\b\b\b\b\b\b\b\b\b\b\b\b\r49/49 [==============================] - 0s 2ms/step - loss: 0.2282 - accuracy: 0.9295\n",
            "Epoch 113/200\n",
            "29/49 [================>.............] - ETA: 0s - loss: 0.2364 - accuracy: 0.9379"
          ]
        },
        {
          "output_type": "stream",
          "name": "stderr",
          "text": [
            "WARNING:tensorflow:Early stopping conditioned on metric `val_loss` which is not available. Available metrics are: loss,accuracy\n"
          ]
        },
        {
          "output_type": "stream",
          "name": "stdout",
          "text": [
            "\b\b\b\b\b\b\b\b\b\b\b\b\b\b\b\b\b\b\b\b\b\b\b\b\b\b\b\b\b\b\b\b\b\b\b\b\b\b\b\b\b\b\b\b\b\b\b\b\b\b\b\b\b\b\b\b\b\b\b\b\b\b\b\b\b\b\b\b\b\b\b\b\b\b\b\b\b\b\b\b\b\b\r49/49 [==============================] - 0s 2ms/step - loss: 0.2512 - accuracy: 0.9378\n",
            "Epoch 114/200\n",
            "29/49 [================>.............] - ETA: 0s - loss: 0.2090 - accuracy: 0.9310"
          ]
        },
        {
          "output_type": "stream",
          "name": "stderr",
          "text": [
            "WARNING:tensorflow:Early stopping conditioned on metric `val_loss` which is not available. Available metrics are: loss,accuracy\n"
          ]
        },
        {
          "output_type": "stream",
          "name": "stdout",
          "text": [
            "\b\b\b\b\b\b\b\b\b\b\b\b\b\b\b\b\b\b\b\b\b\b\b\b\b\b\b\b\b\b\b\b\b\b\b\b\b\b\b\b\b\b\b\b\b\b\b\b\b\b\b\b\b\b\b\b\b\b\b\b\b\b\b\b\b\b\b\b\b\b\b\b\b\b\b\b\b\b\b\b\b\b\r49/49 [==============================] - 0s 2ms/step - loss: 0.2001 - accuracy: 0.9378\n",
            "Epoch 115/200\n",
            "28/49 [================>.............] - ETA: 0s - loss: 0.3798 - accuracy: 0.8643"
          ]
        },
        {
          "output_type": "stream",
          "name": "stderr",
          "text": [
            "WARNING:tensorflow:Early stopping conditioned on metric `val_loss` which is not available. Available metrics are: loss,accuracy\n"
          ]
        },
        {
          "output_type": "stream",
          "name": "stdout",
          "text": [
            "\b\b\b\b\b\b\b\b\b\b\b\b\b\b\b\b\b\b\b\b\b\b\b\b\b\b\b\b\b\b\b\b\b\b\b\b\b\b\b\b\b\b\b\b\b\b\b\b\b\b\b\b\b\b\b\b\b\b\b\b\b\b\b\b\b\b\b\b\b\b\b\b\b\b\b\b\b\b\b\b\b\b\r49/49 [==============================] - 0s 2ms/step - loss: 0.3145 - accuracy: 0.8880\n",
            "Epoch 116/200\n",
            "29/49 [================>.............] - ETA: 0s - loss: 0.1444 - accuracy: 0.9586"
          ]
        },
        {
          "output_type": "stream",
          "name": "stderr",
          "text": [
            "WARNING:tensorflow:Early stopping conditioned on metric `val_loss` which is not available. Available metrics are: loss,accuracy\n"
          ]
        },
        {
          "output_type": "stream",
          "name": "stdout",
          "text": [
            "\b\b\b\b\b\b\b\b\b\b\b\b\b\b\b\b\b\b\b\b\b\b\b\b\b\b\b\b\b\b\b\b\b\b\b\b\b\b\b\b\b\b\b\b\b\b\b\b\b\b\b\b\b\b\b\b\b\b\b\b\b\b\b\b\b\b\b\b\b\b\b\b\b\b\b\b\b\b\b\b\b\b\r49/49 [==============================] - 0s 2ms/step - loss: 0.1343 - accuracy: 0.9627\n",
            "Epoch 117/200\n",
            "27/49 [===============>..............] - ETA: 0s - loss: 0.1649 - accuracy: 0.9333"
          ]
        },
        {
          "output_type": "stream",
          "name": "stderr",
          "text": [
            "WARNING:tensorflow:Early stopping conditioned on metric `val_loss` which is not available. Available metrics are: loss,accuracy\n"
          ]
        },
        {
          "output_type": "stream",
          "name": "stdout",
          "text": [
            "\b\b\b\b\b\b\b\b\b\b\b\b\b\b\b\b\b\b\b\b\b\b\b\b\b\b\b\b\b\b\b\b\b\b\b\b\b\b\b\b\b\b\b\b\b\b\b\b\b\b\b\b\b\b\b\b\b\b\b\b\b\b\b\b\b\b\b\b\b\b\b\b\b\b\b\b\b\b\b\b\b\b\r49/49 [==============================] - 0s 2ms/step - loss: 0.1963 - accuracy: 0.9295\n",
            "Epoch 118/200\n",
            "29/49 [================>.............] - ETA: 0s - loss: 0.4168 - accuracy: 0.8621    "
          ]
        },
        {
          "output_type": "stream",
          "name": "stderr",
          "text": [
            "WARNING:tensorflow:Early stopping conditioned on metric `val_loss` which is not available. Available metrics are: loss,accuracy\n"
          ]
        },
        {
          "output_type": "stream",
          "name": "stdout",
          "text": [
            "\b\b\b\b\b\b\b\b\b\b\b\b\b\b\b\b\b\b\b\b\b\b\b\b\b\b\b\b\b\b\b\b\b\b\b\b\b\b\b\b\b\b\b\b\b\b\b\b\b\b\b\b\b\b\b\b\b\b\b\b\b\b\b\b\b\b\b\b\b\b\b\b\b\b\b\b\b\b\b\b\b\b\r49/49 [==============================] - 0s 2ms/step - loss: 0.3900 - accuracy: 0.8672\n",
            "Epoch 119/200\n",
            "23/49 [=============>................] - ETA: 0s - loss: 0.2270 - accuracy: 0.9130"
          ]
        },
        {
          "output_type": "stream",
          "name": "stderr",
          "text": [
            "WARNING:tensorflow:Early stopping conditioned on metric `val_loss` which is not available. Available metrics are: loss,accuracy\n"
          ]
        },
        {
          "output_type": "stream",
          "name": "stdout",
          "text": [
            "\b\b\b\b\b\b\b\b\b\b\b\b\b\b\b\b\b\b\b\b\b\b\b\b\b\b\b\b\b\b\b\b\b\b\b\b\b\b\b\b\b\b\b\b\b\b\b\b\b\b\b\b\b\b\b\b\b\b\b\b\b\b\b\b\b\b\b\b\b\b\b\b\b\b\b\b\b\b\b\b\b\b\r49/49 [==============================] - 0s 2ms/step - loss: 0.2198 - accuracy: 0.9170\n",
            "Epoch 120/200\n",
            "28/49 [================>.............] - ETA: 0s - loss: 0.2830 - accuracy: 0.9071"
          ]
        },
        {
          "output_type": "stream",
          "name": "stderr",
          "text": [
            "WARNING:tensorflow:Early stopping conditioned on metric `val_loss` which is not available. Available metrics are: loss,accuracy\n"
          ]
        },
        {
          "output_type": "stream",
          "name": "stdout",
          "text": [
            "\b\b\b\b\b\b\b\b\b\b\b\b\b\b\b\b\b\b\b\b\b\b\b\b\b\b\b\b\b\b\b\b\b\b\b\b\b\b\b\b\b\b\b\b\b\b\b\b\b\b\b\b\b\b\b\b\b\b\b\b\b\b\b\b\b\b\b\b\b\b\b\b\b\b\b\b\b\b\b\b\b\b\r49/49 [==============================] - 0s 2ms/step - loss: 0.2598 - accuracy: 0.9004\n",
            "Epoch 121/200\n",
            "28/49 [================>.............] - ETA: 0s - loss: 0.1888 - accuracy: 0.9429"
          ]
        },
        {
          "output_type": "stream",
          "name": "stderr",
          "text": [
            "WARNING:tensorflow:Early stopping conditioned on metric `val_loss` which is not available. Available metrics are: loss,accuracy\n"
          ]
        },
        {
          "output_type": "stream",
          "name": "stdout",
          "text": [
            "\b\b\b\b\b\b\b\b\b\b\b\b\b\b\b\b\b\b\b\b\b\b\b\b\b\b\b\b\b\b\b\b\b\b\b\b\b\b\b\b\b\b\b\b\b\b\b\b\b\b\b\b\b\b\b\b\b\b\b\b\b\b\b\b\b\b\b\b\b\b\b\b\b\b\b\b\b\b\b\b\b\b\r49/49 [==============================] - 0s 2ms/step - loss: 0.1939 - accuracy: 0.9419\n",
            "Epoch 122/200\n",
            "28/49 [================>.............] - ETA: 0s - loss: 0.1878 - accuracy: 0.9286"
          ]
        },
        {
          "output_type": "stream",
          "name": "stderr",
          "text": [
            "WARNING:tensorflow:Early stopping conditioned on metric `val_loss` which is not available. Available metrics are: loss,accuracy\n"
          ]
        },
        {
          "output_type": "stream",
          "name": "stdout",
          "text": [
            "\b\b\b\b\b\b\b\b\b\b\b\b\b\b\b\b\b\b\b\b\b\b\b\b\b\b\b\b\b\b\b\b\b\b\b\b\b\b\b\b\b\b\b\b\b\b\b\b\b\b\b\b\b\b\b\b\b\b\b\b\b\b\b\b\b\b\b\b\b\b\b\b\b\b\b\b\b\b\b\b\b\b\r49/49 [==============================] - 0s 2ms/step - loss: 0.2292 - accuracy: 0.9212\n",
            "Epoch 123/200\n",
            "29/49 [================>.............] - ETA: 0s - loss: 0.1948 - accuracy: 0.9379"
          ]
        },
        {
          "output_type": "stream",
          "name": "stderr",
          "text": [
            "WARNING:tensorflow:Early stopping conditioned on metric `val_loss` which is not available. Available metrics are: loss,accuracy\n"
          ]
        },
        {
          "output_type": "stream",
          "name": "stdout",
          "text": [
            "\b\b\b\b\b\b\b\b\b\b\b\b\b\b\b\b\b\b\b\b\b\b\b\b\b\b\b\b\b\b\b\b\b\b\b\b\b\b\b\b\b\b\b\b\b\b\b\b\b\b\b\b\b\b\b\b\b\b\b\b\b\b\b\b\b\b\b\b\b\b\b\b\b\b\b\b\b\b\b\b\b\b\r49/49 [==============================] - 0s 2ms/step - loss: 0.1889 - accuracy: 0.9419\n",
            "Epoch 124/200\n",
            "28/49 [================>.............] - ETA: 0s - loss: 0.1993 - accuracy: 0.9357"
          ]
        },
        {
          "output_type": "stream",
          "name": "stderr",
          "text": [
            "WARNING:tensorflow:Early stopping conditioned on metric `val_loss` which is not available. Available metrics are: loss,accuracy\n"
          ]
        },
        {
          "output_type": "stream",
          "name": "stdout",
          "text": [
            "\b\b\b\b\b\b\b\b\b\b\b\b\b\b\b\b\b\b\b\b\b\b\b\b\b\b\b\b\b\b\b\b\b\b\b\b\b\b\b\b\b\b\b\b\b\b\b\b\b\b\b\b\b\b\b\b\b\b\b\b\b\b\b\b\b\b\b\b\b\b\b\b\b\b\b\b\b\b\b\b\b\b\r49/49 [==============================] - 0s 2ms/step - loss: 0.2685 - accuracy: 0.9087\n",
            "Epoch 125/200\n",
            "28/49 [================>.............] - ETA: 0s - loss: 0.1340 - accuracy: 0.9500"
          ]
        },
        {
          "output_type": "stream",
          "name": "stderr",
          "text": [
            "WARNING:tensorflow:Early stopping conditioned on metric `val_loss` which is not available. Available metrics are: loss,accuracy\n"
          ]
        },
        {
          "output_type": "stream",
          "name": "stdout",
          "text": [
            "\b\b\b\b\b\b\b\b\b\b\b\b\b\b\b\b\b\b\b\b\b\b\b\b\b\b\b\b\b\b\b\b\b\b\b\b\b\b\b\b\b\b\b\b\b\b\b\b\b\b\b\b\b\b\b\b\b\b\b\b\b\b\b\b\b\b\b\b\b\b\b\b\b\b\b\b\b\b\b\b\b\b\r49/49 [==============================] - 0s 2ms/step - loss: 0.1484 - accuracy: 0.9502\n",
            "Epoch 126/200\n",
            "47/49 [===========================>..] - ETA: 0s - loss: 0.2195 - accuracy: 0.9277"
          ]
        },
        {
          "output_type": "stream",
          "name": "stderr",
          "text": [
            "WARNING:tensorflow:Early stopping conditioned on metric `val_loss` which is not available. Available metrics are: loss,accuracy\n"
          ]
        },
        {
          "output_type": "stream",
          "name": "stdout",
          "text": [
            "\b\b\b\b\b\b\b\b\b\b\b\b\b\b\b\b\b\b\b\b\b\b\b\b\b\b\b\b\b\b\b\b\b\b\b\b\b\b\b\b\b\b\b\b\b\b\b\b\b\b\b\b\b\b\b\b\b\b\b\b\b\b\b\b\b\b\b\b\b\b\b\b\b\b\b\b\b\b\b\b\b\b\r49/49 [==============================] - 0s 2ms/step - loss: 0.2163 - accuracy: 0.9295\n",
            "Epoch 127/200\n",
            "25/49 [==============>...............] - ETA: 0s - loss: 0.2980 - accuracy: 0.9200"
          ]
        },
        {
          "output_type": "stream",
          "name": "stderr",
          "text": [
            "WARNING:tensorflow:Early stopping conditioned on metric `val_loss` which is not available. Available metrics are: loss,accuracy\n"
          ]
        },
        {
          "output_type": "stream",
          "name": "stdout",
          "text": [
            "\b\b\b\b\b\b\b\b\b\b\b\b\b\b\b\b\b\b\b\b\b\b\b\b\b\b\b\b\b\b\b\b\b\b\b\b\b\b\b\b\b\b\b\b\b\b\b\b\b\b\b\b\b\b\b\b\b\b\b\b\b\b\b\b\b\b\b\b\b\b\b\b\b\b\b\b\b\b\b\b\b\b\r49/49 [==============================] - 0s 2ms/step - loss: 0.2849 - accuracy: 0.9212\n",
            "Epoch 128/200\n",
            "29/49 [================>.............] - ETA: 0s - loss: 0.2677 - accuracy: 0.9103"
          ]
        },
        {
          "output_type": "stream",
          "name": "stderr",
          "text": [
            "WARNING:tensorflow:Early stopping conditioned on metric `val_loss` which is not available. Available metrics are: loss,accuracy\n"
          ]
        },
        {
          "output_type": "stream",
          "name": "stdout",
          "text": [
            "\b\b\b\b\b\b\b\b\b\b\b\b\b\b\b\b\b\b\b\b\b\b\b\b\b\b\b\b\b\b\b\b\b\b\b\b\b\b\b\b\b\b\b\b\b\b\b\b\b\b\b\b\b\b\b\b\b\b\b\b\b\b\b\b\b\b\b\b\b\b\b\b\b\b\b\b\b\b\b\b\b\b\r49/49 [==============================] - 0s 2ms/step - loss: 0.2901 - accuracy: 0.9046\n",
            "Epoch 129/200\n",
            "28/49 [================>.............] - ETA: 0s - loss: 0.1231 - accuracy: 0.9500"
          ]
        },
        {
          "output_type": "stream",
          "name": "stderr",
          "text": [
            "WARNING:tensorflow:Early stopping conditioned on metric `val_loss` which is not available. Available metrics are: loss,accuracy\n"
          ]
        },
        {
          "output_type": "stream",
          "name": "stdout",
          "text": [
            "\b\b\b\b\b\b\b\b\b\b\b\b\b\b\b\b\b\b\b\b\b\b\b\b\b\b\b\b\b\b\b\b\b\b\b\b\b\b\b\b\b\b\b\b\b\b\b\b\b\b\b\b\b\b\b\b\b\b\b\b\b\b\b\b\b\b\b\b\b\b\b\b\b\b\b\b\b\b\b\b\b\b\r49/49 [==============================] - 0s 2ms/step - loss: 0.1399 - accuracy: 0.9502\n",
            "Epoch 130/200\n",
            "28/49 [================>.............] - ETA: 0s - loss: 0.2516 - accuracy: 0.9286"
          ]
        },
        {
          "output_type": "stream",
          "name": "stderr",
          "text": [
            "WARNING:tensorflow:Early stopping conditioned on metric `val_loss` which is not available. Available metrics are: loss,accuracy\n"
          ]
        },
        {
          "output_type": "stream",
          "name": "stdout",
          "text": [
            "\b\b\b\b\b\b\b\b\b\b\b\b\b\b\b\b\b\b\b\b\b\b\b\b\b\b\b\b\b\b\b\b\b\b\b\b\b\b\b\b\b\b\b\b\b\b\b\b\b\b\b\b\b\b\b\b\b\b\b\b\b\b\b\b\b\b\b\b\b\b\b\b\b\b\b\b\b\b\b\b\b\b\r49/49 [==============================] - 0s 2ms/step - loss: 0.2782 - accuracy: 0.9129\n",
            "Epoch 131/200\n",
            "28/49 [================>.............] - ETA: 0s - loss: 0.3258 - accuracy: 0.9000"
          ]
        },
        {
          "output_type": "stream",
          "name": "stderr",
          "text": [
            "WARNING:tensorflow:Early stopping conditioned on metric `val_loss` which is not available. Available metrics are: loss,accuracy\n"
          ]
        },
        {
          "output_type": "stream",
          "name": "stdout",
          "text": [
            "\b\b\b\b\b\b\b\b\b\b\b\b\b\b\b\b\b\b\b\b\b\b\b\b\b\b\b\b\b\b\b\b\b\b\b\b\b\b\b\b\b\b\b\b\b\b\b\b\b\b\b\b\b\b\b\b\b\b\b\b\b\b\b\b\b\b\b\b\b\b\b\b\b\b\b\b\b\b\b\b\b\b\r49/49 [==============================] - 0s 2ms/step - loss: 0.2865 - accuracy: 0.9087\n",
            "Epoch 132/200\n",
            "28/49 [================>.............] - ETA: 0s - loss: 0.2309 - accuracy: 0.9143    "
          ]
        },
        {
          "output_type": "stream",
          "name": "stderr",
          "text": [
            "WARNING:tensorflow:Early stopping conditioned on metric `val_loss` which is not available. Available metrics are: loss,accuracy\n"
          ]
        },
        {
          "output_type": "stream",
          "name": "stdout",
          "text": [
            "\b\b\b\b\b\b\b\b\b\b\b\b\b\b\b\b\b\b\b\b\b\b\b\b\b\b\b\b\b\b\b\b\b\b\b\b\b\b\b\b\b\b\b\b\b\b\b\b\b\b\b\b\b\b\b\b\b\b\b\b\b\b\b\b\b\b\b\b\b\b\b\b\b\b\b\b\b\b\b\b\b\b\r49/49 [==============================] - 0s 2ms/step - loss: 0.2509 - accuracy: 0.9129\n",
            "Epoch 133/200\n",
            "29/49 [================>.............] - ETA: 0s - loss: 0.2736 - accuracy: 0.8897"
          ]
        },
        {
          "output_type": "stream",
          "name": "stderr",
          "text": [
            "WARNING:tensorflow:Early stopping conditioned on metric `val_loss` which is not available. Available metrics are: loss,accuracy\n"
          ]
        },
        {
          "output_type": "stream",
          "name": "stdout",
          "text": [
            "\b\b\b\b\b\b\b\b\b\b\b\b\b\b\b\b\b\b\b\b\b\b\b\b\b\b\b\b\b\b\b\b\b\b\b\b\b\b\b\b\b\b\b\b\b\b\b\b\b\b\b\b\b\b\b\b\b\b\b\b\b\b\b\b\b\b\b\b\b\b\b\b\b\b\b\b\b\b\b\b\b\b\r49/49 [==============================] - 0s 2ms/step - loss: 0.2600 - accuracy: 0.8921\n",
            "Epoch 134/200\n",
            "28/49 [================>.............] - ETA: 0s - loss: 0.1684 - accuracy: 0.9286"
          ]
        },
        {
          "output_type": "stream",
          "name": "stderr",
          "text": [
            "WARNING:tensorflow:Early stopping conditioned on metric `val_loss` which is not available. Available metrics are: loss,accuracy\n"
          ]
        },
        {
          "output_type": "stream",
          "name": "stdout",
          "text": [
            "\b\b\b\b\b\b\b\b\b\b\b\b\b\b\b\b\b\b\b\b\b\b\b\b\b\b\b\b\b\b\b\b\b\b\b\b\b\b\b\b\b\b\b\b\b\b\b\b\b\b\b\b\b\b\b\b\b\b\b\b\b\b\b\b\b\b\b\b\b\b\b\b\b\b\b\b\b\b\b\b\b\b\r49/49 [==============================] - 0s 2ms/step - loss: 0.2045 - accuracy: 0.9129\n",
            "Epoch 135/200\n",
            "25/49 [==============>...............] - ETA: 0s - loss: 0.2141 - accuracy: 0.9280    "
          ]
        },
        {
          "output_type": "stream",
          "name": "stderr",
          "text": [
            "WARNING:tensorflow:Early stopping conditioned on metric `val_loss` which is not available. Available metrics are: loss,accuracy\n"
          ]
        },
        {
          "output_type": "stream",
          "name": "stdout",
          "text": [
            "\b\b\b\b\b\b\b\b\b\b\b\b\b\b\b\b\b\b\b\b\b\b\b\b\b\b\b\b\b\b\b\b\b\b\b\b\b\b\b\b\b\b\b\b\b\b\b\b\b\b\b\b\b\b\b\b\b\b\b\b\b\b\b\b\b\b\b\b\b\b\b\b\b\b\b\b\b\b\b\b\b\b\r49/49 [==============================] - 0s 2ms/step - loss: 0.1724 - accuracy: 0.9378\n",
            "Epoch 136/200\n",
            "25/49 [==============>...............] - ETA: 0s - loss: 0.1864 - accuracy: 0.9360"
          ]
        },
        {
          "output_type": "stream",
          "name": "stderr",
          "text": [
            "WARNING:tensorflow:Early stopping conditioned on metric `val_loss` which is not available. Available metrics are: loss,accuracy\n"
          ]
        },
        {
          "output_type": "stream",
          "name": "stdout",
          "text": [
            "\b\b\b\b\b\b\b\b\b\b\b\b\b\b\b\b\b\b\b\b\b\b\b\b\b\b\b\b\b\b\b\b\b\b\b\b\b\b\b\b\b\b\b\b\b\b\b\b\b\b\b\b\b\b\b\b\b\b\b\b\b\b\b\b\b\b\b\b\b\b\b\b\b\b\b\b\b\b\b\b\b\b\r49/49 [==============================] - 0s 2ms/step - loss: 0.1981 - accuracy: 0.9295\n",
            "Epoch 137/200\n",
            "29/49 [================>.............] - ETA: 0s - loss: 0.2041 - accuracy: 0.9379"
          ]
        },
        {
          "output_type": "stream",
          "name": "stderr",
          "text": [
            "WARNING:tensorflow:Early stopping conditioned on metric `val_loss` which is not available. Available metrics are: loss,accuracy\n"
          ]
        },
        {
          "output_type": "stream",
          "name": "stdout",
          "text": [
            "\b\b\b\b\b\b\b\b\b\b\b\b\b\b\b\b\b\b\b\b\b\b\b\b\b\b\b\b\b\b\b\b\b\b\b\b\b\b\b\b\b\b\b\b\b\b\b\b\b\b\b\b\b\b\b\b\b\b\b\b\b\b\b\b\b\b\b\b\b\b\b\b\b\b\b\b\b\b\b\b\b\b\r49/49 [==============================] - 0s 2ms/step - loss: 0.1745 - accuracy: 0.9502\n",
            "Epoch 138/200\n",
            "28/49 [================>.............] - ETA: 0s - loss: 0.2021 - accuracy: 0.9357"
          ]
        },
        {
          "output_type": "stream",
          "name": "stderr",
          "text": [
            "WARNING:tensorflow:Early stopping conditioned on metric `val_loss` which is not available. Available metrics are: loss,accuracy\n"
          ]
        },
        {
          "output_type": "stream",
          "name": "stdout",
          "text": [
            "\b\b\b\b\b\b\b\b\b\b\b\b\b\b\b\b\b\b\b\b\b\b\b\b\b\b\b\b\b\b\b\b\b\b\b\b\b\b\b\b\b\b\b\b\b\b\b\b\b\b\b\b\b\b\b\b\b\b\b\b\b\b\b\b\b\b\b\b\b\b\b\b\b\b\b\b\b\b\b\b\b\b\r49/49 [==============================] - 0s 2ms/step - loss: 0.1861 - accuracy: 0.9419\n",
            "Epoch 139/200\n",
            "26/49 [==============>...............] - ETA: 0s - loss: 0.2342 - accuracy: 0.9000"
          ]
        },
        {
          "output_type": "stream",
          "name": "stderr",
          "text": [
            "WARNING:tensorflow:Early stopping conditioned on metric `val_loss` which is not available. Available metrics are: loss,accuracy\n"
          ]
        },
        {
          "output_type": "stream",
          "name": "stdout",
          "text": [
            "\b\b\b\b\b\b\b\b\b\b\b\b\b\b\b\b\b\b\b\b\b\b\b\b\b\b\b\b\b\b\b\b\b\b\b\b\b\b\b\b\b\b\b\b\b\b\b\b\b\b\b\b\b\b\b\b\b\b\b\b\b\b\b\b\b\b\b\b\b\b\b\b\b\b\b\b\b\b\b\b\b\b\r49/49 [==============================] - 0s 2ms/step - loss: 0.1889 - accuracy: 0.9212\n",
            "Epoch 140/200\n",
            "27/49 [===============>..............] - ETA: 0s - loss: 0.1845 - accuracy: 0.9481"
          ]
        },
        {
          "output_type": "stream",
          "name": "stderr",
          "text": [
            "WARNING:tensorflow:Early stopping conditioned on metric `val_loss` which is not available. Available metrics are: loss,accuracy\n"
          ]
        },
        {
          "output_type": "stream",
          "name": "stdout",
          "text": [
            "\b\b\b\b\b\b\b\b\b\b\b\b\b\b\b\b\b\b\b\b\b\b\b\b\b\b\b\b\b\b\b\b\b\b\b\b\b\b\b\b\b\b\b\b\b\b\b\b\b\b\b\b\b\b\b\b\b\b\b\b\b\b\b\b\b\b\b\b\b\b\b\b\b\b\b\b\b\b\b\b\b\b\r49/49 [==============================] - 0s 2ms/step - loss: 0.1778 - accuracy: 0.9378\n",
            "Epoch 141/200\n",
            "29/49 [================>.............] - ETA: 0s - loss: 0.2320 - accuracy: 0.9241"
          ]
        },
        {
          "output_type": "stream",
          "name": "stderr",
          "text": [
            "WARNING:tensorflow:Early stopping conditioned on metric `val_loss` which is not available. Available metrics are: loss,accuracy\n"
          ]
        },
        {
          "output_type": "stream",
          "name": "stdout",
          "text": [
            "\b\b\b\b\b\b\b\b\b\b\b\b\b\b\b\b\b\b\b\b\b\b\b\b\b\b\b\b\b\b\b\b\b\b\b\b\b\b\b\b\b\b\b\b\b\b\b\b\b\b\b\b\b\b\b\b\b\b\b\b\b\b\b\b\b\b\b\b\b\b\b\b\b\b\b\b\b\b\b\b\b\b\r49/49 [==============================] - 0s 2ms/step - loss: 0.2317 - accuracy: 0.9087\n",
            "Epoch 142/200\n",
            "27/49 [===============>..............] - ETA: 0s - loss: 0.2119 - accuracy: 0.9259"
          ]
        },
        {
          "output_type": "stream",
          "name": "stderr",
          "text": [
            "WARNING:tensorflow:Early stopping conditioned on metric `val_loss` which is not available. Available metrics are: loss,accuracy\n"
          ]
        },
        {
          "output_type": "stream",
          "name": "stdout",
          "text": [
            "\b\b\b\b\b\b\b\b\b\b\b\b\b\b\b\b\b\b\b\b\b\b\b\b\b\b\b\b\b\b\b\b\b\b\b\b\b\b\b\b\b\b\b\b\b\b\b\b\b\b\b\b\b\b\b\b\b\b\b\b\b\b\b\b\b\b\b\b\b\b\b\b\b\b\b\b\b\b\b\b\b\b\r49/49 [==============================] - 0s 2ms/step - loss: 0.2354 - accuracy: 0.9253\n",
            "Epoch 143/200\n",
            "28/49 [================>.............] - ETA: 0s - loss: 0.3026 - accuracy: 0.9143"
          ]
        },
        {
          "output_type": "stream",
          "name": "stderr",
          "text": [
            "WARNING:tensorflow:Early stopping conditioned on metric `val_loss` which is not available. Available metrics are: loss,accuracy\n"
          ]
        },
        {
          "output_type": "stream",
          "name": "stdout",
          "text": [
            "\b\b\b\b\b\b\b\b\b\b\b\b\b\b\b\b\b\b\b\b\b\b\b\b\b\b\b\b\b\b\b\b\b\b\b\b\b\b\b\b\b\b\b\b\b\b\b\b\b\b\b\b\b\b\b\b\b\b\b\b\b\b\b\b\b\b\b\b\b\b\b\b\b\b\b\b\b\b\b\b\b\b\r49/49 [==============================] - 0s 2ms/step - loss: 0.2242 - accuracy: 0.9336\n",
            "Epoch 144/200\n",
            "27/49 [===============>..............] - ETA: 0s - loss: 0.1301 - accuracy: 0.9407"
          ]
        },
        {
          "output_type": "stream",
          "name": "stderr",
          "text": [
            "WARNING:tensorflow:Early stopping conditioned on metric `val_loss` which is not available. Available metrics are: loss,accuracy\n"
          ]
        },
        {
          "output_type": "stream",
          "name": "stdout",
          "text": [
            "\b\b\b\b\b\b\b\b\b\b\b\b\b\b\b\b\b\b\b\b\b\b\b\b\b\b\b\b\b\b\b\b\b\b\b\b\b\b\b\b\b\b\b\b\b\b\b\b\b\b\b\b\b\b\b\b\b\b\b\b\b\b\b\b\b\b\b\b\b\b\b\b\b\b\b\b\b\b\b\b\b\b\r49/49 [==============================] - 0s 2ms/step - loss: 0.1198 - accuracy: 0.9502\n",
            "Epoch 145/200\n",
            "29/49 [================>.............] - ETA: 0s - loss: 0.2331 - accuracy: 0.9241"
          ]
        },
        {
          "output_type": "stream",
          "name": "stderr",
          "text": [
            "WARNING:tensorflow:Early stopping conditioned on metric `val_loss` which is not available. Available metrics are: loss,accuracy\n"
          ]
        },
        {
          "output_type": "stream",
          "name": "stdout",
          "text": [
            "\b\b\b\b\b\b\b\b\b\b\b\b\b\b\b\b\b\b\b\b\b\b\b\b\b\b\b\b\b\b\b\b\b\b\b\b\b\b\b\b\b\b\b\b\b\b\b\b\b\b\b\b\b\b\b\b\b\b\b\b\b\b\b\b\b\b\b\b\b\b\b\b\b\b\b\b\b\b\b\b\b\b\r49/49 [==============================] - 0s 2ms/step - loss: 0.2596 - accuracy: 0.9170\n",
            "Epoch 146/200\n",
            "28/49 [================>.............] - ETA: 0s - loss: 0.1933 - accuracy: 0.9000    "
          ]
        },
        {
          "output_type": "stream",
          "name": "stderr",
          "text": [
            "WARNING:tensorflow:Early stopping conditioned on metric `val_loss` which is not available. Available metrics are: loss,accuracy\n"
          ]
        },
        {
          "output_type": "stream",
          "name": "stdout",
          "text": [
            "\b\b\b\b\b\b\b\b\b\b\b\b\b\b\b\b\b\b\b\b\b\b\b\b\b\b\b\b\b\b\b\b\b\b\b\b\b\b\b\b\b\b\b\b\b\b\b\b\b\b\b\b\b\b\b\b\b\b\b\b\b\b\b\b\b\b\b\b\b\b\b\b\b\b\b\b\b\b\b\b\b\b\r49/49 [==============================] - 0s 2ms/step - loss: 0.1738 - accuracy: 0.9129\n",
            "Epoch 147/200\n",
            "27/49 [===============>..............] - ETA: 0s - loss: 0.2033 - accuracy: 0.9481"
          ]
        },
        {
          "output_type": "stream",
          "name": "stderr",
          "text": [
            "WARNING:tensorflow:Early stopping conditioned on metric `val_loss` which is not available. Available metrics are: loss,accuracy\n"
          ]
        },
        {
          "output_type": "stream",
          "name": "stdout",
          "text": [
            "\b\b\b\b\b\b\b\b\b\b\b\b\b\b\b\b\b\b\b\b\b\b\b\b\b\b\b\b\b\b\b\b\b\b\b\b\b\b\b\b\b\b\b\b\b\b\b\b\b\b\b\b\b\b\b\b\b\b\b\b\b\b\b\b\b\b\b\b\b\b\b\b\b\b\b\b\b\b\b\b\b\b\r49/49 [==============================] - 0s 2ms/step - loss: 0.2026 - accuracy: 0.9585\n",
            "Epoch 148/200\n",
            "27/49 [===============>..............] - ETA: 0s - loss: 0.2789 - accuracy: 0.9259"
          ]
        },
        {
          "output_type": "stream",
          "name": "stderr",
          "text": [
            "WARNING:tensorflow:Early stopping conditioned on metric `val_loss` which is not available. Available metrics are: loss,accuracy\n"
          ]
        },
        {
          "output_type": "stream",
          "name": "stdout",
          "text": [
            "\b\b\b\b\b\b\b\b\b\b\b\b\b\b\b\b\b\b\b\b\b\b\b\b\b\b\b\b\b\b\b\b\b\b\b\b\b\b\b\b\b\b\b\b\b\b\b\b\b\b\b\b\b\b\b\b\b\b\b\b\b\b\b\b\b\b\b\b\b\b\b\b\b\b\b\b\b\b\b\b\b\b\r49/49 [==============================] - 0s 2ms/step - loss: 0.2717 - accuracy: 0.9212\n",
            "Epoch 149/200\n",
            "29/49 [================>.............] - ETA: 0s - loss: 0.1616 - accuracy: 0.9586"
          ]
        },
        {
          "output_type": "stream",
          "name": "stderr",
          "text": [
            "WARNING:tensorflow:Early stopping conditioned on metric `val_loss` which is not available. Available metrics are: loss,accuracy\n"
          ]
        },
        {
          "output_type": "stream",
          "name": "stdout",
          "text": [
            "\b\b\b\b\b\b\b\b\b\b\b\b\b\b\b\b\b\b\b\b\b\b\b\b\b\b\b\b\b\b\b\b\b\b\b\b\b\b\b\b\b\b\b\b\b\b\b\b\b\b\b\b\b\b\b\b\b\b\b\b\b\b\b\b\b\b\b\b\b\b\b\b\b\b\b\b\b\b\b\b\b\b\r49/49 [==============================] - 0s 2ms/step - loss: 0.2781 - accuracy: 0.9212\n",
            "Epoch 150/200\n",
            "29/49 [================>.............] - ETA: 0s - loss: 0.1642 - accuracy: 0.9379"
          ]
        },
        {
          "output_type": "stream",
          "name": "stderr",
          "text": [
            "WARNING:tensorflow:Early stopping conditioned on metric `val_loss` which is not available. Available metrics are: loss,accuracy\n"
          ]
        },
        {
          "output_type": "stream",
          "name": "stdout",
          "text": [
            "\b\b\b\b\b\b\b\b\b\b\b\b\b\b\b\b\b\b\b\b\b\b\b\b\b\b\b\b\b\b\b\b\b\b\b\b\b\b\b\b\b\b\b\b\b\b\b\b\b\b\b\b\b\b\b\b\b\b\b\b\b\b\b\b\b\b\b\b\b\b\b\b\b\b\b\b\b\b\b\b\b\b\r49/49 [==============================] - 0s 2ms/step - loss: 0.1568 - accuracy: 0.9378\n",
            "Epoch 151/200\n",
            "29/49 [================>.............] - ETA: 0s - loss: 0.2000 - accuracy: 0.9241"
          ]
        },
        {
          "output_type": "stream",
          "name": "stderr",
          "text": [
            "WARNING:tensorflow:Early stopping conditioned on metric `val_loss` which is not available. Available metrics are: loss,accuracy\n"
          ]
        },
        {
          "output_type": "stream",
          "name": "stdout",
          "text": [
            "\b\b\b\b\b\b\b\b\b\b\b\b\b\b\b\b\b\b\b\b\b\b\b\b\b\b\b\b\b\b\b\b\b\b\b\b\b\b\b\b\b\b\b\b\b\b\b\b\b\b\b\b\b\b\b\b\b\b\b\b\b\b\b\b\b\b\b\b\b\b\b\b\b\b\b\b\b\b\b\b\b\b\r49/49 [==============================] - 0s 2ms/step - loss: 0.2455 - accuracy: 0.9087\n",
            "Epoch 152/200\n",
            "28/49 [================>.............] - ETA: 0s - loss: 0.3613 - accuracy: 0.8786"
          ]
        },
        {
          "output_type": "stream",
          "name": "stderr",
          "text": [
            "WARNING:tensorflow:Early stopping conditioned on metric `val_loss` which is not available. Available metrics are: loss,accuracy\n"
          ]
        },
        {
          "output_type": "stream",
          "name": "stdout",
          "text": [
            "\b\b\b\b\b\b\b\b\b\b\b\b\b\b\b\b\b\b\b\b\b\b\b\b\b\b\b\b\b\b\b\b\b\b\b\b\b\b\b\b\b\b\b\b\b\b\b\b\b\b\b\b\b\b\b\b\b\b\b\b\b\b\b\b\b\b\b\b\b\b\b\b\b\b\b\b\b\b\b\b\b\b\r49/49 [==============================] - 0s 2ms/step - loss: 0.2926 - accuracy: 0.9004\n",
            "Epoch 153/200\n",
            "28/49 [================>.............] - ETA: 0s - loss: 0.2089 - accuracy: 0.9500"
          ]
        },
        {
          "output_type": "stream",
          "name": "stderr",
          "text": [
            "WARNING:tensorflow:Early stopping conditioned on metric `val_loss` which is not available. Available metrics are: loss,accuracy\n"
          ]
        },
        {
          "output_type": "stream",
          "name": "stdout",
          "text": [
            "\b\b\b\b\b\b\b\b\b\b\b\b\b\b\b\b\b\b\b\b\b\b\b\b\b\b\b\b\b\b\b\b\b\b\b\b\b\b\b\b\b\b\b\b\b\b\b\b\b\b\b\b\b\b\b\b\b\b\b\b\b\b\b\b\b\b\b\b\b\b\b\b\b\b\b\b\b\b\b\b\b\b\r49/49 [==============================] - 0s 2ms/step - loss: 0.1895 - accuracy: 0.9336\n",
            "Epoch 154/200\n",
            "26/49 [==============>...............] - ETA: 0s - loss: 0.2848 - accuracy: 0.9154"
          ]
        },
        {
          "output_type": "stream",
          "name": "stderr",
          "text": [
            "WARNING:tensorflow:Early stopping conditioned on metric `val_loss` which is not available. Available metrics are: loss,accuracy\n"
          ]
        },
        {
          "output_type": "stream",
          "name": "stdout",
          "text": [
            "\b\b\b\b\b\b\b\b\b\b\b\b\b\b\b\b\b\b\b\b\b\b\b\b\b\b\b\b\b\b\b\b\b\b\b\b\b\b\b\b\b\b\b\b\b\b\b\b\b\b\b\b\b\b\b\b\b\b\b\b\b\b\b\b\b\b\b\b\b\b\b\b\b\b\b\b\b\b\b\b\b\b\r49/49 [==============================] - 0s 2ms/step - loss: 0.2321 - accuracy: 0.9336\n",
            "Epoch 155/200\n",
            "23/49 [=============>................] - ETA: 0s - loss: 0.3897 - accuracy: 0.8696"
          ]
        },
        {
          "output_type": "stream",
          "name": "stderr",
          "text": [
            "WARNING:tensorflow:Early stopping conditioned on metric `val_loss` which is not available. Available metrics are: loss,accuracy\n"
          ]
        },
        {
          "output_type": "stream",
          "name": "stdout",
          "text": [
            "\b\b\b\b\b\b\b\b\b\b\b\b\b\b\b\b\b\b\b\b\b\b\b\b\b\b\b\b\b\b\b\b\b\b\b\b\b\b\b\b\b\b\b\b\b\b\b\b\b\b\b\b\b\b\b\b\b\b\b\b\b\b\b\b\b\b\b\b\b\b\b\b\b\b\b\b\b\b\b\b\b\b\r49/49 [==============================] - 0s 2ms/step - loss: 0.2758 - accuracy: 0.9004\n",
            "Epoch 156/200\n",
            "37/49 [=====================>........] - ETA: 0s - loss: 0.1942 - accuracy: 0.9405"
          ]
        },
        {
          "output_type": "stream",
          "name": "stderr",
          "text": [
            "WARNING:tensorflow:Early stopping conditioned on metric `val_loss` which is not available. Available metrics are: loss,accuracy\n"
          ]
        },
        {
          "output_type": "stream",
          "name": "stdout",
          "text": [
            "\b\b\b\b\b\b\b\b\b\b\b\b\b\b\b\b\b\b\b\b\b\b\b\b\b\b\b\b\b\b\b\b\b\b\b\b\b\b\b\b\b\b\b\b\b\b\b\b\b\b\b\b\b\b\b\b\b\b\b\b\b\b\b\b\b\b\b\b\b\b\b\b\b\b\b\b\b\b\b\b\b\b\r49/49 [==============================] - 0s 3ms/step - loss: 0.1768 - accuracy: 0.9461\n",
            "Epoch 157/200\n",
            "38/49 [======================>.......] - ETA: 0s - loss: 0.2010 - accuracy: 0.9263"
          ]
        },
        {
          "output_type": "stream",
          "name": "stderr",
          "text": [
            "WARNING:tensorflow:Early stopping conditioned on metric `val_loss` which is not available. Available metrics are: loss,accuracy\n"
          ]
        },
        {
          "output_type": "stream",
          "name": "stdout",
          "text": [
            "\b\b\b\b\b\b\b\b\b\b\b\b\b\b\b\b\b\b\b\b\b\b\b\b\b\b\b\b\b\b\b\b\b\b\b\b\b\b\b\b\b\b\b\b\b\b\b\b\b\b\b\b\b\b\b\b\b\b\b\b\b\b\b\b\b\b\b\b\b\b\b\b\b\b\b\b\b\b\b\b\b\b\r49/49 [==============================] - 0s 3ms/step - loss: 0.1693 - accuracy: 0.9378\n",
            "Epoch 158/200\n",
            "42/49 [========================>.....] - ETA: 0s - loss: 0.2046 - accuracy: 0.9095"
          ]
        },
        {
          "output_type": "stream",
          "name": "stderr",
          "text": [
            "WARNING:tensorflow:Early stopping conditioned on metric `val_loss` which is not available. Available metrics are: loss,accuracy\n"
          ]
        },
        {
          "output_type": "stream",
          "name": "stdout",
          "text": [
            "\b\b\b\b\b\b\b\b\b\b\b\b\b\b\b\b\b\b\b\b\b\b\b\b\b\b\b\b\b\b\b\b\b\b\b\b\b\b\b\b\b\b\b\b\b\b\b\b\b\b\b\b\b\b\b\b\b\b\b\b\b\b\b\b\b\b\b\b\b\b\b\b\b\b\b\b\b\b\b\b\b\b\r49/49 [==============================] - 0s 3ms/step - loss: 0.2055 - accuracy: 0.9129\n",
            "Epoch 159/200\n",
            "44/49 [=========================>....] - ETA: 0s - loss: 0.3445 - accuracy: 0.9136"
          ]
        },
        {
          "output_type": "stream",
          "name": "stderr",
          "text": [
            "WARNING:tensorflow:Early stopping conditioned on metric `val_loss` which is not available. Available metrics are: loss,accuracy\n"
          ]
        },
        {
          "output_type": "stream",
          "name": "stdout",
          "text": [
            "\b\b\b\b\b\b\b\b\b\b\b\b\b\b\b\b\b\b\b\b\b\b\b\b\b\b\b\b\b\b\b\b\b\b\b\b\b\b\b\b\b\b\b\b\b\b\b\b\b\b\b\b\b\b\b\b\b\b\b\b\b\b\b\b\b\b\b\b\b\b\b\b\b\b\b\b\b\b\b\b\b\b\r49/49 [==============================] - 0s 3ms/step - loss: 0.3202 - accuracy: 0.9170\n",
            "Epoch 160/200\n",
            "40/49 [=======================>......] - ETA: 0s - loss: 0.2913 - accuracy: 0.8950"
          ]
        },
        {
          "output_type": "stream",
          "name": "stderr",
          "text": [
            "WARNING:tensorflow:Early stopping conditioned on metric `val_loss` which is not available. Available metrics are: loss,accuracy\n"
          ]
        },
        {
          "output_type": "stream",
          "name": "stdout",
          "text": [
            "\b\b\b\b\b\b\b\b\b\b\b\b\b\b\b\b\b\b\b\b\b\b\b\b\b\b\b\b\b\b\b\b\b\b\b\b\b\b\b\b\b\b\b\b\b\b\b\b\b\b\b\b\b\b\b\b\b\b\b\b\b\b\b\b\b\b\b\b\b\b\b\b\b\b\b\b\b\b\b\b\b\b\r49/49 [==============================] - 0s 3ms/step - loss: 0.2801 - accuracy: 0.9046\n",
            "Epoch 161/200\n",
            "45/49 [==========================>...] - ETA: 0s - loss: 0.2494 - accuracy: 0.9156"
          ]
        },
        {
          "output_type": "stream",
          "name": "stderr",
          "text": [
            "WARNING:tensorflow:Early stopping conditioned on metric `val_loss` which is not available. Available metrics are: loss,accuracy\n"
          ]
        },
        {
          "output_type": "stream",
          "name": "stdout",
          "text": [
            "\b\b\b\b\b\b\b\b\b\b\b\b\b\b\b\b\b\b\b\b\b\b\b\b\b\b\b\b\b\b\b\b\b\b\b\b\b\b\b\b\b\b\b\b\b\b\b\b\b\b\b\b\b\b\b\b\b\b\b\b\b\b\b\b\b\b\b\b\b\b\b\b\b\b\b\b\b\b\b\b\b\b\r49/49 [==============================] - 0s 3ms/step - loss: 0.2569 - accuracy: 0.9129\n",
            "Epoch 162/200\n",
            "32/49 [==================>...........] - ETA: 0s - loss: 0.2669 - accuracy: 0.9250"
          ]
        },
        {
          "output_type": "stream",
          "name": "stderr",
          "text": [
            "WARNING:tensorflow:Early stopping conditioned on metric `val_loss` which is not available. Available metrics are: loss,accuracy\n"
          ]
        },
        {
          "output_type": "stream",
          "name": "stdout",
          "text": [
            "\b\b\b\b\b\b\b\b\b\b\b\b\b\b\b\b\b\b\b\b\b\b\b\b\b\b\b\b\b\b\b\b\b\b\b\b\b\b\b\b\b\b\b\b\b\b\b\b\b\b\b\b\b\b\b\b\b\b\b\b\b\b\b\b\b\b\b\b\b\b\b\b\b\b\b\b\b\b\b\b\b\b\r49/49 [==============================] - 0s 3ms/step - loss: 0.2421 - accuracy: 0.9212\n",
            "Epoch 163/200\n",
            "40/49 [=======================>......] - ETA: 0s - loss: 0.2293 - accuracy: 0.9350"
          ]
        },
        {
          "output_type": "stream",
          "name": "stderr",
          "text": [
            "WARNING:tensorflow:Early stopping conditioned on metric `val_loss` which is not available. Available metrics are: loss,accuracy\n"
          ]
        },
        {
          "output_type": "stream",
          "name": "stdout",
          "text": [
            "\b\b\b\b\b\b\b\b\b\b\b\b\b\b\b\b\b\b\b\b\b\b\b\b\b\b\b\b\b\b\b\b\b\b\b\b\b\b\b\b\b\b\b\b\b\b\b\b\b\b\b\b\b\b\b\b\b\b\b\b\b\b\b\b\b\b\b\b\b\b\b\b\b\b\b\b\b\b\b\b\b\b\r49/49 [==============================] - 0s 3ms/step - loss: 0.2049 - accuracy: 0.9378\n",
            "Epoch 164/200\n",
            "33/49 [===================>..........] - ETA: 0s - loss: 0.1683 - accuracy: 0.9455"
          ]
        },
        {
          "output_type": "stream",
          "name": "stderr",
          "text": [
            "WARNING:tensorflow:Early stopping conditioned on metric `val_loss` which is not available. Available metrics are: loss,accuracy\n"
          ]
        },
        {
          "output_type": "stream",
          "name": "stdout",
          "text": [
            "\b\b\b\b\b\b\b\b\b\b\b\b\b\b\b\b\b\b\b\b\b\b\b\b\b\b\b\b\b\b\b\b\b\b\b\b\b\b\b\b\b\b\b\b\b\b\b\b\b\b\b\b\b\b\b\b\b\b\b\b\b\b\b\b\b\b\b\b\b\b\b\b\b\b\b\b\b\b\b\b\b\b\r49/49 [==============================] - 0s 3ms/step - loss: 0.1690 - accuracy: 0.9502\n",
            "Epoch 165/200\n",
            "37/49 [=====================>........] - ETA: 0s - loss: 0.2120 - accuracy: 0.9459"
          ]
        },
        {
          "output_type": "stream",
          "name": "stderr",
          "text": [
            "WARNING:tensorflow:Early stopping conditioned on metric `val_loss` which is not available. Available metrics are: loss,accuracy\n"
          ]
        },
        {
          "output_type": "stream",
          "name": "stdout",
          "text": [
            "\b\b\b\b\b\b\b\b\b\b\b\b\b\b\b\b\b\b\b\b\b\b\b\b\b\b\b\b\b\b\b\b\b\b\b\b\b\b\b\b\b\b\b\b\b\b\b\b\b\b\b\b\b\b\b\b\b\b\b\b\b\b\b\b\b\b\b\b\b\b\b\b\b\b\b\b\b\b\b\b\b\b\r49/49 [==============================] - 0s 3ms/step - loss: 0.2270 - accuracy: 0.9378\n",
            "Epoch 166/200\n",
            "42/49 [========================>.....] - ETA: 0s - loss: 0.3105 - accuracy: 0.9190"
          ]
        },
        {
          "output_type": "stream",
          "name": "stderr",
          "text": [
            "WARNING:tensorflow:Early stopping conditioned on metric `val_loss` which is not available. Available metrics are: loss,accuracy\n"
          ]
        },
        {
          "output_type": "stream",
          "name": "stdout",
          "text": [
            "\b\b\b\b\b\b\b\b\b\b\b\b\b\b\b\b\b\b\b\b\b\b\b\b\b\b\b\b\b\b\b\b\b\b\b\b\b\b\b\b\b\b\b\b\b\b\b\b\b\b\b\b\b\b\b\b\b\b\b\b\b\b\b\b\b\b\b\b\b\b\b\b\b\b\b\b\b\b\b\b\b\b\r49/49 [==============================] - 0s 3ms/step - loss: 0.3050 - accuracy: 0.9129\n",
            "Epoch 167/200\n",
            "36/49 [=====================>........] - ETA: 0s - loss: 0.2187 - accuracy: 0.9167"
          ]
        },
        {
          "output_type": "stream",
          "name": "stderr",
          "text": [
            "WARNING:tensorflow:Early stopping conditioned on metric `val_loss` which is not available. Available metrics are: loss,accuracy\n"
          ]
        },
        {
          "output_type": "stream",
          "name": "stdout",
          "text": [
            "\b\b\b\b\b\b\b\b\b\b\b\b\b\b\b\b\b\b\b\b\b\b\b\b\b\b\b\b\b\b\b\b\b\b\b\b\b\b\b\b\b\b\b\b\b\b\b\b\b\b\b\b\b\b\b\b\b\b\b\b\b\b\b\b\b\b\b\b\b\b\b\b\b\b\b\b\b\b\b\b\b\b\r49/49 [==============================] - 0s 3ms/step - loss: 0.2344 - accuracy: 0.9087\n",
            "Epoch 168/200\n",
            "31/49 [=================>............] - ETA: 0s - loss: 0.2366 - accuracy: 0.9161"
          ]
        },
        {
          "output_type": "stream",
          "name": "stderr",
          "text": [
            "WARNING:tensorflow:Early stopping conditioned on metric `val_loss` which is not available. Available metrics are: loss,accuracy\n"
          ]
        },
        {
          "output_type": "stream",
          "name": "stdout",
          "text": [
            "\b\b\b\b\b\b\b\b\b\b\b\b\b\b\b\b\b\b\b\b\b\b\b\b\b\b\b\b\b\b\b\b\b\b\b\b\b\b\b\b\b\b\b\b\b\b\b\b\b\b\b\b\b\b\b\b\b\b\b\b\b\b\b\b\b\b\b\b\b\b\b\b\b\b\b\b\b\b\b\b\b\b\r49/49 [==============================] - 0s 3ms/step - loss: 0.2479 - accuracy: 0.9087\n",
            "Epoch 169/200\n",
            "37/49 [=====================>........] - ETA: 0s - loss: 0.2632 - accuracy: 0.9081"
          ]
        },
        {
          "output_type": "stream",
          "name": "stderr",
          "text": [
            "WARNING:tensorflow:Early stopping conditioned on metric `val_loss` which is not available. Available metrics are: loss,accuracy\n"
          ]
        },
        {
          "output_type": "stream",
          "name": "stdout",
          "text": [
            "\b\b\b\b\b\b\b\b\b\b\b\b\b\b\b\b\b\b\b\b\b\b\b\b\b\b\b\b\b\b\b\b\b\b\b\b\b\b\b\b\b\b\b\b\b\b\b\b\b\b\b\b\b\b\b\b\b\b\b\b\b\b\b\b\b\b\b\b\b\b\b\b\b\b\b\b\b\b\b\b\b\b\r49/49 [==============================] - 0s 3ms/step - loss: 0.2431 - accuracy: 0.9170\n",
            "Epoch 170/200\n",
            "41/49 [========================>.....] - ETA: 0s - loss: 0.2659 - accuracy: 0.9268"
          ]
        },
        {
          "output_type": "stream",
          "name": "stderr",
          "text": [
            "WARNING:tensorflow:Early stopping conditioned on metric `val_loss` which is not available. Available metrics are: loss,accuracy\n"
          ]
        },
        {
          "output_type": "stream",
          "name": "stdout",
          "text": [
            "\b\b\b\b\b\b\b\b\b\b\b\b\b\b\b\b\b\b\b\b\b\b\b\b\b\b\b\b\b\b\b\b\b\b\b\b\b\b\b\b\b\b\b\b\b\b\b\b\b\b\b\b\b\b\b\b\b\b\b\b\b\b\b\b\b\b\b\b\b\b\b\b\b\b\b\b\b\b\b\b\b\b\r49/49 [==============================] - 0s 3ms/step - loss: 0.2646 - accuracy: 0.9212\n",
            "Epoch 171/200\n",
            "33/49 [===================>..........] - ETA: 0s - loss: 0.2263 - accuracy: 0.9212"
          ]
        },
        {
          "output_type": "stream",
          "name": "stderr",
          "text": [
            "WARNING:tensorflow:Early stopping conditioned on metric `val_loss` which is not available. Available metrics are: loss,accuracy\n"
          ]
        },
        {
          "output_type": "stream",
          "name": "stdout",
          "text": [
            "\b\b\b\b\b\b\b\b\b\b\b\b\b\b\b\b\b\b\b\b\b\b\b\b\b\b\b\b\b\b\b\b\b\b\b\b\b\b\b\b\b\b\b\b\b\b\b\b\b\b\b\b\b\b\b\b\b\b\b\b\b\b\b\b\b\b\b\b\b\b\b\b\b\b\b\b\b\b\b\b\b\b\r49/49 [==============================] - 0s 3ms/step - loss: 0.3150 - accuracy: 0.8963\n",
            "Epoch 172/200\n",
            "43/49 [=========================>....] - ETA: 0s - loss: 0.2376 - accuracy: 0.9209"
          ]
        },
        {
          "output_type": "stream",
          "name": "stderr",
          "text": [
            "WARNING:tensorflow:Early stopping conditioned on metric `val_loss` which is not available. Available metrics are: loss,accuracy\n"
          ]
        },
        {
          "output_type": "stream",
          "name": "stdout",
          "text": [
            "\b\b\b\b\b\b\b\b\b\b\b\b\b\b\b\b\b\b\b\b\b\b\b\b\b\b\b\b\b\b\b\b\b\b\b\b\b\b\b\b\b\b\b\b\b\b\b\b\b\b\b\b\b\b\b\b\b\b\b\b\b\b\b\b\b\b\b\b\b\b\b\b\b\b\b\b\b\b\b\b\b\b\r49/49 [==============================] - 0s 3ms/step - loss: 0.2302 - accuracy: 0.9253\n",
            "Epoch 173/200\n",
            "43/49 [=========================>....] - ETA: 0s - loss: 0.2507 - accuracy: 0.9163"
          ]
        },
        {
          "output_type": "stream",
          "name": "stderr",
          "text": [
            "WARNING:tensorflow:Early stopping conditioned on metric `val_loss` which is not available. Available metrics are: loss,accuracy\n"
          ]
        },
        {
          "output_type": "stream",
          "name": "stdout",
          "text": [
            "\b\b\b\b\b\b\b\b\b\b\b\b\b\b\b\b\b\b\b\b\b\b\b\b\b\b\b\b\b\b\b\b\b\b\b\b\b\b\b\b\b\b\b\b\b\b\b\b\b\b\b\b\b\b\b\b\b\b\b\b\b\b\b\b\b\b\b\b\b\b\b\b\b\b\b\b\b\b\b\b\b\b\r49/49 [==============================] - 0s 3ms/step - loss: 0.2485 - accuracy: 0.9129\n",
            "Epoch 174/200\n",
            "39/49 [======================>.......] - ETA: 0s - loss: 0.1700 - accuracy: 0.9385"
          ]
        },
        {
          "output_type": "stream",
          "name": "stderr",
          "text": [
            "WARNING:tensorflow:Early stopping conditioned on metric `val_loss` which is not available. Available metrics are: loss,accuracy\n"
          ]
        },
        {
          "output_type": "stream",
          "name": "stdout",
          "text": [
            "\b\b\b\b\b\b\b\b\b\b\b\b\b\b\b\b\b\b\b\b\b\b\b\b\b\b\b\b\b\b\b\b\b\b\b\b\b\b\b\b\b\b\b\b\b\b\b\b\b\b\b\b\b\b\b\b\b\b\b\b\b\b\b\b\b\b\b\b\b\b\b\b\b\b\b\b\b\b\b\b\b\b\r49/49 [==============================] - 0s 3ms/step - loss: 0.1585 - accuracy: 0.9419\n",
            "Epoch 175/200\n",
            "36/49 [=====================>........] - ETA: 0s - loss: 0.1873 - accuracy: 0.9222"
          ]
        },
        {
          "output_type": "stream",
          "name": "stderr",
          "text": [
            "WARNING:tensorflow:Early stopping conditioned on metric `val_loss` which is not available. Available metrics are: loss,accuracy\n"
          ]
        },
        {
          "output_type": "stream",
          "name": "stdout",
          "text": [
            "\b\b\b\b\b\b\b\b\b\b\b\b\b\b\b\b\b\b\b\b\b\b\b\b\b\b\b\b\b\b\b\b\b\b\b\b\b\b\b\b\b\b\b\b\b\b\b\b\b\b\b\b\b\b\b\b\b\b\b\b\b\b\b\b\b\b\b\b\b\b\b\b\b\b\b\b\b\b\b\b\b\b\r49/49 [==============================] - 0s 3ms/step - loss: 0.2064 - accuracy: 0.9212\n",
            "Epoch 176/200\n",
            "38/49 [======================>.......] - ETA: 0s - loss: 0.1160 - accuracy: 0.9526"
          ]
        },
        {
          "output_type": "stream",
          "name": "stderr",
          "text": [
            "WARNING:tensorflow:Early stopping conditioned on metric `val_loss` which is not available. Available metrics are: loss,accuracy\n"
          ]
        },
        {
          "output_type": "stream",
          "name": "stdout",
          "text": [
            "\b\b\b\b\b\b\b\b\b\b\b\b\b\b\b\b\b\b\b\b\b\b\b\b\b\b\b\b\b\b\b\b\b\b\b\b\b\b\b\b\b\b\b\b\b\b\b\b\b\b\b\b\b\b\b\b\b\b\b\b\b\b\b\b\b\b\b\b\b\b\b\b\b\b\b\b\b\b\b\b\b\b\r49/49 [==============================] - 0s 3ms/step - loss: 0.1130 - accuracy: 0.9544\n",
            "Epoch 177/200\n",
            "33/49 [===================>..........] - ETA: 0s - loss: 0.1799 - accuracy: 0.9636"
          ]
        },
        {
          "output_type": "stream",
          "name": "stderr",
          "text": [
            "WARNING:tensorflow:Early stopping conditioned on metric `val_loss` which is not available. Available metrics are: loss,accuracy\n"
          ]
        },
        {
          "output_type": "stream",
          "name": "stdout",
          "text": [
            "\b\b\b\b\b\b\b\b\b\b\b\b\b\b\b\b\b\b\b\b\b\b\b\b\b\b\b\b\b\b\b\b\b\b\b\b\b\b\b\b\b\b\b\b\b\b\b\b\b\b\b\b\b\b\b\b\b\b\b\b\b\b\b\b\b\b\b\b\b\b\b\b\b\b\b\b\b\b\b\b\b\b\r49/49 [==============================] - 0s 3ms/step - loss: 0.1716 - accuracy: 0.9544\n",
            "Epoch 178/200\n",
            "34/49 [===================>..........] - ETA: 0s - loss: 0.1857 - accuracy: 0.9471"
          ]
        },
        {
          "output_type": "stream",
          "name": "stderr",
          "text": [
            "WARNING:tensorflow:Early stopping conditioned on metric `val_loss` which is not available. Available metrics are: loss,accuracy\n"
          ]
        },
        {
          "output_type": "stream",
          "name": "stdout",
          "text": [
            "\b\b\b\b\b\b\b\b\b\b\b\b\b\b\b\b\b\b\b\b\b\b\b\b\b\b\b\b\b\b\b\b\b\b\b\b\b\b\b\b\b\b\b\b\b\b\b\b\b\b\b\b\b\b\b\b\b\b\b\b\b\b\b\b\b\b\b\b\b\b\b\b\b\b\b\b\b\b\b\b\b\b\r49/49 [==============================] - 0s 3ms/step - loss: 0.2002 - accuracy: 0.9585\n",
            "Epoch 179/200\n",
            "35/49 [====================>.........] - ETA: 0s - loss: 0.2626 - accuracy: 0.9086"
          ]
        },
        {
          "output_type": "stream",
          "name": "stderr",
          "text": [
            "WARNING:tensorflow:Early stopping conditioned on metric `val_loss` which is not available. Available metrics are: loss,accuracy\n"
          ]
        },
        {
          "output_type": "stream",
          "name": "stdout",
          "text": [
            "\b\b\b\b\b\b\b\b\b\b\b\b\b\b\b\b\b\b\b\b\b\b\b\b\b\b\b\b\b\b\b\b\b\b\b\b\b\b\b\b\b\b\b\b\b\b\b\b\b\b\b\b\b\b\b\b\b\b\b\b\b\b\b\b\b\b\b\b\b\b\b\b\b\b\b\b\b\b\b\b\b\b\r49/49 [==============================] - 0s 3ms/step - loss: 0.2609 - accuracy: 0.9129\n",
            "Epoch 180/200\n",
            "26/49 [==============>...............] - ETA: 0s - loss: 0.2626 - accuracy: 0.9308"
          ]
        },
        {
          "output_type": "stream",
          "name": "stderr",
          "text": [
            "WARNING:tensorflow:Early stopping conditioned on metric `val_loss` which is not available. Available metrics are: loss,accuracy\n"
          ]
        },
        {
          "output_type": "stream",
          "name": "stdout",
          "text": [
            "\b\b\b\b\b\b\b\b\b\b\b\b\b\b\b\b\b\b\b\b\b\b\b\b\b\b\b\b\b\b\b\b\b\b\b\b\b\b\b\b\b\b\b\b\b\b\b\b\b\b\b\b\b\b\b\b\b\b\b\b\b\b\b\b\b\b\b\b\b\b\b\b\b\b\b\b\b\b\b\b\b\b\r49/49 [==============================] - 0s 2ms/step - loss: 0.1978 - accuracy: 0.9461\n",
            "Epoch 181/200\n",
            "27/49 [===============>..............] - ETA: 0s - loss: 0.2359 - accuracy: 0.9111"
          ]
        },
        {
          "output_type": "stream",
          "name": "stderr",
          "text": [
            "WARNING:tensorflow:Early stopping conditioned on metric `val_loss` which is not available. Available metrics are: loss,accuracy\n"
          ]
        },
        {
          "output_type": "stream",
          "name": "stdout",
          "text": [
            "\b\b\b\b\b\b\b\b\b\b\b\b\b\b\b\b\b\b\b\b\b\b\b\b\b\b\b\b\b\b\b\b\b\b\b\b\b\b\b\b\b\b\b\b\b\b\b\b\b\b\b\b\b\b\b\b\b\b\b\b\b\b\b\b\b\b\b\b\b\b\b\b\b\b\b\b\b\b\b\b\b\b\r49/49 [==============================] - 0s 2ms/step - loss: 0.2171 - accuracy: 0.9170\n",
            "Epoch 182/200\n",
            "28/49 [================>.............] - ETA: 0s - loss: 0.1882 - accuracy: 0.9500"
          ]
        },
        {
          "output_type": "stream",
          "name": "stderr",
          "text": [
            "WARNING:tensorflow:Early stopping conditioned on metric `val_loss` which is not available. Available metrics are: loss,accuracy\n"
          ]
        },
        {
          "output_type": "stream",
          "name": "stdout",
          "text": [
            "\b\b\b\b\b\b\b\b\b\b\b\b\b\b\b\b\b\b\b\b\b\b\b\b\b\b\b\b\b\b\b\b\b\b\b\b\b\b\b\b\b\b\b\b\b\b\b\b\b\b\b\b\b\b\b\b\b\b\b\b\b\b\b\b\b\b\b\b\b\b\b\b\b\b\b\b\b\b\b\b\b\b\r49/49 [==============================] - 0s 2ms/step - loss: 0.2349 - accuracy: 0.9419\n",
            "Epoch 183/200\n",
            "28/49 [================>.............] - ETA: 0s - loss: 0.2747 - accuracy: 0.8857"
          ]
        },
        {
          "output_type": "stream",
          "name": "stderr",
          "text": [
            "WARNING:tensorflow:Early stopping conditioned on metric `val_loss` which is not available. Available metrics are: loss,accuracy\n"
          ]
        },
        {
          "output_type": "stream",
          "name": "stdout",
          "text": [
            "\b\b\b\b\b\b\b\b\b\b\b\b\b\b\b\b\b\b\b\b\b\b\b\b\b\b\b\b\b\b\b\b\b\b\b\b\b\b\b\b\b\b\b\b\b\b\b\b\b\b\b\b\b\b\b\b\b\b\b\b\b\b\b\b\b\b\b\b\b\b\b\b\b\b\b\b\b\b\b\b\b\b\r49/49 [==============================] - 0s 2ms/step - loss: 0.1995 - accuracy: 0.9170\n",
            "Epoch 184/200\n",
            "49/49 [==============================] - ETA: 0s - loss: 0.3435 - accuracy: 0.9046"
          ]
        },
        {
          "output_type": "stream",
          "name": "stderr",
          "text": [
            "WARNING:tensorflow:Early stopping conditioned on metric `val_loss` which is not available. Available metrics are: loss,accuracy\n"
          ]
        },
        {
          "output_type": "stream",
          "name": "stdout",
          "text": [
            "\b\b\b\b\b\b\b\b\b\b\b\b\b\b\b\b\b\b\b\b\b\b\b\b\b\b\b\b\b\b\b\b\b\b\b\b\b\b\b\b\b\b\b\b\b\b\b\b\b\b\b\b\b\b\b\b\b\b\b\b\b\b\b\b\b\b\b\b\b\b\b\b\b\b\b\b\b\b\b\b\b\b\r49/49 [==============================] - 0s 2ms/step - loss: 0.3435 - accuracy: 0.9046\n",
            "Epoch 185/200\n",
            "44/49 [=========================>....] - ETA: 0s - loss: 0.2747 - accuracy: 0.9318"
          ]
        },
        {
          "output_type": "stream",
          "name": "stderr",
          "text": [
            "WARNING:tensorflow:Early stopping conditioned on metric `val_loss` which is not available. Available metrics are: loss,accuracy\n"
          ]
        },
        {
          "output_type": "stream",
          "name": "stdout",
          "text": [
            "\b\b\b\b\b\b\b\b\b\b\b\b\b\b\b\b\b\b\b\b\b\b\b\b\b\b\b\b\b\b\b\b\b\b\b\b\b\b\b\b\b\b\b\b\b\b\b\b\b\b\b\b\b\b\b\b\b\b\b\b\b\b\b\b\b\b\b\b\b\b\b\b\b\b\b\b\b\b\b\b\b\b\r49/49 [==============================] - 0s 3ms/step - loss: 0.2674 - accuracy: 0.9378\n",
            "Epoch 186/200\n",
            "25/49 [==============>...............] - ETA: 0s - loss: 0.2168 - accuracy: 0.9120"
          ]
        },
        {
          "output_type": "stream",
          "name": "stderr",
          "text": [
            "WARNING:tensorflow:Early stopping conditioned on metric `val_loss` which is not available. Available metrics are: loss,accuracy\n"
          ]
        },
        {
          "output_type": "stream",
          "name": "stdout",
          "text": [
            "\b\b\b\b\b\b\b\b\b\b\b\b\b\b\b\b\b\b\b\b\b\b\b\b\b\b\b\b\b\b\b\b\b\b\b\b\b\b\b\b\b\b\b\b\b\b\b\b\b\b\b\b\b\b\b\b\b\b\b\b\b\b\b\b\b\b\b\b\b\b\b\b\b\b\b\b\b\b\b\b\b\b\r49/49 [==============================] - 0s 2ms/step - loss: 0.2176 - accuracy: 0.9129\n",
            "Epoch 187/200\n",
            "26/49 [==============>...............] - ETA: 0s - loss: 0.4127 - accuracy: 0.9308"
          ]
        },
        {
          "output_type": "stream",
          "name": "stderr",
          "text": [
            "WARNING:tensorflow:Early stopping conditioned on metric `val_loss` which is not available. Available metrics are: loss,accuracy\n"
          ]
        },
        {
          "output_type": "stream",
          "name": "stdout",
          "text": [
            "\b\b\b\b\b\b\b\b\b\b\b\b\b\b\b\b\b\b\b\b\b\b\b\b\b\b\b\b\b\b\b\b\b\b\b\b\b\b\b\b\b\b\b\b\b\b\b\b\b\b\b\b\b\b\b\b\b\b\b\b\b\b\b\b\b\b\b\b\b\b\b\b\b\b\b\b\b\b\b\b\b\b\r49/49 [==============================] - 0s 2ms/step - loss: 0.3423 - accuracy: 0.9170\n",
            "Epoch 188/200\n",
            "30/49 [=================>............] - ETA: 0s - loss: 0.2220 - accuracy: 0.9133"
          ]
        },
        {
          "output_type": "stream",
          "name": "stderr",
          "text": [
            "WARNING:tensorflow:Early stopping conditioned on metric `val_loss` which is not available. Available metrics are: loss,accuracy\n"
          ]
        },
        {
          "output_type": "stream",
          "name": "stdout",
          "text": [
            "\b\b\b\b\b\b\b\b\b\b\b\b\b\b\b\b\b\b\b\b\b\b\b\b\b\b\b\b\b\b\b\b\b\b\b\b\b\b\b\b\b\b\b\b\b\b\b\b\b\b\b\b\b\b\b\b\b\b\b\b\b\b\b\b\b\b\b\b\b\b\b\b\b\b\b\b\b\b\b\b\b\b\r49/49 [==============================] - 0s 2ms/step - loss: 0.3001 - accuracy: 0.8963\n",
            "Epoch 189/200\n",
            "24/49 [=============>................] - ETA: 0s - loss: 0.2608 - accuracy: 0.9167"
          ]
        },
        {
          "output_type": "stream",
          "name": "stderr",
          "text": [
            "WARNING:tensorflow:Early stopping conditioned on metric `val_loss` which is not available. Available metrics are: loss,accuracy\n"
          ]
        },
        {
          "output_type": "stream",
          "name": "stdout",
          "text": [
            "\b\b\b\b\b\b\b\b\b\b\b\b\b\b\b\b\b\b\b\b\b\b\b\b\b\b\b\b\b\b\b\b\b\b\b\b\b\b\b\b\b\b\b\b\b\b\b\b\b\b\b\b\b\b\b\b\b\b\b\b\b\b\b\b\b\b\b\b\b\b\b\b\b\b\b\b\b\b\b\b\b\b\r49/49 [==============================] - 0s 2ms/step - loss: 0.2909 - accuracy: 0.9087\n",
            "Epoch 190/200\n",
            "26/49 [==============>...............] - ETA: 0s - loss: 0.2683 - accuracy: 0.9077"
          ]
        },
        {
          "output_type": "stream",
          "name": "stderr",
          "text": [
            "WARNING:tensorflow:Early stopping conditioned on metric `val_loss` which is not available. Available metrics are: loss,accuracy\n"
          ]
        },
        {
          "output_type": "stream",
          "name": "stdout",
          "text": [
            "\b\b\b\b\b\b\b\b\b\b\b\b\b\b\b\b\b\b\b\b\b\b\b\b\b\b\b\b\b\b\b\b\b\b\b\b\b\b\b\b\b\b\b\b\b\b\b\b\b\b\b\b\b\b\b\b\b\b\b\b\b\b\b\b\b\b\b\b\b\b\b\b\b\b\b\b\b\b\b\b\b\b\r49/49 [==============================] - 0s 2ms/step - loss: 0.2522 - accuracy: 0.9170\n",
            "Epoch 191/200\n",
            "25/49 [==============>...............] - ETA: 0s - loss: 0.2134 - accuracy: 0.9120"
          ]
        },
        {
          "output_type": "stream",
          "name": "stderr",
          "text": [
            "WARNING:tensorflow:Early stopping conditioned on metric `val_loss` which is not available. Available metrics are: loss,accuracy\n"
          ]
        },
        {
          "output_type": "stream",
          "name": "stdout",
          "text": [
            "\b\b\b\b\b\b\b\b\b\b\b\b\b\b\b\b\b\b\b\b\b\b\b\b\b\b\b\b\b\b\b\b\b\b\b\b\b\b\b\b\b\b\b\b\b\b\b\b\b\b\b\b\b\b\b\b\b\b\b\b\b\b\b\b\b\b\b\b\b\b\b\b\b\b\b\b\b\b\b\b\b\b\r49/49 [==============================] - 0s 2ms/step - loss: 0.2350 - accuracy: 0.9087\n",
            "Epoch 192/200\n",
            "25/49 [==============>...............] - ETA: 0s - loss: 0.5102 - accuracy: 0.8640"
          ]
        },
        {
          "output_type": "stream",
          "name": "stderr",
          "text": [
            "WARNING:tensorflow:Early stopping conditioned on metric `val_loss` which is not available. Available metrics are: loss,accuracy\n"
          ]
        },
        {
          "output_type": "stream",
          "name": "stdout",
          "text": [
            "\b\b\b\b\b\b\b\b\b\b\b\b\b\b\b\b\b\b\b\b\b\b\b\b\b\b\b\b\b\b\b\b\b\b\b\b\b\b\b\b\b\b\b\b\b\b\b\b\b\b\b\b\b\b\b\b\b\b\b\b\b\b\b\b\b\b\b\b\b\b\b\b\b\b\b\b\b\b\b\b\b\b\r49/49 [==============================] - 0s 2ms/step - loss: 0.4221 - accuracy: 0.8880\n",
            "Epoch 193/200\n",
            "47/49 [===========================>..] - ETA: 0s - loss: 0.4342 - accuracy: 0.9021"
          ]
        },
        {
          "output_type": "stream",
          "name": "stderr",
          "text": [
            "WARNING:tensorflow:Early stopping conditioned on metric `val_loss` which is not available. Available metrics are: loss,accuracy\n"
          ]
        },
        {
          "output_type": "stream",
          "name": "stdout",
          "text": [
            "\b\b\b\b\b\b\b\b\b\b\b\b\b\b\b\b\b\b\b\b\b\b\b\b\b\b\b\b\b\b\b\b\b\b\b\b\b\b\b\b\b\b\b\b\b\b\b\b\b\b\b\b\b\b\b\b\b\b\b\b\b\b\b\b\b\b\b\b\b\b\b\b\b\b\b\b\b\b\b\b\b\b\r49/49 [==============================] - 0s 2ms/step - loss: 0.4249 - accuracy: 0.9046\n",
            "Epoch 194/200\n",
            "47/49 [===========================>..] - ETA: 0s - loss: 0.3113 - accuracy: 0.9106"
          ]
        },
        {
          "output_type": "stream",
          "name": "stderr",
          "text": [
            "WARNING:tensorflow:Early stopping conditioned on metric `val_loss` which is not available. Available metrics are: loss,accuracy\n"
          ]
        },
        {
          "output_type": "stream",
          "name": "stdout",
          "text": [
            "\b\b\b\b\b\b\b\b\b\b\b\b\b\b\b\b\b\b\b\b\b\b\b\b\b\b\b\b\b\b\b\b\b\b\b\b\b\b\b\b\b\b\b\b\b\b\b\b\b\b\b\b\b\b\b\b\b\b\b\b\b\b\b\b\b\b\b\b\b\b\b\b\b\b\b\b\b\b\b\b\b\b\r49/49 [==============================] - 0s 2ms/step - loss: 0.3226 - accuracy: 0.9087\n",
            "Epoch 195/200\n",
            "23/49 [=============>................] - ETA: 0s - loss: 0.3273 - accuracy: 0.9130"
          ]
        },
        {
          "output_type": "stream",
          "name": "stderr",
          "text": [
            "WARNING:tensorflow:Early stopping conditioned on metric `val_loss` which is not available. Available metrics are: loss,accuracy\n"
          ]
        },
        {
          "output_type": "stream",
          "name": "stdout",
          "text": [
            "\b\b\b\b\b\b\b\b\b\b\b\b\b\b\b\b\b\b\b\b\b\b\b\b\b\b\b\b\b\b\b\b\b\b\b\b\b\b\b\b\b\b\b\b\b\b\b\b\b\b\b\b\b\b\b\b\b\b\b\b\b\b\b\b\b\b\b\b\b\b\b\b\b\b\b\b\b\b\b\b\b\b\r49/49 [==============================] - 0s 2ms/step - loss: 0.2826 - accuracy: 0.9046\n",
            "Epoch 196/200\n",
            "27/49 [===============>..............] - ETA: 0s - loss: 0.3533 - accuracy: 0.9037    "
          ]
        },
        {
          "output_type": "stream",
          "name": "stderr",
          "text": [
            "WARNING:tensorflow:Early stopping conditioned on metric `val_loss` which is not available. Available metrics are: loss,accuracy\n"
          ]
        },
        {
          "output_type": "stream",
          "name": "stdout",
          "text": [
            "\b\b\b\b\b\b\b\b\b\b\b\b\b\b\b\b\b\b\b\b\b\b\b\b\b\b\b\b\b\b\b\b\b\b\b\b\b\b\b\b\b\b\b\b\b\b\b\b\b\b\b\b\b\b\b\b\b\b\b\b\b\b\b\b\b\b\b\b\b\b\b\b\b\b\b\b\b\b\b\b\b\b\r49/49 [==============================] - 0s 2ms/step - loss: 0.3110 - accuracy: 0.9087\n",
            "Epoch 197/200\n",
            "24/49 [=============>................] - ETA: 0s - loss: 0.4089 - accuracy: 0.8750"
          ]
        },
        {
          "output_type": "stream",
          "name": "stderr",
          "text": [
            "WARNING:tensorflow:Early stopping conditioned on metric `val_loss` which is not available. Available metrics are: loss,accuracy\n"
          ]
        },
        {
          "output_type": "stream",
          "name": "stdout",
          "text": [
            "\b\b\b\b\b\b\b\b\b\b\b\b\b\b\b\b\b\b\b\b\b\b\b\b\b\b\b\b\b\b\b\b\b\b\b\b\b\b\b\b\b\b\b\b\b\b\b\b\b\b\b\b\b\b\b\b\b\b\b\b\b\b\b\b\b\b\b\b\b\b\b\b\b\b\b\b\b\b\b\b\b\b\r49/49 [==============================] - 0s 2ms/step - loss: 0.3984 - accuracy: 0.8880\n",
            "Epoch 198/200\n",
            "27/49 [===============>..............] - ETA: 0s - loss: 0.3181 - accuracy: 0.9111"
          ]
        },
        {
          "output_type": "stream",
          "name": "stderr",
          "text": [
            "WARNING:tensorflow:Early stopping conditioned on metric `val_loss` which is not available. Available metrics are: loss,accuracy\n"
          ]
        },
        {
          "output_type": "stream",
          "name": "stdout",
          "text": [
            "\b\b\b\b\b\b\b\b\b\b\b\b\b\b\b\b\b\b\b\b\b\b\b\b\b\b\b\b\b\b\b\b\b\b\b\b\b\b\b\b\b\b\b\b\b\b\b\b\b\b\b\b\b\b\b\b\b\b\b\b\b\b\b\b\b\b\b\b\b\b\b\b\b\b\b\b\b\b\b\b\b\b\r49/49 [==============================] - 0s 2ms/step - loss: 0.3316 - accuracy: 0.8921\n",
            "Epoch 199/200\n",
            "28/49 [================>.............] - ETA: 0s - loss: 0.2606 - accuracy: 0.9000    "
          ]
        },
        {
          "output_type": "stream",
          "name": "stderr",
          "text": [
            "WARNING:tensorflow:Early stopping conditioned on metric `val_loss` which is not available. Available metrics are: loss,accuracy\n"
          ]
        },
        {
          "output_type": "stream",
          "name": "stdout",
          "text": [
            "\b\b\b\b\b\b\b\b\b\b\b\b\b\b\b\b\b\b\b\b\b\b\b\b\b\b\b\b\b\b\b\b\b\b\b\b\b\b\b\b\b\b\b\b\b\b\b\b\b\b\b\b\b\b\b\b\b\b\b\b\b\b\b\b\b\b\b\b\b\b\b\b\b\b\b\b\b\b\b\b\b\b\r49/49 [==============================] - 0s 2ms/step - loss: 0.2749 - accuracy: 0.9087\n",
            "Epoch 200/200\n",
            "22/49 [============>.................] - ETA: 0s - loss: 0.1480 - accuracy: 0.9455"
          ]
        },
        {
          "output_type": "stream",
          "name": "stderr",
          "text": [
            "WARNING:tensorflow:Early stopping conditioned on metric `val_loss` which is not available. Available metrics are: loss,accuracy\n"
          ]
        },
        {
          "output_type": "stream",
          "name": "stdout",
          "text": [
            "\b\b\b\b\b\b\b\b\b\b\b\b\b\b\b\b\b\b\b\b\b\b\b\b\b\b\b\b\b\b\b\b\b\b\b\b\b\b\b\b\b\b\b\b\b\b\b\b\b\b\b\b\b\b\b\b\b\b\b\b\b\b\b\b\b\b\b\b\b\b\b\b\b\b\b\b\b\b\b\b\b\b\r49/49 [==============================] - 0s 2ms/step - loss: 0.1698 - accuracy: 0.9461\n"
          ]
        }
      ]
    },
    {
      "cell_type": "markdown",
      "source": [
        "**Loss and Accuracy Visualization Graph**"
      ],
      "metadata": {
        "id": "YMvwjgdyx3yV"
      }
    },
    {
      "cell_type": "code",
      "source": [
        "# Retrieve loss and accuracy data from history\n",
        "loss = history.history['loss']\n",
        "accuracy = history.history['accuracy']\n",
        "\n",
        "# Taking the number of epochs\n",
        "epochs = range(1, len(loss) + 1)\n",
        "\n",
        "# Plot loss\n",
        "plt.plot(epochs, loss, 'r', label='Training Loss')\n",
        "plt.title('Training Loss')\n",
        "plt.xlabel('Epochs')\n",
        "plt.ylabel('Loss')\n",
        "plt.legend()\n",
        "plt.show()\n",
        "\n",
        "# Plot accuracy\n",
        "plt.plot(epochs, accuracy, 'b', label='Training Accuracy')\n",
        "plt.title('Training Accuracy')\n",
        "plt.xlabel('Epochs')\n",
        "plt.ylabel('Accuracy')\n",
        "plt.legend()\n",
        "plt.show()\n"
      ],
      "metadata": {
        "colab": {
          "base_uri": "https://localhost:8080/",
          "height": 927
        },
        "id": "n9oq8bYdktKW",
        "outputId": "16f16f7d-3484-4a57-a601-e686260050c2"
      },
      "execution_count": 195,
      "outputs": [
        {
          "output_type": "display_data",
          "data": {
            "text/plain": [
              "<Figure size 640x480 with 1 Axes>"
            ],
            "image/png": "[encoded data removed]"
          },
          "metadata": {}
        },
        {
          "output_type": "display_data",
          "data": {
            "text/plain": [
              "<Figure size 640x480 with 1 Axes>"
            ],
            "image/png": "[encoded data removed]"
          },
          "metadata": {}
        }
      ]
    },
    {
      "cell_type": "markdown",
      "source": [
        "**Save Model**"
      ],
      "metadata": {
        "id": "x-__YihIuZiA"
      }
    },
    {
      "cell_type": "code",
      "source": [
        "#savedmodel\n",
        "model.save('chatbot_model.h5', history)"
      ],
      "metadata": {
        "id": "GxNDxzPAloeN"
      },
      "execution_count": 196,
      "outputs": []
    },
    {
      "cell_type": "markdown",
      "source": [
        "**Load Sources**"
      ],
      "metadata": {
        "id": "PMTTuWhjupC8"
      }
    },
    {
      "cell_type": "code",
      "source": [
        "# Load intents data\n",
        "intents = chatbot_json\n",
        "\n",
        "# Load words and classes\n",
        "words = pickle.load(open('data_words.pkl', 'rb'))\n",
        "classes = pickle.load(open('data_classes.pkl', 'rb'))\n",
        "\n",
        "# Load model\n",
        "model = load_model('chatbot_model.h5')"
      ],
      "metadata": {
        "id": "0hHTXEBAqMNG"
      },
      "execution_count": 197,
      "outputs": []
    },
    {
      "cell_type": "markdown",
      "source": [
        "**Testing Preparation**"
      ],
      "metadata": {
        "id": "ntIsm7dguStz"
      }
    },
    {
      "cell_type": "code",
      "source": [
        "#cleaning input sentences\n",
        "def clean_sentence(sentence):\n",
        "    words_in_sentence = nltk.word_tokenize(sentence) #Tokenization: words to array\n",
        "    words_in_sentence = [lemmatizer.lemmatize(word.lower()) for word in words_in_sentence] #Lemmatization: turns words into base forms\n",
        "    return words_in_sentence"
      ],
      "metadata": {
        "id": "DPKyMV2OrJR9"
      },
      "execution_count": 198,
      "outputs": []
    },
    {
      "cell_type": "code",
      "source": [
        "#bag of words from sentence\n",
        "def bow(sentence, words, show_details=True):\n",
        "    words_in_sentence = clean_sentence(sentence) # Clean sentence input\n",
        "    bag = [0]*len(words) #create list bag that will be used as the bag-of-words vector representation.\n",
        "    for word in words_in_sentence:\n",
        "        for i, word in enumerate(words):\n",
        "            bag[i] = 1 if word == sentence else bag[i] #indicates that the word is in the input sentence\n",
        "            if show_details:\n",
        "                print(\"found in bag: %s\" % word)\n",
        "                \n",
        "    #Returns a bag-of-words vector representation in the form of a numpy array.\n",
        "    return(np.array(bag)) "
      ],
      "metadata": {
        "id": "E-AHzMBGs0AL"
      },
      "execution_count": 199,
      "outputs": []
    },
    {
      "cell_type": "code",
      "source": [
        "#Intent class prediction based on input sentences using the trained model\n",
        "def predict_classes(sentence, model):\n",
        "\n",
        "    # converts input sentences into bag of words vectors as input for the model.\n",
        "    prediction = bow(sentence, words,show_details=False)\n",
        "    #Using the model to make predictions on bag-of-words vectors\n",
        "    result = model.predict(np.array([prediction]))[0] \n",
        "\n",
        "    #Filter the prediction results based on the error threshold.\n",
        "    error_threshold = 0.25\n",
        "    results = [[i,r] for i,r in enumerate(result) if r>error_threshold]\n",
        "    \n",
        "    results.sort(key=lambda x: x[1], reverse=True) #Sort the prediction results based on probability strength (in descending order).\n",
        "    return_list = [] #Intents (classes)\n",
        "    for r in results:\n",
        "        return_list.append({\"intent\": classes[r[0]], #retrieves the class (intent) from the class index stored in results \n",
        "                            \"probability\": str(r[1]) #converts probabilities to strings before saving\n",
        "                            }\n",
        "                           )\n",
        "    return return_list"
      ],
      "metadata": {
        "id": "uZRGoMDcs19k"
      },
      "execution_count": 200,
      "outputs": []
    },
    {
      "cell_type": "code",
      "source": [
        "#Get the appropriate response based on the intent predicted by the model.\n",
        "def getResponse(ints, intents_json):\n",
        "    tag = ints[0]['intent']\n",
        "    list_of_intents = intents_json\n",
        "    for i in list_of_intents:\n",
        "        if i[\"tag\"] == tag: #Checks current tag intent matches the predicted tag.\n",
        "            result = random.choice(i['responses'])\n",
        "            break\n",
        "    return result\n"
      ],
      "metadata": {
        "id": "j5tNWslAs4E6"
      },
      "execution_count": 201,
      "outputs": []
    },
    {
      "cell_type": "code",
      "source": [
        "#Get chatbot response based on model\n",
        "def chatbot_response(text):\n",
        "    ints = predict_classes(text, model)\n",
        "    response = getResponse(ints, intents)\n",
        "    return response"
      ],
      "metadata": {
        "id": "CeGbusMIs6K7"
      },
      "execution_count": 202,
      "outputs": []
    },
    {
      "cell_type": "code",
      "source": [
        "'''\n",
        "# Chatbot Greeting\n",
        "greetings_inputs = ('hai', 'hello', 'hey','whats up', 'ingin bertanya')\n",
        "greetings_responses = ('Hai, kamu punya pertanyaan apa?', 'Hallo, Ada yang bisa CarupAI bantu?', 'Sampah apa yang mau kamu tanyakan?')\n",
        "def greetings(sentence):\n",
        "    for word in sentence.split():\n",
        "        if word.lower() in greetings_inputs:\n",
        "            return random.choice(greetings_responses)\n",
        "    return None\n",
        "'''"
      ],
      "metadata": {
        "colab": {
          "base_uri": "https://localhost:8080/",
          "height": 122
        },
        "id": "w3P83FYusoPz",
        "outputId": "9adaea31-296e-4217-e1d9-5beceba5443b"
      },
      "execution_count": 76,
      "outputs": [
        {
          "output_type": "execute_result",
          "data": {
            "text/plain": [
              "\"\\n# Chatbot Greeting\\ngreetings_inputs = ('hai', 'hello', 'hey','whats up', 'ingin bertanya')\\ngreetings_responses = ('Hai, kamu punya pertanyaan apa?', 'Hallo, Ada yang bisa CarupAI bantu?', 'Sampah apa yang mau kamu tanyakan?')\\ndef greetings(sentence):\\n    for word in sentence.split():\\n        if word.lower() in greetings_inputs:\\n            return random.choice(greetings_responses)\\n    return None\\n\""
            ],
            "application/vnd.google.colaboratory.intrinsic+json": {
              "type": "string"
            }
          },
          "metadata": {},
          "execution_count": 76
        }
      ]
    },
    {
      "cell_type": "code",
      "source": [
        "# Decode the byte content to string\n",
        "chatbot_json_str = chatbot_json.decode('utf-8')\n",
        "\n",
        "# Load the JSON data\n",
        "chatbot_json = json.loads(chatbot_json_str)"
      ],
      "metadata": {
        "colab": {
          "base_uri": "https://localhost:8080/",
          "height": 235
        },
        "id": "9qwRumH2-wuo",
        "outputId": "288911a7-1e47-4a53-efa0-8f26a08fb6d4"
      },
      "execution_count": 205,
      "outputs": [
        {
          "output_type": "error",
          "ename": "AttributeError",
          "evalue": "ignored",
          "traceback": [
            "\u001b[0;31m---------------------------------------------------------------------------\u001b[0m",
            "\u001b[0;31mAttributeError\u001b[0m                            Traceback (most recent call last)",
            "\u001b[0;32m<ipython-input-205-dccc4ec0e767>\u001b[0m in \u001b[0;36m<cell line: 2>\u001b[0;34m()\u001b[0m\n\u001b[1;32m      1\u001b[0m \u001b[0;31m# Decode the byte content to string\u001b[0m\u001b[0;34m\u001b[0m\u001b[0;34m\u001b[0m\u001b[0m\n\u001b[0;32m----> 2\u001b[0;31m \u001b[0mchatbot_json_str\u001b[0m \u001b[0;34m=\u001b[0m \u001b[0mchatbot_json\u001b[0m\u001b[0;34m.\u001b[0m\u001b[0mdecode\u001b[0m\u001b[0;34m(\u001b[0m\u001b[0;34m'utf-8'\u001b[0m\u001b[0;34m)\u001b[0m\u001b[0;34m\u001b[0m\u001b[0;34m\u001b[0m\u001b[0m\n\u001b[0m\u001b[1;32m      3\u001b[0m \u001b[0;34m\u001b[0m\u001b[0m\n\u001b[1;32m      4\u001b[0m \u001b[0;31m# Load the JSON data\u001b[0m\u001b[0;34m\u001b[0m\u001b[0;34m\u001b[0m\u001b[0m\n\u001b[1;32m      5\u001b[0m \u001b[0mchatbot_json\u001b[0m \u001b[0;34m=\u001b[0m \u001b[0mjson\u001b[0m\u001b[0;34m.\u001b[0m\u001b[0mloads\u001b[0m\u001b[0;34m(\u001b[0m\u001b[0mchatbot_json_str\u001b[0m\u001b[0;34m)\u001b[0m\u001b[0;34m\u001b[0m\u001b[0;34m\u001b[0m\u001b[0m\n",
            "\u001b[0;31mAttributeError\u001b[0m: 'dict' object has no attribute 'decode'"
          ]
        }
      ]
    },
    {
      "cell_type": "markdown",
      "source": [
        "**TESTING**"
      ],
      "metadata": {
        "id": "feasmjlFyQJq"
      }
    },
    {
      "cell_type": "code",
      "source": [
        "#Chatbot Flow\n",
        "flag = True\n",
        "print('Hai, Aku CarupAI. Aku akan membantu kamu menjawab pertanyaan tentang sampah. Boleh langsung tanya aja ya')\n",
        "\n",
        "while flag:\n",
        "    newMessage = input(\"\")\n",
        "    \n",
        "    if newMessage.lower() == \"end\":\n",
        "        flag = False\n",
        "        print('CarupAI: Sampai jumpa, jangan lupa kelola sampah kamu ya!')\n",
        "    else:\n",
        "        intents = predict_classes(newMessage, model)\n",
        "        res = getResponse(intents, chatbot_json['intents'])\n",
        "        print(res)\n"
      ],
      "metadata": {
        "colab": {
          "base_uri": "https://localhost:8080/"
        },
        "id": "ICfEmZLNsple",
        "outputId": "517ae653-ce15-45a5-f41d-e7d10a5dc03c"
      },
      "execution_count": 206,
      "outputs": [
        {
          "output_type": "stream",
          "name": "stdout",
          "text": [
            "Hai, Aku CarupAI. Aku akan membantu kamu menjawab pertanyaan tentang sampah. Boleh langsung tanya aja ya\n",
            "hai\n",
            "1/1 [==============================] - 0s 63ms/step\n",
            "Ada yang bisa CarupAI bantu?\n",
            "sampah\n",
            "1/1 [==============================] - 0s 21ms/step\n",
            "Sampah adalah segala jenis material atau zat yang dihasilkan oleh manusia atau alam yang dianggap tidak berguna, tidak diinginkan, atau tidak diperlukan lagi. Sampah bisa berupa sisa-sisa makanan, kertas, plastik, logam, kaca, kain, limbah organik, dan bahan-bahan lainnya. Sampah juga dapat mencakup material yang dapat merusak lingkungan seperti baterai, bahan kimia berbahaya, atau limbah medis.\n",
            "kardus\n",
            "1/1 [==============================] - 0s 21ms/step\n",
            "Kardus adalah bahan kemasan yang terbuat dari kertas tebal yang diperkuat dengan lapisan karton atau lembaran tebal lainnya. Kardus sering digunakan untuk membuat kotak atau wadah yang kuat dan tahan lama untuk mengemas dan melindungi barang-barang selama transportasi dan penyimpanan.\n",
            "Sampah kardus merujuk pada limbah atau material sisa yang terbuat dari kardus atau mengandung kardus. Sampah kardus biasanya terdiri dari kotak kardus bekas, wadah kardus, kemasan kardus, dan produk-produk lain yang terbuat dari kardus dan tidak lagi diperlukan atau rusak.\n",
            "pengelolaan kardus\n",
            "1/1 [==============================] - 0s 22ms/step\n",
            "Hi, kamu punya pertanyaan apa?\n",
            "plastik\n",
            "1/1 [==============================] - 0s 26ms/step\n",
            "Plastik adalah bahan polimer sintetis yang terbuat dari campuran bahan kimia yang dikenal sebagai monomer. Plastik memiliki sifat fleksibel, tahan lama, ringan, dan dapat dibentuk menjadi berbagai bentuk dan ukuran. Plastik umumnya digunakan dalam berbagai aplikasi, seperti kemasan, peralatan rumah tangga, peralatan medis, industri otomotif, konstruksi, elektronik, dan banyak lagi.\n",
            " Sampah plastik merujuk pada material plastik yang sudah tidak diperlukan, rusak, atau tidak digunakan lagi, dan kemudian dibuang. Sampah plastik terdiri dari berbagai jenis plastik, seperti polietilen (PE), polipropilen (PP), polivinil klorida (PVC), polistirena (PS), polietilen tereftalat (PET), dan banyak lagi. Sampah plastik juga dapat berupa berbagai bentuk, seperti botol plastik, kemasan makanan, kantong plastik, wadah plastik, bungkus plastik, dan produk-produk plastik lainnya.\n",
            "sampah kaca\n",
            "1/1 [==============================] - 0s 22ms/step\n",
            "Ada yang bisa CarupAI bantu?\n",
            "bye\n",
            "1/1 [==============================] - 0s 25ms/step\n",
            "Okay bye. Jangan lupa kelola sampah kamu ya :)\n",
            "limbah detergen\n",
            "1/1 [==============================] - 0s 21ms/step\n",
            "Hello, Kamu mau bertanya?\n",
            "end\n",
            "CarupAI: Sampai jumpa, jangan lupa kelola sampah kamu ya!\n"
          ]
        }
      ]
    }
  ]
}